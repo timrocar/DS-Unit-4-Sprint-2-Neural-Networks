{
 "cells": [
  {
   "cell_type": "markdown",
   "metadata": {
    "colab_type": "text",
    "id": "NGGrt9EYlCqY"
   },
   "source": [
    "<img align=\"left\" src=\"https://lever-client-logos.s3.amazonaws.com/864372b1-534c-480e-acd5-9711f850815c-1524247202159.png\" width=200>\n",
    "<br></br>\n",
    "<br></br>\n",
    "\n",
    "# Train Practice\n",
    "\n",
    "## *Data Science Unit 4 Sprint 2 Assignment 2*\n",
    "\n",
    "Continue to use TensorFlow Keras & a sample of the [Quickdraw dataset](https://github.com/googlecreativelab/quickdraw-dataset) to build a sketch classification model. The dataset has been sampled to only 10 classes and 10000 observations per class. Please build a baseline classification model then run a few experiments with different optimizers and learning rates. \n",
    "\n",
    "*Don't forgot to switch to GPU on Colab!*"
   ]
  },
  {
   "cell_type": "markdown",
   "metadata": {
    "colab_type": "text",
    "id": "ptJ2b3wk62Ud"
   },
   "source": [
    "### Write a function to load your data\n",
    "\n",
    "Wrap yesterday's preprocessing steps into a function that returns four items:\n",
    "* X_train\n",
    "* y_train\n",
    "* X_test\n",
    "* y_test\n",
    "\n",
    "Your function should accept a `path` to the data as a argument."
   ]
  },
  {
   "cell_type": "code",
   "execution_count": 1,
   "metadata": {},
   "outputs": [],
   "source": [
    "import numpy as np\n",
    "from sklearn.model_selection import train_test_split\n",
    "from sklearn.utils import shuffle\n"
   ]
  },
  {
   "cell_type": "code",
   "execution_count": 2,
   "metadata": {
    "colab": {},
    "colab_type": "code",
    "id": "nJsIsrvp7O3e"
   },
   "outputs": [],
   "source": [
    "def load_quickdraw10(path):\n",
    "  data = np.load(path)\n",
    "  X = data['arr_0']\n",
    "  y = data['arr_1']\n",
    "  X, y = shuffle(X, y)\n",
    "  X_train, X_test, y_train, y_test = train_test_split(X, y, test_size=0.2,\n",
    "                                                      random_state=42)\n",
    "  \n",
    "  return X_train, y_train, X_test, y_test"
   ]
  },
  {
   "cell_type": "code",
   "execution_count": 3,
   "metadata": {},
   "outputs": [],
   "source": [
    "X_train, y_train, X_test, y_test = load_quickdraw10('../quickdraw10.npz')"
   ]
  },
  {
   "cell_type": "markdown",
   "metadata": {
    "colab_type": "text",
    "id": "l-6PxI6H5__2"
   },
   "source": [
    "### Write a Model Function\n",
    "Using your model from yesterday, write a function called `create_model` which returns a compiled TensorFlow Keras Sequential Model suitable for classifying the QuickDraw-10 dataset. Include parameters for the following: \n",
    "* Learning Rate\n",
    "* Optimizer"
   ]
  },
  {
   "cell_type": "code",
   "execution_count": 4,
   "metadata": {},
   "outputs": [],
   "source": [
    "import tensorflow as tf\n",
    "from tensorflow.keras.models import Sequential\n",
    "from tensorflow.keras.layers import Dense\n",
    "from tensorflow.keras.optimizers import SGD\n",
    "from tensorflow.keras.optimizers import Adam"
   ]
  },
  {
   "cell_type": "code",
   "execution_count": 5,
   "metadata": {
    "colab": {},
    "colab_type": "code",
    "id": "nEREYT-3wI1f"
   },
   "outputs": [],
   "source": [
    "##### Your Code Here #####\n",
    "\n",
    "def create_model(lr, optimizer = Adam):\n",
    "  optim = optimizer(learning_rate=lr)\n",
    "\n",
    "  model = Sequential(\n",
    "      [Dense(64, activation='relu', input_dim=784),\n",
    "       Dense(32, activation='relu'),\n",
    "       Dense(10, activation='softmax')]\n",
    "  )\n",
    "\n",
    "  model.compile(optimizer=optim, loss='sparse_categorical_crossentropy',\n",
    "                metrics=['accuracy'])  \n",
    "  return model"
   ]
  },
  {
   "cell_type": "markdown",
   "metadata": {
    "colab_type": "text",
    "id": "f0pCkh8C7eGL"
   },
   "source": [
    "### Experiment with Batch Size\n",
    "* Run 5 experiments with various batch sizes of your choice. \n",
    "* Visualize the results\n",
    "* Write up an analysis of the experiments and select the \"best\" performing model among your experiments. Make sure to compare against your model's performance yesterday. "
   ]
  },
  {
   "cell_type": "code",
   "execution_count": 6,
   "metadata": {},
   "outputs": [
    {
     "name": "stdout",
     "output_type": "stream",
     "text": [
      "Epoch 1/10\n",
      "   1/2500 [..............................] - ETA: 0s - loss: 131.6105 - accuracy: 0.0625WARNING:tensorflow:Callbacks method `on_train_batch_end` is slow compared to the batch time (batch time: 0.0000s vs `on_train_batch_end` time: 0.0010s). Check your callbacks.\n",
      "2500/2500 [==============================] - 2s 617us/step - loss: 2.3392 - accuracy: 0.3196 - val_loss: 1.4606 - val_accuracy: 0.4465\n",
      "Epoch 2/10\n",
      "2500/2500 [==============================] - 1s 576us/step - loss: 1.4535 - accuracy: 0.4571 - val_loss: 1.4248 - val_accuracy: 0.4658\n",
      "Epoch 3/10\n",
      "2500/2500 [==============================] - 1s 577us/step - loss: 1.6253 - accuracy: 0.3872 - val_loss: 1.5978 - val_accuracy: 0.4012\n",
      "Epoch 4/10\n",
      "2500/2500 [==============================] - 1s 580us/step - loss: 1.6194 - accuracy: 0.3830 - val_loss: 1.7423 - val_accuracy: 0.3458\n",
      "Epoch 5/10\n",
      "2500/2500 [==============================] - 1s 576us/step - loss: 1.8299 - accuracy: 0.3079 - val_loss: 1.9251 - val_accuracy: 0.2440\n",
      "Epoch 6/10\n",
      "2500/2500 [==============================] - 1s 573us/step - loss: 1.9486 - accuracy: 0.2107 - val_loss: 1.9791 - val_accuracy: 0.1890\n",
      "Epoch 7/10\n",
      "2500/2500 [==============================] - 1s 572us/step - loss: 1.9822 - accuracy: 0.1886 - val_loss: 2.0202 - val_accuracy: 0.1906\n",
      "Epoch 8/10\n",
      "2500/2500 [==============================] - 1s 574us/step - loss: 2.0265 - accuracy: 0.1840 - val_loss: 2.0728 - val_accuracy: 0.1751\n",
      "Epoch 9/10\n",
      "2500/2500 [==============================] - 1s 586us/step - loss: 2.0301 - accuracy: 0.1852 - val_loss: 2.0320 - val_accuracy: 0.1873\n",
      "Epoch 10/10\n",
      "2500/2500 [==============================] - 1s 583us/step - loss: 2.0128 - accuracy: 0.1855 - val_loss: 1.9881 - val_accuracy: 0.1921\n"
     ]
    }
   ],
   "source": [
    "model_one = create_model(.01)\n",
    "bt_default = model_one.fit(X_train, y_train,\n",
    "                       epochs=10,\n",
    "                       batch_size=32,\n",
    "                       validation_data=(X_test, y_test))"
   ]
  },
  {
   "cell_type": "code",
   "execution_count": 7,
   "metadata": {
    "colab": {},
    "colab_type": "code",
    "id": "USXjs7Hk71Hy"
   },
   "outputs": [
    {
     "name": "stdout",
     "output_type": "stream",
     "text": [
      "Epoch 1/20\n",
      "1250/1250 [==============================] - 1s 706us/step - loss: 2.5431 - accuracy: 0.2223 - val_loss: 1.9375 - val_accuracy: 0.2634\n",
      "Epoch 2/20\n",
      "1250/1250 [==============================] - 1s 644us/step - loss: 1.8812 - accuracy: 0.2646 - val_loss: 1.8585 - val_accuracy: 0.2663\n",
      "Epoch 3/20\n",
      "1250/1250 [==============================] - 1s 644us/step - loss: 1.8543 - accuracy: 0.2706 - val_loss: 1.8693 - val_accuracy: 0.2686\n",
      "Epoch 4/20\n",
      "1250/1250 [==============================] - 1s 642us/step - loss: 1.9960 - accuracy: 0.2304 - val_loss: 2.0020 - val_accuracy: 0.2476\n",
      "Epoch 5/20\n",
      "1250/1250 [==============================] - 1s 650us/step - loss: 1.8877 - accuracy: 0.2601 - val_loss: 1.9031 - val_accuracy: 0.2821\n",
      "Epoch 6/20\n",
      "1250/1250 [==============================] - 1s 647us/step - loss: 1.8414 - accuracy: 0.2826 - val_loss: 1.8267 - val_accuracy: 0.2898\n",
      "Epoch 7/20\n",
      "1250/1250 [==============================] - 1s 653us/step - loss: 1.7737 - accuracy: 0.3231 - val_loss: 1.7732 - val_accuracy: 0.3474\n",
      "Epoch 8/20\n",
      "1250/1250 [==============================] - 1s 649us/step - loss: 1.7451 - accuracy: 0.3255 - val_loss: 1.7854 - val_accuracy: 0.2874\n",
      "Epoch 9/20\n",
      "1250/1250 [==============================] - 1s 647us/step - loss: 1.6373 - accuracy: 0.3451 - val_loss: 1.6594 - val_accuracy: 0.3462\n",
      "Epoch 10/20\n",
      "1250/1250 [==============================] - 1s 643us/step - loss: 1.6622 - accuracy: 0.3436 - val_loss: 1.6622 - val_accuracy: 0.3467\n",
      "Epoch 11/20\n",
      "1250/1250 [==============================] - 1s 647us/step - loss: 1.6436 - accuracy: 0.3440 - val_loss: 1.6671 - val_accuracy: 0.3356\n",
      "Epoch 12/20\n",
      "1250/1250 [==============================] - 1s 653us/step - loss: 1.6694 - accuracy: 0.3392 - val_loss: 1.6783 - val_accuracy: 0.3449\n",
      "Epoch 13/20\n",
      "1250/1250 [==============================] - 1s 651us/step - loss: 1.8132 - accuracy: 0.2862 - val_loss: 1.6835 - val_accuracy: 0.3372\n",
      "Epoch 14/20\n",
      "1250/1250 [==============================] - 1s 642us/step - loss: 1.6595 - accuracy: 0.3369 - val_loss: 1.6682 - val_accuracy: 0.3518\n",
      "Epoch 15/20\n",
      "1250/1250 [==============================] - 1s 647us/step - loss: 1.7036 - accuracy: 0.3187 - val_loss: 1.8549 - val_accuracy: 0.2849\n",
      "Epoch 16/20\n",
      "1250/1250 [==============================] - 1s 646us/step - loss: 1.8300 - accuracy: 0.2557 - val_loss: 1.9798 - val_accuracy: 0.1855\n",
      "Epoch 17/20\n",
      "1250/1250 [==============================] - 1s 648us/step - loss: 1.9952 - accuracy: 0.1897 - val_loss: 1.9790 - val_accuracy: 0.1775\n",
      "Epoch 18/20\n",
      "1250/1250 [==============================] - 1s 649us/step - loss: 1.9825 - accuracy: 0.1881 - val_loss: 2.0049 - val_accuracy: 0.1803\n",
      "Epoch 19/20\n",
      "1250/1250 [==============================] - 1s 648us/step - loss: 1.9742 - accuracy: 0.1903 - val_loss: 1.9815 - val_accuracy: 0.1816\n",
      "Epoch 20/20\n",
      "1250/1250 [==============================] - 1s 650us/step - loss: 1.9930 - accuracy: 0.1856 - val_loss: 1.9784 - val_accuracy: 0.1846\n"
     ]
    }
   ],
   "source": [
    "model_two = create_model(.01)\n",
    "bt_default = model_two.fit(X_train, y_train,\n",
    "                       epochs=20,\n",
    "                       batch_size=64,\n",
    "                       validation_data=(X_test, y_test))"
   ]
  },
  {
   "cell_type": "code",
   "execution_count": 8,
   "metadata": {},
   "outputs": [
    {
     "name": "stdout",
     "output_type": "stream",
     "text": [
      "Epoch 1/10\n",
      "10000/10000 [==============================] - 5s 491us/step - loss: 2.4203 - accuracy: 0.1010 - val_loss: 2.3046 - val_accuracy: 0.0983\n",
      "Epoch 2/10\n",
      "10000/10000 [==============================] - 5s 484us/step - loss: 2.3059 - accuracy: 0.0986 - val_loss: 2.3062 - val_accuracy: 0.0983\n",
      "Epoch 3/10\n",
      "10000/10000 [==============================] - 5s 482us/step - loss: 2.3053 - accuracy: 0.0989 - val_loss: 2.3051 - val_accuracy: 0.0997\n",
      "Epoch 4/10\n",
      "10000/10000 [==============================] - 5s 487us/step - loss: 2.3052 - accuracy: 0.1002 - val_loss: 2.3068 - val_accuracy: 0.0987\n",
      "Epoch 5/10\n",
      "10000/10000 [==============================] - 5s 488us/step - loss: 2.3053 - accuracy: 0.0994 - val_loss: 2.3038 - val_accuracy: 0.0997\n",
      "Epoch 6/10\n",
      "10000/10000 [==============================] - 5s 487us/step - loss: 2.3053 - accuracy: 0.0988 - val_loss: 2.3047 - val_accuracy: 0.0997\n",
      "Epoch 7/10\n",
      "10000/10000 [==============================] - 5s 490us/step - loss: 2.3053 - accuracy: 0.0998 - val_loss: 2.3065 - val_accuracy: 0.0993\n",
      "Epoch 8/10\n",
      "10000/10000 [==============================] - 5s 488us/step - loss: 2.3051 - accuracy: 0.1000 - val_loss: 2.3067 - val_accuracy: 0.1041\n",
      "Epoch 9/10\n",
      "10000/10000 [==============================] - 5s 490us/step - loss: 2.3051 - accuracy: 0.1005 - val_loss: 2.3058 - val_accuracy: 0.1018\n",
      "Epoch 10/10\n",
      "10000/10000 [==============================] - 5s 485us/step - loss: 2.3051 - accuracy: 0.1012 - val_loss: 2.3035 - val_accuracy: 0.1041\n"
     ]
    }
   ],
   "source": [
    "model_three = create_model(.01)\n",
    "bt_default = model_three.fit(X_train, y_train,\n",
    "                       epochs=10,\n",
    "                       batch_size=8,\n",
    "                       validation_data=(X_test, y_test))"
   ]
  },
  {
   "cell_type": "code",
   "execution_count": 9,
   "metadata": {},
   "outputs": [
    {
     "name": "stdout",
     "output_type": "stream",
     "text": [
      "Epoch 1/20\n",
      "5000/5000 [==============================] - 3s 553us/step - loss: 1.8547 - accuracy: 0.6398 - val_loss: 0.9108 - val_accuracy: 0.7384\n",
      "Epoch 2/20\n",
      "5000/5000 [==============================] - 3s 523us/step - loss: 0.8454 - accuracy: 0.7497 - val_loss: 0.8028 - val_accuracy: 0.7696\n",
      "Epoch 3/20\n",
      "5000/5000 [==============================] - 3s 526us/step - loss: 0.7539 - accuracy: 0.7762 - val_loss: 0.7888 - val_accuracy: 0.7695\n",
      "Epoch 4/20\n",
      "5000/5000 [==============================] - 3s 529us/step - loss: 0.7061 - accuracy: 0.7909 - val_loss: 0.7516 - val_accuracy: 0.7879\n",
      "Epoch 5/20\n",
      "5000/5000 [==============================] - 3s 524us/step - loss: 0.6823 - accuracy: 0.7963 - val_loss: 0.7000 - val_accuracy: 0.7940\n",
      "Epoch 6/20\n",
      "5000/5000 [==============================] - 3s 520us/step - loss: 0.6549 - accuracy: 0.8056 - val_loss: 0.6985 - val_accuracy: 0.7959\n",
      "Epoch 7/20\n",
      "5000/5000 [==============================] - 3s 519us/step - loss: 0.6417 - accuracy: 0.8097 - val_loss: 0.7065 - val_accuracy: 0.7932\n",
      "Epoch 8/20\n",
      "5000/5000 [==============================] - 3s 531us/step - loss: 0.6276 - accuracy: 0.8138 - val_loss: 0.6872 - val_accuracy: 0.7979\n",
      "Epoch 9/20\n",
      "5000/5000 [==============================] - 3s 535us/step - loss: 0.6202 - accuracy: 0.8158 - val_loss: 0.6821 - val_accuracy: 0.8018\n",
      "Epoch 10/20\n",
      "5000/5000 [==============================] - 3s 532us/step - loss: 0.6112 - accuracy: 0.8203 - val_loss: 0.6816 - val_accuracy: 0.8061\n",
      "Epoch 11/20\n",
      "5000/5000 [==============================] - 3s 529us/step - loss: 0.6042 - accuracy: 0.8209 - val_loss: 0.7173 - val_accuracy: 0.8058\n",
      "Epoch 12/20\n",
      "5000/5000 [==============================] - 3s 536us/step - loss: 0.5971 - accuracy: 0.8235 - val_loss: 0.6979 - val_accuracy: 0.8030\n",
      "Epoch 13/20\n",
      "5000/5000 [==============================] - 3s 531us/step - loss: 0.5922 - accuracy: 0.8254 - val_loss: 0.6912 - val_accuracy: 0.8062\n",
      "Epoch 14/20\n",
      "5000/5000 [==============================] - 3s 524us/step - loss: 0.5795 - accuracy: 0.8274 - val_loss: 0.6982 - val_accuracy: 0.8083\n",
      "Epoch 15/20\n",
      "5000/5000 [==============================] - 3s 530us/step - loss: 0.5808 - accuracy: 0.8286 - val_loss: 0.6977 - val_accuracy: 0.8012\n",
      "Epoch 16/20\n",
      "5000/5000 [==============================] - 3s 526us/step - loss: 0.5755 - accuracy: 0.8309 - val_loss: 0.6956 - val_accuracy: 0.8041\n",
      "Epoch 17/20\n",
      "5000/5000 [==============================] - 3s 535us/step - loss: 0.5680 - accuracy: 0.8321 - val_loss: 0.6836 - val_accuracy: 0.8098\n",
      "Epoch 18/20\n",
      "5000/5000 [==============================] - 3s 528us/step - loss: 0.5631 - accuracy: 0.8334 - val_loss: 0.6986 - val_accuracy: 0.8049\n",
      "Epoch 19/20\n",
      "5000/5000 [==============================] - 3s 526us/step - loss: 0.5600 - accuracy: 0.8350 - val_loss: 0.7043 - val_accuracy: 0.8056\n",
      "Epoch 20/20\n",
      "5000/5000 [==============================] - 3s 536us/step - loss: 0.5585 - accuracy: 0.8357 - val_loss: 0.7227 - val_accuracy: 0.8056\n"
     ]
    }
   ],
   "source": [
    "model_four = create_model(.001)\n",
    "bt_default = model_four.fit(X_train, y_train,\n",
    "                       epochs=20,\n",
    "                       batch_size=16,\n",
    "                       validation_data=(X_test, y_test))"
   ]
  },
  {
   "cell_type": "code",
   "execution_count": 10,
   "metadata": {},
   "outputs": [
    {
     "name": "stdout",
     "output_type": "stream",
     "text": [
      "Epoch 1/20\n",
      "6667/6667 [==============================] - 4s 533us/step - loss: 1.8411 - accuracy: 0.4744 - val_loss: 1.0971 - val_accuracy: 0.6474\n",
      "Epoch 2/20\n",
      "6667/6667 [==============================] - 4s 535us/step - loss: 0.9337 - accuracy: 0.7176 - val_loss: 0.8495 - val_accuracy: 0.7501\n",
      "Epoch 3/20\n",
      "6667/6667 [==============================] - 4s 532us/step - loss: 0.7988 - accuracy: 0.7648 - val_loss: 0.8040 - val_accuracy: 0.7711\n",
      "Epoch 4/20\n",
      "6667/6667 [==============================] - 4s 534us/step - loss: 0.7444 - accuracy: 0.7815 - val_loss: 0.7997 - val_accuracy: 0.7573\n",
      "Epoch 5/20\n",
      "6667/6667 [==============================] - 4s 539us/step - loss: 0.7041 - accuracy: 0.7936 - val_loss: 0.7290 - val_accuracy: 0.7904\n",
      "Epoch 6/20\n",
      "6667/6667 [==============================] - 4s 542us/step - loss: 0.6785 - accuracy: 0.8026 - val_loss: 0.7713 - val_accuracy: 0.7810\n",
      "Epoch 7/20\n",
      "6667/6667 [==============================] - 4s 533us/step - loss: 0.6582 - accuracy: 0.8091 - val_loss: 0.7456 - val_accuracy: 0.7926\n",
      "Epoch 8/20\n",
      "6667/6667 [==============================] - 4s 533us/step - loss: 0.6376 - accuracy: 0.8145 - val_loss: 0.7290 - val_accuracy: 0.8000\n",
      "Epoch 9/20\n",
      "6667/6667 [==============================] - 4s 533us/step - loss: 0.6297 - accuracy: 0.8178 - val_loss: 0.7490 - val_accuracy: 0.7915\n",
      "Epoch 10/20\n",
      "6667/6667 [==============================] - 4s 536us/step - loss: 0.6159 - accuracy: 0.8224 - val_loss: 0.7175 - val_accuracy: 0.8099\n",
      "Epoch 11/20\n",
      "6667/6667 [==============================] - 4s 537us/step - loss: 0.6028 - accuracy: 0.8260 - val_loss: 0.7723 - val_accuracy: 0.7739\n",
      "Epoch 12/20\n",
      "6667/6667 [==============================] - 4s 540us/step - loss: 0.5959 - accuracy: 0.8288 - val_loss: 0.7524 - val_accuracy: 0.7994\n",
      "Epoch 13/20\n",
      "6667/6667 [==============================] - 4s 538us/step - loss: 0.5861 - accuracy: 0.8299 - val_loss: 0.7954 - val_accuracy: 0.8045\n",
      "Epoch 14/20\n",
      "6667/6667 [==============================] - 4s 531us/step - loss: 0.5763 - accuracy: 0.8318 - val_loss: 0.7291 - val_accuracy: 0.8063\n",
      "Epoch 15/20\n",
      "6667/6667 [==============================] - 4s 537us/step - loss: 0.5754 - accuracy: 0.8343 - val_loss: 0.7927 - val_accuracy: 0.8089\n",
      "Epoch 16/20\n",
      "6667/6667 [==============================] - 4s 537us/step - loss: 0.5754 - accuracy: 0.8363 - val_loss: 0.7726 - val_accuracy: 0.7986\n",
      "Epoch 17/20\n",
      "6667/6667 [==============================] - 4s 538us/step - loss: 0.5667 - accuracy: 0.8373 - val_loss: 0.8003 - val_accuracy: 0.8109\n",
      "Epoch 18/20\n",
      "6667/6667 [==============================] - 4s 541us/step - loss: 0.5687 - accuracy: 0.8380 - val_loss: 0.7591 - val_accuracy: 0.8073\n",
      "Epoch 19/20\n",
      "6667/6667 [==============================] - 4s 536us/step - loss: 0.5525 - accuracy: 0.8413 - val_loss: 0.7860 - val_accuracy: 0.8060\n",
      "Epoch 20/20\n",
      "6667/6667 [==============================] - 4s 536us/step - loss: 0.5592 - accuracy: 0.8417 - val_loss: 0.7895 - val_accuracy: 0.8094\n"
     ]
    }
   ],
   "source": [
    "model_five = create_model(.001)\n",
    "bt_default = model_five.fit(X_train, y_train,\n",
    "                       epochs=20,\n",
    "                       batch_size=12,\n",
    "                       validation_data=(X_test, y_test))"
   ]
  },
  {
   "cell_type": "code",
   "execution_count": 20,
   "metadata": {},
   "outputs": [
    {
     "name": "stdout",
     "output_type": "stream",
     "text": [
      "Epoch 1/20\n",
      "2500/2500 [==============================] - 2s 626us/step - loss: 6.9541 - accuracy: 0.2117 - val_loss: 2.1192 - val_accuracy: 0.2248\n",
      "Epoch 2/20\n",
      "2500/2500 [==============================] - 2s 600us/step - loss: 1.9837 - accuracy: 0.2726 - val_loss: 1.8646 - val_accuracy: 0.3256\n",
      "Epoch 3/20\n",
      "2500/2500 [==============================] - 1s 588us/step - loss: 1.7547 - accuracy: 0.3648 - val_loss: 1.7086 - val_accuracy: 0.3763\n",
      "Epoch 4/20\n",
      "2500/2500 [==============================] - 2s 615us/step - loss: 1.6152 - accuracy: 0.4035 - val_loss: 1.6116 - val_accuracy: 0.4096\n",
      "Epoch 5/20\n",
      "2500/2500 [==============================] - 2s 619us/step - loss: 1.4827 - accuracy: 0.4435 - val_loss: 1.5017 - val_accuracy: 0.4672\n",
      "Epoch 6/20\n",
      "2500/2500 [==============================] - 2s 607us/step - loss: 1.3609 - accuracy: 0.4934 - val_loss: 1.4274 - val_accuracy: 0.5165\n",
      "Epoch 7/20\n",
      "2500/2500 [==============================] - 2s 605us/step - loss: 1.2699 - accuracy: 0.5331 - val_loss: 1.3214 - val_accuracy: 0.5332\n",
      "Epoch 8/20\n",
      "2500/2500 [==============================] - 1s 596us/step - loss: 1.1795 - accuracy: 0.5713 - val_loss: 1.2435 - val_accuracy: 0.5857\n",
      "Epoch 9/20\n",
      "2500/2500 [==============================] - 1s 593us/step - loss: 1.0984 - accuracy: 0.6081 - val_loss: 1.1849 - val_accuracy: 0.6051\n",
      "Epoch 10/20\n",
      "2500/2500 [==============================] - 1s 591us/step - loss: 1.0329 - accuracy: 0.6351 - val_loss: 1.1271 - val_accuracy: 0.6381\n",
      "Epoch 11/20\n",
      "2500/2500 [==============================] - 2s 601us/step - loss: 0.9769 - accuracy: 0.6582 - val_loss: 1.0768 - val_accuracy: 0.6532\n",
      "Epoch 12/20\n",
      "2500/2500 [==============================] - 1s 590us/step - loss: 0.9293 - accuracy: 0.6759 - val_loss: 1.0364 - val_accuracy: 0.6700\n",
      "Epoch 13/20\n",
      "2500/2500 [==============================] - 1s 591us/step - loss: 0.8854 - accuracy: 0.6935 - val_loss: 1.0003 - val_accuracy: 0.6793\n",
      "Epoch 14/20\n",
      "2500/2500 [==============================] - 1s 594us/step - loss: 0.8442 - accuracy: 0.7103 - val_loss: 0.9649 - val_accuracy: 0.6908\n",
      "Epoch 15/20\n",
      "2500/2500 [==============================] - 1s 592us/step - loss: 0.8056 - accuracy: 0.7268 - val_loss: 0.9323 - val_accuracy: 0.7085\n",
      "Epoch 16/20\n",
      "2500/2500 [==============================] - 1s 593us/step - loss: 0.7713 - accuracy: 0.7421 - val_loss: 0.9041 - val_accuracy: 0.7272\n",
      "Epoch 17/20\n",
      "2500/2500 [==============================] - 2s 603us/step - loss: 0.7339 - accuracy: 0.7607 - val_loss: 0.8770 - val_accuracy: 0.7436\n",
      "Epoch 18/20\n",
      "2500/2500 [==============================] - 2s 603us/step - loss: 0.6946 - accuracy: 0.7804 - val_loss: 0.8478 - val_accuracy: 0.7650\n",
      "Epoch 19/20\n",
      "2500/2500 [==============================] - 1s 589us/step - loss: 0.6657 - accuracy: 0.7923 - val_loss: 0.8272 - val_accuracy: 0.7758\n",
      "Epoch 20/20\n",
      "2500/2500 [==============================] - 1s 600us/step - loss: 0.6416 - accuracy: 0.8018 - val_loss: 0.8149 - val_accuracy: 0.7796\n"
     ]
    }
   ],
   "source": [
    "model_six = create_model(.0001)\n",
    "bt_default_32 = model_six.fit(X_train, y_train,\n",
    "                       epochs=20,\n",
    "                       batch_size=32,\n",
    "                       validation_data=(X_test, y_test))"
   ]
  },
  {
   "cell_type": "code",
   "execution_count": 21,
   "metadata": {
    "colab": {},
    "colab_type": "code",
    "id": "_SA144xx8Luf"
   },
   "outputs": [
    {
     "name": "stdout",
     "output_type": "stream",
     "text": [
      "Epoch 1/20\n",
      "    1/10000 [..............................] - ETA: 0s - loss: 132.6767 - accuracy: 0.2500WARNING:tensorflow:Callbacks method `on_train_batch_end` is slow compared to the batch time (batch time: 0.0000s vs `on_train_batch_end` time: 0.0010s). Check your callbacks.\n",
      "10000/10000 [==============================] - 5s 506us/step - loss: 3.4953 - accuracy: 0.3052 - val_loss: 1.6370 - val_accuracy: 0.4671\n",
      "Epoch 2/20\n",
      "10000/10000 [==============================] - 5s 522us/step - loss: 1.4423 - accuracy: 0.5077 - val_loss: 1.3377 - val_accuracy: 0.5677\n",
      "Epoch 3/20\n",
      "10000/10000 [==============================] - 5s 515us/step - loss: 1.1856 - accuracy: 0.5986 - val_loss: 1.1245 - val_accuracy: 0.6291\n",
      "Epoch 4/20\n",
      "10000/10000 [==============================] - 5s 517us/step - loss: 0.9995 - accuracy: 0.6759 - val_loss: 0.9790 - val_accuracy: 0.6882\n",
      "Epoch 5/20\n",
      "10000/10000 [==============================] - 5s 503us/step - loss: 0.8684 - accuracy: 0.7289 - val_loss: 0.8856 - val_accuracy: 0.7420\n",
      "Epoch 6/20\n",
      "10000/10000 [==============================] - 5s 511us/step - loss: 0.7716 - accuracy: 0.7643 - val_loss: 0.8130 - val_accuracy: 0.7602\n",
      "Epoch 7/20\n",
      "10000/10000 [==============================] - 5s 497us/step - loss: 0.6986 - accuracy: 0.7879 - val_loss: 0.7685 - val_accuracy: 0.7739\n",
      "Epoch 8/20\n",
      "10000/10000 [==============================] - 5s 492us/step - loss: 0.6485 - accuracy: 0.8058 - val_loss: 0.7156 - val_accuracy: 0.7901\n",
      "Epoch 9/20\n",
      "10000/10000 [==============================] - 5s 489us/step - loss: 0.6092 - accuracy: 0.8194 - val_loss: 0.6738 - val_accuracy: 0.8021\n",
      "Epoch 10/20\n",
      "10000/10000 [==============================] - 5s 494us/step - loss: 0.5784 - accuracy: 0.8286 - val_loss: 0.6624 - val_accuracy: 0.8130\n",
      "Epoch 11/20\n",
      "10000/10000 [==============================] - 5s 498us/step - loss: 0.5533 - accuracy: 0.8349 - val_loss: 0.6649 - val_accuracy: 0.8090\n",
      "Epoch 12/20\n",
      "10000/10000 [==============================] - 5s 493us/step - loss: 0.5336 - accuracy: 0.8403 - val_loss: 0.6480 - val_accuracy: 0.8120\n",
      "Epoch 13/20\n",
      "10000/10000 [==============================] - 5s 490us/step - loss: 0.5125 - accuracy: 0.8464 - val_loss: 0.6569 - val_accuracy: 0.8073\n",
      "Epoch 14/20\n",
      "10000/10000 [==============================] - 5s 498us/step - loss: 0.4969 - accuracy: 0.8508 - val_loss: 0.6378 - val_accuracy: 0.8182\n",
      "Epoch 15/20\n",
      "10000/10000 [==============================] - 5s 492us/step - loss: 0.4820 - accuracy: 0.8554 - val_loss: 0.6392 - val_accuracy: 0.8205\n",
      "Epoch 16/20\n",
      "10000/10000 [==============================] - 5s 489us/step - loss: 0.4689 - accuracy: 0.8612 - val_loss: 0.6651 - val_accuracy: 0.8220\n",
      "Epoch 17/20\n",
      "10000/10000 [==============================] - 5s 489us/step - loss: 0.4580 - accuracy: 0.8634 - val_loss: 0.6559 - val_accuracy: 0.8227\n",
      "Epoch 18/20\n",
      "10000/10000 [==============================] - 5s 491us/step - loss: 0.4487 - accuracy: 0.8678 - val_loss: 0.6683 - val_accuracy: 0.8211\n",
      "Epoch 19/20\n",
      "10000/10000 [==============================] - 5s 494us/step - loss: 0.4369 - accuracy: 0.8700 - val_loss: 0.6627 - val_accuracy: 0.8223\n",
      "Epoch 20/20\n",
      "10000/10000 [==============================] - 5s 494us/step - loss: 0.4288 - accuracy: 0.8727 - val_loss: 0.6615 - val_accuracy: 0.8196\n"
     ]
    }
   ],
   "source": [
    "model_seven = create_model(.0001)\n",
    "bt_default_8 = model_seven.fit(X_train, y_train,\n",
    "                       epochs=20,\n",
    "                       batch_size=8,\n",
    "                       validation_data=(X_test, y_test))"
   ]
  },
  {
   "cell_type": "code",
   "execution_count": 22,
   "metadata": {},
   "outputs": [
    {
     "name": "stdout",
     "output_type": "stream",
     "text": [
      "Epoch 1/20\n",
      "1250/1250 [==============================] - 1s 706us/step - loss: 7.7709 - accuracy: 0.1894 - val_loss: 2.1990 - val_accuracy: 0.2036\n",
      "Epoch 2/20\n",
      "1250/1250 [==============================] - 1s 651us/step - loss: 2.0844 - accuracy: 0.2360 - val_loss: 2.0302 - val_accuracy: 0.2672\n",
      "Epoch 3/20\n",
      "1250/1250 [==============================] - 1s 654us/step - loss: 1.9165 - accuracy: 0.3054 - val_loss: 1.8687 - val_accuracy: 0.3376\n",
      "Epoch 4/20\n",
      "1250/1250 [==============================] - 1s 646us/step - loss: 1.7498 - accuracy: 0.3611 - val_loss: 1.7496 - val_accuracy: 0.3663\n",
      "Epoch 5/20\n",
      "1250/1250 [==============================] - 1s 646us/step - loss: 1.6242 - accuracy: 0.4089 - val_loss: 1.6330 - val_accuracy: 0.4328\n",
      "Epoch 6/20\n",
      "1250/1250 [==============================] - 1s 648us/step - loss: 1.4986 - accuracy: 0.4610 - val_loss: 1.5284 - val_accuracy: 0.4733\n",
      "Epoch 7/20\n",
      "1250/1250 [==============================] - 1s 671us/step - loss: 1.4039 - accuracy: 0.4957 - val_loss: 1.4688 - val_accuracy: 0.4966\n",
      "Epoch 8/20\n",
      "1250/1250 [==============================] - 1s 654us/step - loss: 1.3242 - accuracy: 0.5261 - val_loss: 1.4060 - val_accuracy: 0.5275\n",
      "Epoch 9/20\n",
      "1250/1250 [==============================] - 1s 665us/step - loss: 1.2439 - accuracy: 0.5608 - val_loss: 1.3309 - val_accuracy: 0.5663\n",
      "Epoch 10/20\n",
      "1250/1250 [==============================] - 1s 642us/step - loss: 1.1750 - accuracy: 0.5898 - val_loss: 1.2803 - val_accuracy: 0.5874\n",
      "Epoch 11/20\n",
      "1250/1250 [==============================] - 1s 650us/step - loss: 1.1178 - accuracy: 0.6134 - val_loss: 1.2418 - val_accuracy: 0.6144\n",
      "Epoch 12/20\n",
      "1250/1250 [==============================] - 1s 657us/step - loss: 1.0655 - accuracy: 0.6358 - val_loss: 1.1938 - val_accuracy: 0.6308\n",
      "Epoch 13/20\n",
      "1250/1250 [==============================] - 1s 654us/step - loss: 1.0212 - accuracy: 0.6536 - val_loss: 1.1555 - val_accuracy: 0.6474\n",
      "Epoch 14/20\n",
      "1250/1250 [==============================] - 1s 659us/step - loss: 0.9804 - accuracy: 0.6720 - val_loss: 1.1254 - val_accuracy: 0.6626\n",
      "Epoch 15/20\n",
      "1250/1250 [==============================] - 1s 657us/step - loss: 0.9388 - accuracy: 0.6909 - val_loss: 1.1028 - val_accuracy: 0.6883\n",
      "Epoch 16/20\n",
      "1250/1250 [==============================] - 1s 650us/step - loss: 0.9006 - accuracy: 0.7050 - val_loss: 1.0606 - val_accuracy: 0.6885\n",
      "Epoch 17/20\n",
      "1250/1250 [==============================] - 1s 652us/step - loss: 0.8602 - accuracy: 0.7187 - val_loss: 1.0298 - val_accuracy: 0.7046\n",
      "Epoch 18/20\n",
      "1250/1250 [==============================] - 1s 659us/step - loss: 0.8244 - accuracy: 0.7334 - val_loss: 1.0175 - val_accuracy: 0.7143\n",
      "Epoch 19/20\n",
      "1250/1250 [==============================] - 1s 657us/step - loss: 0.7921 - accuracy: 0.7436 - val_loss: 0.9890 - val_accuracy: 0.7232\n",
      "Epoch 20/20\n",
      "1250/1250 [==============================] - 1s 666us/step - loss: 0.7659 - accuracy: 0.7539 - val_loss: 0.9799 - val_accuracy: 0.7322\n"
     ]
    }
   ],
   "source": [
    "model_eight = create_model(.0001)\n",
    "bt_default_64 = model_eight.fit(X_train, y_train,\n",
    "                       epochs=20,\n",
    "                       batch_size=64,\n",
    "                       validation_data=(X_test, y_test))"
   ]
  },
  {
   "cell_type": "code",
   "execution_count": 24,
   "metadata": {},
   "outputs": [
    {
     "data": {
      "text/html": [
       "<div>\n",
       "<style scoped>\n",
       "    .dataframe tbody tr th:only-of-type {\n",
       "        vertical-align: middle;\n",
       "    }\n",
       "\n",
       "    .dataframe tbody tr th {\n",
       "        vertical-align: top;\n",
       "    }\n",
       "\n",
       "    .dataframe thead th {\n",
       "        text-align: right;\n",
       "    }\n",
       "</style>\n",
       "<table border=\"1\" class=\"dataframe\">\n",
       "  <thead>\n",
       "    <tr style=\"text-align: right;\">\n",
       "      <th></th>\n",
       "      <th>loss</th>\n",
       "      <th>accuracy</th>\n",
       "      <th>val_loss</th>\n",
       "      <th>val_accuracy</th>\n",
       "      <th>epoch</th>\n",
       "      <th>Batch Size</th>\n",
       "    </tr>\n",
       "  </thead>\n",
       "  <tbody>\n",
       "    <tr>\n",
       "      <th>0</th>\n",
       "      <td>6.954078</td>\n",
       "      <td>0.211663</td>\n",
       "      <td>2.119152</td>\n",
       "      <td>0.22485</td>\n",
       "      <td>0</td>\n",
       "      <td>32_</td>\n",
       "    </tr>\n",
       "    <tr>\n",
       "      <th>1</th>\n",
       "      <td>1.983663</td>\n",
       "      <td>0.272625</td>\n",
       "      <td>1.864602</td>\n",
       "      <td>0.32560</td>\n",
       "      <td>1</td>\n",
       "      <td>32_</td>\n",
       "    </tr>\n",
       "    <tr>\n",
       "      <th>2</th>\n",
       "      <td>1.754693</td>\n",
       "      <td>0.364787</td>\n",
       "      <td>1.708585</td>\n",
       "      <td>0.37630</td>\n",
       "      <td>2</td>\n",
       "      <td>32_</td>\n",
       "    </tr>\n",
       "    <tr>\n",
       "      <th>3</th>\n",
       "      <td>1.615209</td>\n",
       "      <td>0.403450</td>\n",
       "      <td>1.611564</td>\n",
       "      <td>0.40960</td>\n",
       "      <td>3</td>\n",
       "      <td>32_</td>\n",
       "    </tr>\n",
       "    <tr>\n",
       "      <th>4</th>\n",
       "      <td>1.482667</td>\n",
       "      <td>0.443475</td>\n",
       "      <td>1.501701</td>\n",
       "      <td>0.46720</td>\n",
       "      <td>4</td>\n",
       "      <td>32_</td>\n",
       "    </tr>\n",
       "  </tbody>\n",
       "</table>\n",
       "</div>"
      ],
      "text/plain": [
       "       loss  accuracy  val_loss  val_accuracy  epoch Batch Size\n",
       "0  6.954078  0.211663  2.119152       0.22485      0        32_\n",
       "1  1.983663  0.272625  1.864602       0.32560      1        32_\n",
       "2  1.754693  0.364787  1.708585       0.37630      2        32_\n",
       "3  1.615209  0.403450  1.611564       0.40960      3        32_\n",
       "4  1.482667  0.443475  1.501701       0.46720      4        32_"
      ]
     },
     "execution_count": 24,
     "metadata": {},
     "output_type": "execute_result"
    }
   ],
   "source": [
    "import seaborn as sns\n",
    "import pandas as pd\n",
    "\n",
    "batch_sizes = []\n",
    "\n",
    "for exp, result in zip([bt_default_32, bt_default_64, bt_default_8], [\"32_\", \"64_\", \"8_\"]):\n",
    "    \n",
    "    df = pd.DataFrame.from_dict(exp.history)\n",
    "    df['epoch'] = df.index.values\n",
    "    df['Batch Size'] = result\n",
    "\n",
    "    batch_sizes.append(df)\n",
    "\n",
    "df = pd.concat(batch_sizes)\n",
    "df['Batch Size'] = df['Batch Size'].astype('str')\n",
    "df.head()"
   ]
  },
  {
   "cell_type": "code",
   "execution_count": 25,
   "metadata": {},
   "outputs": [
    {
     "data": {
      "image/png": "[encoded data removed]",
      "text/plain": [
       "<Figure size 432x288 with 1 Axes>"
      ]
     },
     "metadata": {
      "needs_background": "light"
     },
     "output_type": "display_data"
    }
   ],
   "source": [
    "sns.lineplot(x='epoch', y='val_accuracy', hue='Batch Size', data=df);"
   ]
  },
  {
   "cell_type": "code",
   "execution_count": null,
   "metadata": {},
   "outputs": [],
   "source": [
    "exp.history"
   ]
  },
  {
   "cell_type": "code",
   "execution_count": null,
   "metadata": {},
   "outputs": [],
   "source": [
    "sns.lineplot(x='epoch', y='val_accuracy', hue='Batch Size', data=df);"
   ]
  },
  {
   "cell_type": "markdown",
   "metadata": {
    "colab_type": "text",
    "id": "8b-r70o8p2Dm"
   },
   "source": [
    "### Experiment with Learning Rate\n",
    "* Run 5 experiments with various learning rate magnitudes: 1, .1, .01, .001, .0001.\n",
    "* Use the \"best\" batch size from the previous experiment\n",
    "* Visualize the results\n",
    "* Write up an analysis of the experiments and select the \"best\" performing model among your experiments. Make sure to compare against the previous experiments and your model's performance yesterday. "
   ]
  },
  {
   "cell_type": "code",
   "execution_count": 28,
   "metadata": {},
   "outputs": [
    {
     "name": "stdout",
     "output_type": "stream",
     "text": [
      "Epoch 1/20\n",
      "10000/10000 [==============================] - 5s 516us/step - loss: 703.1440 - accuracy: 0.0994 - val_loss: 2.5573 - val_accuracy: 0.0997\n",
      "Epoch 2/20\n",
      "10000/10000 [==============================] - 5s 497us/step - loss: 2.5489 - accuracy: 0.0998 - val_loss: 2.4528 - val_accuracy: 0.0997\n",
      "Epoch 3/20\n",
      "10000/10000 [==============================] - 5s 497us/step - loss: 2.5461 - accuracy: 0.0997 - val_loss: 2.4794 - val_accuracy: 0.1018\n",
      "Epoch 4/20\n",
      "10000/10000 [==============================] - 5s 502us/step - loss: 2.5438 - accuracy: 0.1005 - val_loss: 2.4609 - val_accuracy: 0.1041\n",
      "Epoch 5/20\n",
      "10000/10000 [==============================] - 5s 500us/step - loss: 2.5480 - accuracy: 0.0976 - val_loss: 2.6760 - val_accuracy: 0.0984\n",
      "Epoch 6/20\n",
      "10000/10000 [==============================] - 5s 500us/step - loss: 2.5429 - accuracy: 0.0995 - val_loss: 2.4875 - val_accuracy: 0.1041\n",
      "Epoch 7/20\n",
      "10000/10000 [==============================] - 5s 503us/step - loss: 2.5428 - accuracy: 0.0987 - val_loss: 2.5807 - val_accuracy: 0.1020\n",
      "Epoch 8/20\n",
      "10000/10000 [==============================] - 5s 511us/step - loss: 2.5492 - accuracy: 0.1002 - val_loss: 2.4278 - val_accuracy: 0.0983\n",
      "Epoch 9/20\n",
      "10000/10000 [==============================] - 5s 505us/step - loss: 2.5493 - accuracy: 0.1006 - val_loss: 2.6409 - val_accuracy: 0.0997\n",
      "Epoch 10/20\n",
      "10000/10000 [==============================] - 5s 497us/step - loss: 2.5453 - accuracy: 0.1002 - val_loss: 2.6619 - val_accuracy: 0.0997\n",
      "Epoch 11/20\n",
      "10000/10000 [==============================] - 5s 509us/step - loss: 2.5483 - accuracy: 0.0985 - val_loss: 2.4914 - val_accuracy: 0.1020\n",
      "Epoch 12/20\n",
      "10000/10000 [==============================] - 5s 498us/step - loss: 2.5477 - accuracy: 0.1004 - val_loss: 2.6068 - val_accuracy: 0.1020\n",
      "Epoch 13/20\n",
      "10000/10000 [==============================] - 5s 500us/step - loss: 2.5509 - accuracy: 0.1002 - val_loss: 2.4657 - val_accuracy: 0.1041\n",
      "Epoch 14/20\n",
      "10000/10000 [==============================] - 5s 502us/step - loss: 2.5452 - accuracy: 0.1000 - val_loss: 2.6203 - val_accuracy: 0.1018\n",
      "Epoch 15/20\n",
      "10000/10000 [==============================] - 5s 498us/step - loss: 2.5416 - accuracy: 0.1006 - val_loss: 2.4482 - val_accuracy: 0.0997\n",
      "Epoch 16/20\n",
      "10000/10000 [==============================] - 5s 504us/step - loss: 2.5494 - accuracy: 0.0998 - val_loss: 2.4640 - val_accuracy: 0.0993\n",
      "Epoch 17/20\n",
      "10000/10000 [==============================] - 5s 498us/step - loss: 2.5482 - accuracy: 0.0984 - val_loss: 2.4636 - val_accuracy: 0.1041\n",
      "Epoch 18/20\n",
      "10000/10000 [==============================] - 5s 495us/step - loss: 2.5452 - accuracy: 0.1014 - val_loss: 2.6732 - val_accuracy: 0.0997\n",
      "Epoch 19/20\n",
      "10000/10000 [==============================] - 5s 520us/step - loss: 2.5455 - accuracy: 0.1019 - val_loss: 2.4692 - val_accuracy: 0.0983\n",
      "Epoch 20/20\n",
      "10000/10000 [==============================] - 5s 506us/step - loss: 2.5449 - accuracy: 0.1016 - val_loss: 2.4703 - val_accuracy: 0.0987\n"
     ]
    }
   ],
   "source": [
    "model = create_model(1)\n",
    "large_lr = model.fit(X_train, y_train,\n",
    "                       epochs=20,\n",
    "                       batch_size=8,\n",
    "                       validation_data=(X_test, y_test))"
   ]
  },
  {
   "cell_type": "code",
   "execution_count": 29,
   "metadata": {},
   "outputs": [
    {
     "name": "stdout",
     "output_type": "stream",
     "text": [
      "Epoch 1/20\n",
      "    1/10000 [..............................] - ETA: 0s - loss: 142.7722 - accuracy: 0.1250WARNING:tensorflow:Callbacks method `on_train_batch_end` is slow compared to the batch time (batch time: 0.0000s vs `on_train_batch_end` time: 0.0010s). Check your callbacks.\n",
      "10000/10000 [==============================] - 5s 519us/step - loss: 3.4973 - accuracy: 0.0984 - val_loss: 2.3237 - val_accuracy: 0.0983\n",
      "Epoch 2/20\n",
      "10000/10000 [==============================] - 5s 503us/step - loss: 2.3291 - accuracy: 0.0997 - val_loss: 2.3234 - val_accuracy: 0.1020\n",
      "Epoch 3/20\n",
      "10000/10000 [==============================] - 5s 506us/step - loss: 2.3292 - accuracy: 0.0989 - val_loss: 2.3391 - val_accuracy: 0.0993\n",
      "Epoch 4/20\n",
      "10000/10000 [==============================] - 5s 508us/step - loss: 2.3290 - accuracy: 0.0993 - val_loss: 2.3295 - val_accuracy: 0.0997\n",
      "Epoch 5/20\n",
      "10000/10000 [==============================] - 5s 507us/step - loss: 2.3285 - accuracy: 0.1003 - val_loss: 2.3223 - val_accuracy: 0.1020\n",
      "Epoch 6/20\n",
      "10000/10000 [==============================] - 5s 536us/step - loss: 2.3287 - accuracy: 0.0999 - val_loss: 2.3265 - val_accuracy: 0.0980\n",
      "Epoch 7/20\n",
      "10000/10000 [==============================] - 5s 508us/step - loss: 2.3282 - accuracy: 0.1007 - val_loss: 2.3337 - val_accuracy: 0.1018\n",
      "Epoch 8/20\n",
      "10000/10000 [==============================] - 5s 510us/step - loss: 2.3290 - accuracy: 0.1009 - val_loss: 2.3546 - val_accuracy: 0.0987\n",
      "Epoch 9/20\n",
      "10000/10000 [==============================] - 5s 503us/step - loss: 2.3291 - accuracy: 0.0982 - val_loss: 2.3364 - val_accuracy: 0.1018\n",
      "Epoch 10/20\n",
      "10000/10000 [==============================] - 5s 501us/step - loss: 2.3286 - accuracy: 0.0990 - val_loss: 2.3168 - val_accuracy: 0.0997\n",
      "Epoch 11/20\n",
      "10000/10000 [==============================] - 5s 497us/step - loss: 2.3288 - accuracy: 0.0998 - val_loss: 2.3225 - val_accuracy: 0.0983\n",
      "Epoch 12/20\n",
      "10000/10000 [==============================] - 5s 500us/step - loss: 2.3287 - accuracy: 0.0977 - val_loss: 2.3333 - val_accuracy: 0.0983\n",
      "Epoch 13/20\n",
      "10000/10000 [==============================] - 5s 511us/step - loss: 2.3277 - accuracy: 0.0997 - val_loss: 2.3451 - val_accuracy: 0.0980\n",
      "Epoch 14/20\n",
      "10000/10000 [==============================] - 5s 516us/step - loss: 2.3282 - accuracy: 0.1009 - val_loss: 2.3406 - val_accuracy: 0.0980\n",
      "Epoch 15/20\n",
      "10000/10000 [==============================] - 5s 529us/step - loss: 2.3280 - accuracy: 0.1008 - val_loss: 2.3226 - val_accuracy: 0.0987\n",
      "Epoch 16/20\n",
      "10000/10000 [==============================] - 5s 504us/step - loss: 2.3295 - accuracy: 0.1007 - val_loss: 2.3314 - val_accuracy: 0.1041\n",
      "Epoch 17/20\n",
      "10000/10000 [==============================] - 5s 527us/step - loss: 2.3286 - accuracy: 0.1001 - val_loss: 2.3103 - val_accuracy: 0.1041\n",
      "Epoch 18/20\n",
      "10000/10000 [==============================] - 5s 521us/step - loss: 2.3298 - accuracy: 0.0985 - val_loss: 2.3217 - val_accuracy: 0.1018\n",
      "Epoch 19/20\n",
      "10000/10000 [==============================] - 5s 506us/step - loss: 2.3290 - accuracy: 0.0993 - val_loss: 2.3154 - val_accuracy: 0.1041\n",
      "Epoch 20/20\n",
      "10000/10000 [==============================] - 5s 500us/step - loss: 2.3282 - accuracy: 0.1008 - val_loss: 2.3407 - val_accuracy: 0.0997\n"
     ]
    }
   ],
   "source": [
    "model = create_model(.1)\n",
    "large_lrtwo = model.fit(X_train, y_train,\n",
    "                       epochs=20,\n",
    "                       batch_size=8,\n",
    "                       validation_data=(X_test, y_test))"
   ]
  },
  {
   "cell_type": "code",
   "execution_count": 30,
   "metadata": {},
   "outputs": [
    {
     "name": "stdout",
     "output_type": "stream",
     "text": [
      "Epoch 1/20\n",
      "10000/10000 [==============================] - 5s 505us/step - loss: 2.4894 - accuracy: 0.1031 - val_loss: 2.3049 - val_accuracy: 0.1041\n",
      "Epoch 2/20\n",
      "10000/10000 [==============================] - 5s 507us/step - loss: 2.3055 - accuracy: 0.0985 - val_loss: 2.3060 - val_accuracy: 0.0997\n",
      "Epoch 3/20\n",
      "10000/10000 [==============================] - 5s 490us/step - loss: 2.3051 - accuracy: 0.1007 - val_loss: 2.3054 - val_accuracy: 0.0997\n",
      "Epoch 4/20\n",
      "10000/10000 [==============================] - 5s 493us/step - loss: 2.3053 - accuracy: 0.0993 - val_loss: 2.3035 - val_accuracy: 0.0997\n",
      "Epoch 5/20\n",
      "10000/10000 [==============================] - 5s 492us/step - loss: 2.3052 - accuracy: 0.1013 - val_loss: 2.3033 - val_accuracy: 0.0984\n",
      "Epoch 6/20\n",
      "10000/10000 [==============================] - 5s 492us/step - loss: 2.3054 - accuracy: 0.0997 - val_loss: 2.3061 - val_accuracy: 0.0983\n",
      "Epoch 7/20\n",
      "10000/10000 [==============================] - 5s 486us/step - loss: 2.3051 - accuracy: 0.1000 - val_loss: 2.3039 - val_accuracy: 0.0984\n",
      "Epoch 8/20\n",
      "10000/10000 [==============================] - 5s 488us/step - loss: 2.3055 - accuracy: 0.0987 - val_loss: 2.3066 - val_accuracy: 0.0987\n",
      "Epoch 9/20\n",
      "10000/10000 [==============================] - 5s 490us/step - loss: 2.3053 - accuracy: 0.1001 - val_loss: 2.3063 - val_accuracy: 0.1041\n",
      "Epoch 10/20\n",
      "10000/10000 [==============================] - 5s 489us/step - loss: 2.3053 - accuracy: 0.0984 - val_loss: 2.3033 - val_accuracy: 0.0987\n",
      "Epoch 11/20\n",
      "10000/10000 [==============================] - 5s 489us/step - loss: 2.3054 - accuracy: 0.1003 - val_loss: 2.3051 - val_accuracy: 0.0987\n",
      "Epoch 12/20\n",
      "10000/10000 [==============================] - 5s 486us/step - loss: 2.3052 - accuracy: 0.0995 - val_loss: 2.3064 - val_accuracy: 0.0993\n",
      "Epoch 13/20\n",
      "10000/10000 [==============================] - 5s 532us/step - loss: 2.3051 - accuracy: 0.1014 - val_loss: 2.3038 - val_accuracy: 0.0997\n",
      "Epoch 14/20\n",
      "10000/10000 [==============================] - 5s 503us/step - loss: 2.3053 - accuracy: 0.1013 - val_loss: 2.3033 - val_accuracy: 0.1041\n",
      "Epoch 15/20\n",
      "10000/10000 [==============================] - 5s 504us/step - loss: 2.3054 - accuracy: 0.0979 - val_loss: 2.3045 - val_accuracy: 0.0984\n",
      "Epoch 16/20\n",
      "10000/10000 [==============================] - 5s 513us/step - loss: 2.3054 - accuracy: 0.0993 - val_loss: 2.3034 - val_accuracy: 0.0984\n",
      "Epoch 17/20\n",
      "10000/10000 [==============================] - 5s 506us/step - loss: 2.3053 - accuracy: 0.1006 - val_loss: 2.3047 - val_accuracy: 0.0980\n",
      "Epoch 18/20\n",
      "10000/10000 [==============================] - 5s 505us/step - loss: 2.3052 - accuracy: 0.0988 - val_loss: 2.3060 - val_accuracy: 0.0984\n",
      "Epoch 19/20\n",
      "10000/10000 [==============================] - 5s 506us/step - loss: 2.3052 - accuracy: 0.0995 - val_loss: 2.3043 - val_accuracy: 0.0983\n",
      "Epoch 20/20\n",
      "10000/10000 [==============================] - 5s 506us/step - loss: 2.3052 - accuracy: 0.0993 - val_loss: 2.3066 - val_accuracy: 0.0984\n"
     ]
    }
   ],
   "source": [
    "model = create_model(.01)\n",
    "std_lr = model.fit(X_train, y_train,\n",
    "                       epochs=20,\n",
    "                       batch_size=8,\n",
    "                       validation_data=(X_test, y_test))"
   ]
  },
  {
   "cell_type": "code",
   "execution_count": 31,
   "metadata": {},
   "outputs": [
    {
     "name": "stdout",
     "output_type": "stream",
     "text": [
      "Epoch 1/20\n",
      "10000/10000 [==============================] - 5s 513us/step - loss: 1.8513 - accuracy: 0.4067 - val_loss: 1.2523 - val_accuracy: 0.5601\n",
      "Epoch 2/20\n",
      "10000/10000 [==============================] - 5s 504us/step - loss: 0.9738 - accuracy: 0.7094 - val_loss: 0.8588 - val_accuracy: 0.7412\n",
      "Epoch 3/20\n",
      "10000/10000 [==============================] - 5s 506us/step - loss: 0.7859 - accuracy: 0.7751 - val_loss: 0.7839 - val_accuracy: 0.7695\n",
      "Epoch 4/20\n",
      "10000/10000 [==============================] - 5s 506us/step - loss: 0.7309 - accuracy: 0.7917 - val_loss: 0.8074 - val_accuracy: 0.7678\n",
      "Epoch 5/20\n",
      "10000/10000 [==============================] - 5s 506us/step - loss: 0.7002 - accuracy: 0.8026 - val_loss: 0.7615 - val_accuracy: 0.7857\n",
      "Epoch 6/20\n",
      "10000/10000 [==============================] - 5s 506us/step - loss: 0.6816 - accuracy: 0.8110 - val_loss: 0.7820 - val_accuracy: 0.7781\n",
      "Epoch 7/20\n",
      "10000/10000 [==============================] - 5s 507us/step - loss: 0.6626 - accuracy: 0.8152 - val_loss: 0.7276 - val_accuracy: 0.8067\n",
      "Epoch 8/20\n",
      "10000/10000 [==============================] - 5s 510us/step - loss: 0.6473 - accuracy: 0.8188 - val_loss: 0.7314 - val_accuracy: 0.7998\n",
      "Epoch 9/20\n",
      "10000/10000 [==============================] - 5s 510us/step - loss: 0.6311 - accuracy: 0.8242 - val_loss: 0.7553 - val_accuracy: 0.8044\n",
      "Epoch 10/20\n",
      "10000/10000 [==============================] - 5s 506us/step - loss: 0.6330 - accuracy: 0.8269 - val_loss: 0.7390 - val_accuracy: 0.8126\n",
      "Epoch 11/20\n",
      "10000/10000 [==============================] - 5s 505us/step - loss: 0.6135 - accuracy: 0.8306 - val_loss: 0.7587 - val_accuracy: 0.8030\n",
      "Epoch 12/20\n",
      "10000/10000 [==============================] - 5s 510us/step - loss: 0.6050 - accuracy: 0.8318 - val_loss: 0.8270 - val_accuracy: 0.8081\n",
      "Epoch 13/20\n",
      "10000/10000 [==============================] - 5s 507us/step - loss: 0.6028 - accuracy: 0.8339 - val_loss: 0.7747 - val_accuracy: 0.8056\n",
      "Epoch 14/20\n",
      "10000/10000 [==============================] - 5s 511us/step - loss: 0.5918 - accuracy: 0.8367 - val_loss: 0.8377 - val_accuracy: 0.8051\n",
      "Epoch 15/20\n",
      "10000/10000 [==============================] - 5s 504us/step - loss: 0.6053 - accuracy: 0.8371 - val_loss: 0.7864 - val_accuracy: 0.8102\n",
      "Epoch 16/20\n",
      "10000/10000 [==============================] - 5s 506us/step - loss: 0.5808 - accuracy: 0.8386 - val_loss: 0.8331 - val_accuracy: 0.8142\n",
      "Epoch 17/20\n",
      "10000/10000 [==============================] - 5s 512us/step - loss: 0.5834 - accuracy: 0.8410 - val_loss: 0.9664 - val_accuracy: 0.8149\n",
      "Epoch 18/20\n",
      "10000/10000 [==============================] - 5s 514us/step - loss: 0.5760 - accuracy: 0.8420 - val_loss: 1.0266 - val_accuracy: 0.7979\n",
      "Epoch 19/20\n",
      "10000/10000 [==============================] - 5s 509us/step - loss: 0.5724 - accuracy: 0.8442 - val_loss: 0.8316 - val_accuracy: 0.8141\n",
      "Epoch 20/20\n",
      "10000/10000 [==============================] - 5s 507us/step - loss: 0.5624 - accuracy: 0.8464 - val_loss: 0.8168 - val_accuracy: 0.8158\n"
     ]
    }
   ],
   "source": [
    "model = create_model(.001)\n",
    "small_lr = model.fit(X_train, y_train,\n",
    "                       epochs=20,\n",
    "                       batch_size=8,\n",
    "                       validation_data=(X_test, y_test))"
   ]
  },
  {
   "cell_type": "code",
   "execution_count": 32,
   "metadata": {},
   "outputs": [
    {
     "name": "stdout",
     "output_type": "stream",
     "text": [
      "Epoch 1/20\n",
      "    1/10000 [..............................] - ETA: 0s - loss: 159.4883 - accuracy: 0.2500WARNING:tensorflow:Callbacks method `on_train_batch_begin` is slow compared to the batch time (batch time: 0.0000s vs `on_train_batch_begin` time: 0.0010s). Check your callbacks.\n",
      "10000/10000 [==============================] - 5s 510us/step - loss: 3.4176 - accuracy: 0.3025 - val_loss: 1.6880 - val_accuracy: 0.3947\n",
      "Epoch 2/20\n",
      "10000/10000 [==============================] - 5s 524us/step - loss: 1.5660 - accuracy: 0.4432 - val_loss: 1.5115 - val_accuracy: 0.4561\n",
      "Epoch 3/20\n",
      "10000/10000 [==============================] - 5s 509us/step - loss: 1.3955 - accuracy: 0.4992 - val_loss: 1.3929 - val_accuracy: 0.4997\n",
      "Epoch 4/20\n",
      "10000/10000 [==============================] - 5s 511us/step - loss: 1.2728 - accuracy: 0.5389 - val_loss: 1.3061 - val_accuracy: 0.5437\n",
      "Epoch 5/20\n",
      "10000/10000 [==============================] - 5s 504us/step - loss: 1.1798 - accuracy: 0.5719 - val_loss: 1.2231 - val_accuracy: 0.5714\n",
      "Epoch 6/20\n",
      "10000/10000 [==============================] - 5s 510us/step - loss: 1.0954 - accuracy: 0.6060 - val_loss: 1.1778 - val_accuracy: 0.5975\n",
      "Epoch 7/20\n",
      "10000/10000 [==============================] - 5s 508us/step - loss: 1.0307 - accuracy: 0.6292 - val_loss: 1.1060 - val_accuracy: 0.6252\n",
      "Epoch 8/20\n",
      "10000/10000 [==============================] - 5s 514us/step - loss: 0.9560 - accuracy: 0.6711 - val_loss: 1.0015 - val_accuracy: 0.6860\n",
      "Epoch 9/20\n",
      "10000/10000 [==============================] - 5s 513us/step - loss: 0.8521 - accuracy: 0.7187 - val_loss: 0.9356 - val_accuracy: 0.7147\n",
      "Epoch 10/20\n",
      "10000/10000 [==============================] - 5s 510us/step - loss: 0.7676 - accuracy: 0.7506 - val_loss: 0.8403 - val_accuracy: 0.7596\n",
      "Epoch 11/20\n",
      "10000/10000 [==============================] - 5s 508us/step - loss: 0.6973 - accuracy: 0.7768 - val_loss: 0.7878 - val_accuracy: 0.7695\n",
      "Epoch 12/20\n",
      "10000/10000 [==============================] - 5s 506us/step - loss: 0.6468 - accuracy: 0.7961 - val_loss: 0.7319 - val_accuracy: 0.7874\n",
      "Epoch 13/20\n",
      "10000/10000 [==============================] - 5s 508us/step - loss: 0.6050 - accuracy: 0.8124 - val_loss: 0.7178 - val_accuracy: 0.7917\n",
      "Epoch 14/20\n",
      "10000/10000 [==============================] - 5s 509us/step - loss: 0.5739 - accuracy: 0.8248 - val_loss: 0.6966 - val_accuracy: 0.7984\n",
      "Epoch 15/20\n",
      "10000/10000 [==============================] - 5s 509us/step - loss: 0.5516 - accuracy: 0.8325 - val_loss: 0.6835 - val_accuracy: 0.8094\n",
      "Epoch 16/20\n",
      "10000/10000 [==============================] - 5s 507us/step - loss: 0.5317 - accuracy: 0.8404 - val_loss: 0.6954 - val_accuracy: 0.8119\n",
      "Epoch 17/20\n",
      "10000/10000 [==============================] - 5s 504us/step - loss: 0.5145 - accuracy: 0.8445 - val_loss: 0.6870 - val_accuracy: 0.8161\n",
      "Epoch 18/20\n",
      "10000/10000 [==============================] - 5s 509us/step - loss: 0.4994 - accuracy: 0.8502 - val_loss: 0.6791 - val_accuracy: 0.8140\n",
      "Epoch 19/20\n",
      "10000/10000 [==============================] - 5s 514us/step - loss: 0.4885 - accuracy: 0.8537 - val_loss: 0.6958 - val_accuracy: 0.8126\n",
      "Epoch 20/20\n",
      "10000/10000 [==============================] - 5s 520us/step - loss: 0.4759 - accuracy: 0.8570 - val_loss: 0.7146 - val_accuracy: 0.8120\n"
     ]
    }
   ],
   "source": [
    "model = create_model(.0001)\n",
    "smallest_lr = model.fit(X_train, y_train,\n",
    "                       epochs=20,\n",
    "                       batch_size=8,\n",
    "                       validation_data=(X_test, y_test))"
   ]
  },
  {
   "cell_type": "code",
   "execution_count": 34,
   "metadata": {},
   "outputs": [
    {
     "data": {
      "text/html": [
       "<div>\n",
       "<style scoped>\n",
       "    .dataframe tbody tr th:only-of-type {\n",
       "        vertical-align: middle;\n",
       "    }\n",
       "\n",
       "    .dataframe tbody tr th {\n",
       "        vertical-align: top;\n",
       "    }\n",
       "\n",
       "    .dataframe thead th {\n",
       "        text-align: right;\n",
       "    }\n",
       "</style>\n",
       "<table border=\"1\" class=\"dataframe\">\n",
       "  <thead>\n",
       "    <tr style=\"text-align: right;\">\n",
       "      <th></th>\n",
       "      <th>loss</th>\n",
       "      <th>accuracy</th>\n",
       "      <th>val_loss</th>\n",
       "      <th>val_accuracy</th>\n",
       "      <th>epoch</th>\n",
       "      <th>Learning Rate</th>\n",
       "    </tr>\n",
       "  </thead>\n",
       "  <tbody>\n",
       "    <tr>\n",
       "      <th>0</th>\n",
       "      <td>703.143982</td>\n",
       "      <td>0.099375</td>\n",
       "      <td>2.557297</td>\n",
       "      <td>0.09975</td>\n",
       "      <td>0</td>\n",
       "      <td>1_</td>\n",
       "    </tr>\n",
       "    <tr>\n",
       "      <th>1</th>\n",
       "      <td>2.548851</td>\n",
       "      <td>0.099762</td>\n",
       "      <td>2.452840</td>\n",
       "      <td>0.09975</td>\n",
       "      <td>1</td>\n",
       "      <td>1_</td>\n",
       "    </tr>\n",
       "    <tr>\n",
       "      <th>2</th>\n",
       "      <td>2.546130</td>\n",
       "      <td>0.099738</td>\n",
       "      <td>2.479438</td>\n",
       "      <td>0.10180</td>\n",
       "      <td>2</td>\n",
       "      <td>1_</td>\n",
       "    </tr>\n",
       "    <tr>\n",
       "      <th>3</th>\n",
       "      <td>2.543819</td>\n",
       "      <td>0.100538</td>\n",
       "      <td>2.460860</td>\n",
       "      <td>0.10405</td>\n",
       "      <td>3</td>\n",
       "      <td>1_</td>\n",
       "    </tr>\n",
       "    <tr>\n",
       "      <th>4</th>\n",
       "      <td>2.547982</td>\n",
       "      <td>0.097637</td>\n",
       "      <td>2.675961</td>\n",
       "      <td>0.09835</td>\n",
       "      <td>4</td>\n",
       "      <td>1_</td>\n",
       "    </tr>\n",
       "  </tbody>\n",
       "</table>\n",
       "</div>"
      ],
      "text/plain": [
       "         loss  accuracy  val_loss  val_accuracy  epoch Learning Rate\n",
       "0  703.143982  0.099375  2.557297       0.09975      0            1_\n",
       "1    2.548851  0.099762  2.452840       0.09975      1            1_\n",
       "2    2.546130  0.099738  2.479438       0.10180      2            1_\n",
       "3    2.543819  0.100538  2.460860       0.10405      3            1_\n",
       "4    2.547982  0.097637  2.675961       0.09835      4            1_"
      ]
     },
     "execution_count": 34,
     "metadata": {},
     "output_type": "execute_result"
    }
   ],
   "source": [
    "import seaborn as sns\n",
    "import pandas as pd\n",
    "\n",
    "batch_sizes = []\n",
    "\n",
    "for exp, result in zip([large_lr, std_lr, smallest_lr],\n",
    "                       [\"1_\", \".01_\", \".0001_\"]):\n",
    "\n",
    "  df = pd.DataFrame.from_dict(exp.history)\n",
    "  df['epoch'] = df.index.values\n",
    "  df['Learning Rate'] = result\n",
    "\n",
    "  batch_sizes.append(df)\n",
    "\n",
    "df = pd.concat(batch_sizes)\n",
    "df['Learning Rate'] = df['Learning Rate'].astype('str')\n",
    "df.head()"
   ]
  },
  {
   "cell_type": "code",
   "execution_count": 36,
   "metadata": {},
   "outputs": [
    {
     "data": {
      "image/png": "[encoded data removed]",
      "text/plain": [
       "<Figure size 432x288 with 1 Axes>"
      ]
     },
     "metadata": {
      "needs_background": "light"
     },
     "output_type": "display_data"
    }
   ],
   "source": [
    "sns.lineplot(x='epoch', y='val_loss', hue='Learning Rate', data=df);"
   ]
  },
  {
   "cell_type": "code",
   "execution_count": 37,
   "metadata": {},
   "outputs": [
    {
     "data": {
      "image/png": "[encoded data removed]",
      "text/plain": [
       "<Figure size 432x288 with 1 Axes>"
      ]
     },
     "metadata": {
      "needs_background": "light"
     },
     "output_type": "display_data"
    }
   ],
   "source": [
    "sns.lineplot(x='epoch', y='val_accuracy', hue='Learning Rate', data=df);"
   ]
  },
  {
   "cell_type": "markdown",
   "metadata": {
    "colab_type": "text",
    "id": "gxMtSRhV9Q7I"
   },
   "source": [
    "### Experiment with different Optimizers\n",
    "* Run 5 experiments with various optimizers available in TensorFlow. See list [here](https://www.tensorflow.org/api_docs/python/tf/keras/optimizers)\n",
    "* Visualize the results\n",
    "* Write up an analysis of the experiments and select the \"best\" performing model among your experiments. Make sure to compare against the previous experiments and your model's performance yesterday.\n",
    "* Repeat the experiment combining Learning Rate and different optimizers. Does the best performing model change? "
   ]
  },
  {
   "cell_type": "code",
   "execution_count": 38,
   "metadata": {
    "colab": {},
    "colab_type": "code",
    "id": "ujLuzdNA91ip"
   },
   "outputs": [
    {
     "name": "stdout",
     "output_type": "stream",
     "text": [
      "Epoch 1/15\n",
      "10000/10000 [==============================] - 5s 462us/step - loss: 2.4250 - accuracy: 0.3592 - val_loss: 1.6956 - val_accuracy: 0.4225\n",
      "Epoch 2/15\n",
      "10000/10000 [==============================] - 5s 460us/step - loss: 1.5992 - accuracy: 0.4498 - val_loss: 1.5771 - val_accuracy: 0.4688\n",
      "Epoch 3/15\n",
      "10000/10000 [==============================] - 5s 454us/step - loss: 1.4895 - accuracy: 0.4880 - val_loss: 1.4944 - val_accuracy: 0.4895\n",
      "Epoch 4/15\n",
      "10000/10000 [==============================] - 5s 455us/step - loss: 1.4030 - accuracy: 0.5414 - val_loss: 1.4208 - val_accuracy: 0.5561\n",
      "Epoch 5/15\n",
      "10000/10000 [==============================] - 5s 455us/step - loss: 1.3240 - accuracy: 0.5767 - val_loss: 1.3607 - val_accuracy: 0.5703\n",
      "Epoch 6/15\n",
      "10000/10000 [==============================] - 5s 451us/step - loss: 1.2613 - accuracy: 0.5975 - val_loss: 1.2970 - val_accuracy: 0.5959\n",
      "Epoch 7/15\n",
      "10000/10000 [==============================] - 5s 460us/step - loss: 1.2139 - accuracy: 0.6117 - val_loss: 1.2652 - val_accuracy: 0.6100\n",
      "Epoch 8/15\n",
      "10000/10000 [==============================] - 5s 455us/step - loss: 1.1771 - accuracy: 0.6192 - val_loss: 1.2477 - val_accuracy: 0.6177\n",
      "Epoch 9/15\n",
      "10000/10000 [==============================] - 5s 454us/step - loss: 1.1373 - accuracy: 0.6080 - val_loss: 1.1832 - val_accuracy: 0.5955\n",
      "Epoch 10/15\n",
      "10000/10000 [==============================] - 5s 464us/step - loss: 1.0918 - accuracy: 0.6152 - val_loss: 1.1375 - val_accuracy: 0.6215\n",
      "Epoch 11/15\n",
      "10000/10000 [==============================] - 5s 456us/step - loss: 1.0526 - accuracy: 0.6344 - val_loss: 1.1106 - val_accuracy: 0.6398\n",
      "Epoch 12/15\n",
      "10000/10000 [==============================] - 5s 453us/step - loss: 1.0193 - accuracy: 0.6498 - val_loss: 1.0794 - val_accuracy: 0.6507\n",
      "Epoch 13/15\n",
      "10000/10000 [==============================] - 5s 463us/step - loss: 0.9898 - accuracy: 0.6624 - val_loss: 1.0509 - val_accuracy: 0.6637\n",
      "Epoch 14/15\n",
      "10000/10000 [==============================] - 5s 452us/step - loss: 0.9636 - accuracy: 0.6755 - val_loss: 1.0423 - val_accuracy: 0.6620\n",
      "Epoch 15/15\n",
      "10000/10000 [==============================] - 5s 461us/step - loss: 0.9409 - accuracy: 0.6861 - val_loss: 1.0093 - val_accuracy: 0.6795\n"
     ]
    }
   ],
   "source": [
    "## \n",
    "sgd_nonest = create_model(.0001, SGD)\n",
    "bt_default = sgd_nonest.fit(X_train, y_train,\n",
    "                       epochs=15,\n",
    "                       batch_size=8,\n",
    "                       validation_data=(X_test, y_test))"
   ]
  },
  {
   "cell_type": "code",
   "execution_count": 39,
   "metadata": {},
   "outputs": [],
   "source": [
    "def create_model_nesterov(lr, optimizer =SGD):\n",
    "  optim = optimizer(learning_rate=lr, nesterov=True)\n",
    "\n",
    "  model = Sequential(\n",
    "      [Dense(64, activation='relu', input_dim=784),\n",
    "       Dense(32, activation='relu'),\n",
    "       Dense(10, activation='softmax')]\n",
    "  )\n",
    "\n",
    "  model.compile(optimizer=optim, loss='sparse_categorical_crossentropy',\n",
    "                metrics=['accuracy'])  \n",
    "  return model\n",
    "\n"
   ]
  },
  {
   "cell_type": "code",
   "execution_count": 40,
   "metadata": {},
   "outputs": [
    {
     "name": "stdout",
     "output_type": "stream",
     "text": [
      "Epoch 1/15\n",
      "10000/10000 [==============================] - 5s 465us/step - loss: 2.5207 - accuracy: 0.1831 - val_loss: 1.9778 - val_accuracy: 0.2849\n",
      "Epoch 2/15\n",
      "10000/10000 [==============================] - 5s 452us/step - loss: 1.8293 - accuracy: 0.3550 - val_loss: 1.7932 - val_accuracy: 0.3733\n",
      "Epoch 3/15\n",
      "10000/10000 [==============================] - 5s 458us/step - loss: 1.6822 - accuracy: 0.4045 - val_loss: 1.6952 - val_accuracy: 0.4193\n",
      "Epoch 4/15\n",
      "10000/10000 [==============================] - 5s 453us/step - loss: 1.6018 - accuracy: 0.4307 - val_loss: 1.6324 - val_accuracy: 0.4392\n",
      "Epoch 5/15\n",
      "10000/10000 [==============================] - 5s 456us/step - loss: 1.5525 - accuracy: 0.4466 - val_loss: 1.5995 - val_accuracy: 0.4430\n",
      "Epoch 6/15\n",
      "10000/10000 [==============================] - 5s 456us/step - loss: 1.5143 - accuracy: 0.4584 - val_loss: 1.5639 - val_accuracy: 0.4550\n",
      "Epoch 7/15\n",
      "10000/10000 [==============================] - 5s 459us/step - loss: 1.4865 - accuracy: 0.4682 - val_loss: 1.5397 - val_accuracy: 0.4604\n",
      "Epoch 8/15\n",
      "10000/10000 [==============================] - 5s 450us/step - loss: 1.4604 - accuracy: 0.4782 - val_loss: 1.5155 - val_accuracy: 0.4641\n",
      "Epoch 9/15\n",
      "10000/10000 [==============================] - 5s 457us/step - loss: 1.4371 - accuracy: 0.4843 - val_loss: 1.4997 - val_accuracy: 0.4771\n",
      "Epoch 10/15\n",
      "10000/10000 [==============================] - 4s 450us/step - loss: 1.4144 - accuracy: 0.4929 - val_loss: 1.4776 - val_accuracy: 0.4852\n",
      "Epoch 11/15\n",
      "10000/10000 [==============================] - 5s 452us/step - loss: 1.3930 - accuracy: 0.5011 - val_loss: 1.4646 - val_accuracy: 0.5023\n",
      "Epoch 12/15\n",
      "10000/10000 [==============================] - 4s 449us/step - loss: 1.3718 - accuracy: 0.5061 - val_loss: 1.4499 - val_accuracy: 0.4940\n",
      "Epoch 13/15\n",
      "10000/10000 [==============================] - 4s 446us/step - loss: 1.3523 - accuracy: 0.5114 - val_loss: 1.4292 - val_accuracy: 0.5008\n",
      "Epoch 14/15\n",
      "10000/10000 [==============================] - 5s 461us/step - loss: 1.3350 - accuracy: 0.5185 - val_loss: 1.4174 - val_accuracy: 0.5241\n",
      "Epoch 15/15\n",
      "10000/10000 [==============================] - 5s 455us/step - loss: 1.3166 - accuracy: 0.5239 - val_loss: 1.3987 - val_accuracy: 0.5163\n"
     ]
    }
   ],
   "source": [
    "model = create_model_nesterov(.0001)\n",
    "sgd_nest = model.fit(X_train, y_train,\n",
    "                       epochs=15,\n",
    "                       batch_size=8,\n",
    "                       validation_data=(X_test, y_test))"
   ]
  },
  {
   "cell_type": "code",
   "execution_count": 41,
   "metadata": {},
   "outputs": [
    {
     "name": "stdout",
     "output_type": "stream",
     "text": [
      "Epoch 1/15\n",
      "10000/10000 [==============================] - 5s 508us/step - loss: 3.8187 - accuracy: 0.3331 - val_loss: 1.6839 - val_accuracy: 0.4294\n",
      "Epoch 2/15\n",
      "10000/10000 [==============================] - 5s 499us/step - loss: 1.5160 - accuracy: 0.4647 - val_loss: 1.4616 - val_accuracy: 0.4952\n",
      "Epoch 3/15\n",
      "10000/10000 [==============================] - 5s 502us/step - loss: 1.3393 - accuracy: 0.5189 - val_loss: 1.3462 - val_accuracy: 0.5350\n",
      "Epoch 4/15\n",
      "10000/10000 [==============================] - 5s 506us/step - loss: 1.2146 - accuracy: 0.5739 - val_loss: 1.2578 - val_accuracy: 0.5916\n",
      "Epoch 5/15\n",
      "10000/10000 [==============================] - 5s 501us/step - loss: 1.0935 - accuracy: 0.6292 - val_loss: 1.1609 - val_accuracy: 0.6479\n",
      "Epoch 6/15\n",
      "10000/10000 [==============================] - 5s 503us/step - loss: 0.9824 - accuracy: 0.6805 - val_loss: 1.0371 - val_accuracy: 0.6933\n",
      "Epoch 7/15\n",
      "10000/10000 [==============================] - 5s 503us/step - loss: 0.8766 - accuracy: 0.7226 - val_loss: 0.9388 - val_accuracy: 0.7254\n",
      "Epoch 8/15\n",
      "10000/10000 [==============================] - 5s 510us/step - loss: 0.7863 - accuracy: 0.7537 - val_loss: 0.8492 - val_accuracy: 0.7405\n",
      "Epoch 9/15\n",
      "10000/10000 [==============================] - 5s 501us/step - loss: 0.7086 - accuracy: 0.7748 - val_loss: 0.7926 - val_accuracy: 0.7627\n",
      "Epoch 10/15\n",
      "10000/10000 [==============================] - 5s 499us/step - loss: 0.6596 - accuracy: 0.7933 - val_loss: 0.7659 - val_accuracy: 0.7681\n",
      "Epoch 11/15\n",
      "10000/10000 [==============================] - 5s 502us/step - loss: 0.6195 - accuracy: 0.8068 - val_loss: 0.7357 - val_accuracy: 0.7821\n",
      "Epoch 12/15\n",
      "10000/10000 [==============================] - 5s 499us/step - loss: 0.5887 - accuracy: 0.8184 - val_loss: 0.7247 - val_accuracy: 0.7990\n",
      "Epoch 13/15\n",
      "10000/10000 [==============================] - 5s 500us/step - loss: 0.5616 - accuracy: 0.8280 - val_loss: 0.7020 - val_accuracy: 0.8081\n",
      "Epoch 14/15\n",
      "10000/10000 [==============================] - 5s 506us/step - loss: 0.5403 - accuracy: 0.8364 - val_loss: 0.7039 - val_accuracy: 0.8020\n",
      "Epoch 15/15\n",
      "10000/10000 [==============================] - 5s 501us/step - loss: 0.5206 - accuracy: 0.8433 - val_loss: 0.6829 - val_accuracy: 0.8138\n"
     ]
    }
   ],
   "source": [
    "model = create_model(.0001)\n",
    "adam_model = model.fit(X_train, y_train,\n",
    "                       epochs=15,\n",
    "                       batch_size=8,\n",
    "                       validation_data=(X_test, y_test))"
   ]
  },
  {
   "cell_type": "code",
   "execution_count": 42,
   "metadata": {},
   "outputs": [
    {
     "name": "stdout",
     "output_type": "stream",
     "text": [
      "Epoch 1/15\n",
      "10000/10000 [==============================] - 6s 553us/step - loss: 4.1311 - accuracy: 0.3037 - val_loss: 1.7004 - val_accuracy: 0.3943\n",
      "Epoch 2/15\n",
      "10000/10000 [==============================] - 5s 546us/step - loss: 1.5466 - accuracy: 0.4563 - val_loss: 1.4738 - val_accuracy: 0.4735\n",
      "Epoch 3/15\n",
      "10000/10000 [==============================] - 5s 550us/step - loss: 1.3474 - accuracy: 0.5233 - val_loss: 1.3361 - val_accuracy: 0.5385\n",
      "Epoch 4/15\n",
      "10000/10000 [==============================] - 5s 547us/step - loss: 1.2015 - accuracy: 0.5716 - val_loss: 1.2474 - val_accuracy: 0.5809\n",
      "Epoch 5/15\n",
      "10000/10000 [==============================] - 6s 551us/step - loss: 1.1079 - accuracy: 0.6012 - val_loss: 1.1513 - val_accuracy: 0.6087\n",
      "Epoch 6/15\n",
      "10000/10000 [==============================] - 6s 551us/step - loss: 1.0192 - accuracy: 0.6386 - val_loss: 1.0997 - val_accuracy: 0.6374\n",
      "Epoch 7/15\n",
      "10000/10000 [==============================] - 5s 550us/step - loss: 0.9568 - accuracy: 0.6734 - val_loss: 1.0308 - val_accuracy: 0.6837\n",
      "Epoch 8/15\n",
      "10000/10000 [==============================] - 6s 550us/step - loss: 0.8872 - accuracy: 0.7125 - val_loss: 0.9704 - val_accuracy: 0.7159\n",
      "Epoch 9/15\n",
      "10000/10000 [==============================] - 6s 550us/step - loss: 0.8246 - accuracy: 0.7413 - val_loss: 0.9486 - val_accuracy: 0.7293\n",
      "Epoch 10/15\n",
      "10000/10000 [==============================] - 5s 550us/step - loss: 0.7758 - accuracy: 0.7541 - val_loss: 0.8760 - val_accuracy: 0.7501\n",
      "Epoch 11/15\n",
      "10000/10000 [==============================] - 5s 545us/step - loss: 0.7345 - accuracy: 0.7631 - val_loss: 0.8484 - val_accuracy: 0.7390\n",
      "Epoch 12/15\n",
      "10000/10000 [==============================] - 5s 546us/step - loss: 0.7036 - accuracy: 0.7707 - val_loss: 0.8343 - val_accuracy: 0.7521\n",
      "Epoch 13/15\n",
      "10000/10000 [==============================] - 6s 553us/step - loss: 0.6755 - accuracy: 0.7755 - val_loss: 0.8037 - val_accuracy: 0.7548\n",
      "Epoch 14/15\n",
      "10000/10000 [==============================] - 5s 549us/step - loss: 0.6508 - accuracy: 0.7797 - val_loss: 0.7835 - val_accuracy: 0.7616\n",
      "Epoch 15/15\n",
      "10000/10000 [==============================] - 5s 543us/step - loss: 0.6285 - accuracy: 0.7859 - val_loss: 0.7563 - val_accuracy: 0.7653\n"
     ]
    }
   ],
   "source": [
    "from tensorflow.keras.optimizers import Nadam\n",
    "\n",
    "model = create_model(.0001, Nadam)\n",
    "nadam_model = model.fit(X_train, y_train,\n",
    "                       epochs=15,\n",
    "                       batch_size=8,\n",
    "                       validation_data=(X_test, y_test))"
   ]
  },
  {
   "cell_type": "code",
   "execution_count": 43,
   "metadata": {},
   "outputs": [
    {
     "name": "stdout",
     "output_type": "stream",
     "text": [
      "Epoch 1/15\n",
      "10000/10000 [==============================] - 6s 559us/step - loss: 22.2050 - accuracy: 0.1916 - val_loss: 14.4725 - val_accuracy: 0.2281\n",
      "Epoch 2/15\n",
      "10000/10000 [==============================] - 6s 552us/step - loss: 12.2295 - accuracy: 0.2384 - val_loss: 10.4573 - val_accuracy: 0.2468\n",
      "Epoch 3/15\n",
      "10000/10000 [==============================] - 6s 552us/step - loss: 9.2781 - accuracy: 0.2528 - val_loss: 8.2530 - val_accuracy: 0.2569\n",
      "Epoch 4/15\n",
      "10000/10000 [==============================] - 6s 561us/step - loss: 7.4488 - accuracy: 0.2591 - val_loss: 6.7265 - val_accuracy: 0.2609\n",
      "Epoch 5/15\n",
      "10000/10000 [==============================] - 6s 556us/step - loss: 6.1283 - accuracy: 0.2598 - val_loss: 5.5878 - val_accuracy: 0.2616\n",
      "Epoch 6/15\n",
      "10000/10000 [==============================] - 6s 555us/step - loss: 5.1296 - accuracy: 0.2571 - val_loss: 4.7097 - val_accuracy: 0.2555\n",
      "Epoch 7/15\n",
      "10000/10000 [==============================] - 6s 559us/step - loss: 4.3670 - accuracy: 0.2580 - val_loss: 4.0440 - val_accuracy: 0.2503\n",
      "Epoch 8/15\n",
      "10000/10000 [==============================] - 6s 555us/step - loss: 3.8025 - accuracy: 0.2563 - val_loss: 3.5686 - val_accuracy: 0.2804\n",
      "Epoch 9/15\n",
      "10000/10000 [==============================] - 6s 558us/step - loss: 3.3986 - accuracy: 0.2824 - val_loss: 3.2372 - val_accuracy: 0.2787\n",
      "Epoch 10/15\n",
      "10000/10000 [==============================] - 6s 560us/step - loss: 3.1132 - accuracy: 0.2806 - val_loss: 3.0062 - val_accuracy: 0.2778\n",
      "Epoch 11/15\n",
      "10000/10000 [==============================] - 6s 556us/step - loss: 2.9125 - accuracy: 0.2779 - val_loss: 2.8420 - val_accuracy: 0.2734\n",
      "Epoch 12/15\n",
      "10000/10000 [==============================] - 6s 557us/step - loss: 2.7676 - accuracy: 0.2752 - val_loss: 2.7216 - val_accuracy: 0.2695\n",
      "Epoch 13/15\n",
      "10000/10000 [==============================] - 6s 558us/step - loss: 2.6613 - accuracy: 0.2721 - val_loss: 2.6337 - val_accuracy: 0.2663\n",
      "Epoch 14/15\n",
      "10000/10000 [==============================] - 6s 554us/step - loss: 2.5823 - accuracy: 0.2695 - val_loss: 2.5656 - val_accuracy: 0.2646\n",
      "Epoch 15/15\n",
      "10000/10000 [==============================] - 6s 557us/step - loss: 2.5208 - accuracy: 0.2672 - val_loss: 2.5118 - val_accuracy: 0.2617\n"
     ]
    }
   ],
   "source": [
    "from tensorflow.keras.optimizers import Ftrl\n",
    "\n",
    "model = create_model(.0001, Ftrl)\n",
    "FTRL_model = model.fit(X_train, y_train,\n",
    "                       epochs=15,\n",
    "                       batch_size=8,\n",
    "                       validation_data=(X_test, y_test))"
   ]
  },
  {
   "cell_type": "code",
   "execution_count": 44,
   "metadata": {},
   "outputs": [
    {
     "data": {
      "text/html": [
       "<div>\n",
       "<style scoped>\n",
       "    .dataframe tbody tr th:only-of-type {\n",
       "        vertical-align: middle;\n",
       "    }\n",
       "\n",
       "    .dataframe tbody tr th {\n",
       "        vertical-align: top;\n",
       "    }\n",
       "\n",
       "    .dataframe thead th {\n",
       "        text-align: right;\n",
       "    }\n",
       "</style>\n",
       "<table border=\"1\" class=\"dataframe\">\n",
       "  <thead>\n",
       "    <tr style=\"text-align: right;\">\n",
       "      <th></th>\n",
       "      <th>loss</th>\n",
       "      <th>accuracy</th>\n",
       "      <th>val_loss</th>\n",
       "      <th>val_accuracy</th>\n",
       "      <th>epoch</th>\n",
       "      <th>Optimizer</th>\n",
       "    </tr>\n",
       "  </thead>\n",
       "  <tbody>\n",
       "    <tr>\n",
       "      <th>0</th>\n",
       "      <td>4.131117</td>\n",
       "      <td>0.303712</td>\n",
       "      <td>1.700401</td>\n",
       "      <td>0.39430</td>\n",
       "      <td>0</td>\n",
       "      <td>Nadam</td>\n",
       "    </tr>\n",
       "    <tr>\n",
       "      <th>1</th>\n",
       "      <td>1.546633</td>\n",
       "      <td>0.456300</td>\n",
       "      <td>1.473823</td>\n",
       "      <td>0.47355</td>\n",
       "      <td>1</td>\n",
       "      <td>Nadam</td>\n",
       "    </tr>\n",
       "    <tr>\n",
       "      <th>2</th>\n",
       "      <td>1.347446</td>\n",
       "      <td>0.523275</td>\n",
       "      <td>1.336146</td>\n",
       "      <td>0.53850</td>\n",
       "      <td>2</td>\n",
       "      <td>Nadam</td>\n",
       "    </tr>\n",
       "    <tr>\n",
       "      <th>3</th>\n",
       "      <td>1.201488</td>\n",
       "      <td>0.571588</td>\n",
       "      <td>1.247435</td>\n",
       "      <td>0.58090</td>\n",
       "      <td>3</td>\n",
       "      <td>Nadam</td>\n",
       "    </tr>\n",
       "    <tr>\n",
       "      <th>4</th>\n",
       "      <td>1.107887</td>\n",
       "      <td>0.601250</td>\n",
       "      <td>1.151325</td>\n",
       "      <td>0.60865</td>\n",
       "      <td>4</td>\n",
       "      <td>Nadam</td>\n",
       "    </tr>\n",
       "  </tbody>\n",
       "</table>\n",
       "</div>"
      ],
      "text/plain": [
       "       loss  accuracy  val_loss  val_accuracy  epoch Optimizer\n",
       "0  4.131117  0.303712  1.700401       0.39430      0     Nadam\n",
       "1  1.546633  0.456300  1.473823       0.47355      1     Nadam\n",
       "2  1.347446  0.523275  1.336146       0.53850      2     Nadam\n",
       "3  1.201488  0.571588  1.247435       0.58090      3     Nadam\n",
       "4  1.107887  0.601250  1.151325       0.60865      4     Nadam"
      ]
     },
     "execution_count": 44,
     "metadata": {},
     "output_type": "execute_result"
    }
   ],
   "source": [
    "batch_sizes = []\n",
    "\n",
    "for exp, result in zip([nadam_model, adam_model, sgd_nest],\n",
    "                       [\"Nadam\", \"Adam\", \"SGD+Nest\"]):\n",
    "\n",
    "  df = pd.DataFrame.from_dict(exp.history)\n",
    "  df['epoch'] = df.index.values\n",
    "  df['Optimizer'] = result\n",
    "\n",
    "  batch_sizes.append(df)\n",
    "\n",
    "df = pd.concat(batch_sizes)\n",
    "df['Optimizer'] = df['Optimizer'].astype('str')\n",
    "df.head()"
   ]
  },
  {
   "cell_type": "code",
   "execution_count": 46,
   "metadata": {},
   "outputs": [
    {
     "data": {
      "image/png": "[encoded data removed]",
      "text/plain": [
       "<Figure size 432x288 with 1 Axes>"
      ]
     },
     "metadata": {
      "needs_background": "light"
     },
     "output_type": "display_data"
    }
   ],
   "source": [
    "sns.lineplot(x='epoch', y='val_loss', hue='Optimizer', data=df);"
   ]
  },
  {
   "cell_type": "code",
   "execution_count": 47,
   "metadata": {},
   "outputs": [
    {
     "data": {
      "image/png": "[encoded data removed]",
      "text/plain": [
       "<Figure size 432x288 with 1 Axes>"
      ]
     },
     "metadata": {
      "needs_background": "light"
     },
     "output_type": "display_data"
    }
   ],
   "source": [
    "sns.lineplot(x='epoch', y='val_accuracy', hue='Optimizer', data=df);"
   ]
  },
  {
   "cell_type": "markdown",
   "metadata": {
    "colab_type": "text",
    "id": "ydAqeY9S8uHA"
   },
   "source": [
    "### Additional Written Tasks\n",
    "\n",
    "1. Describe the process of backpropagation in your own words: \n",
    "```\n",
    "Your answer goes here.\n",
    "```\n",
    "\n"
   ]
  },
  {
   "cell_type": "markdown",
   "metadata": {
    "colab_type": "text",
    "id": "FwlRJSfBlCvy"
   },
   "source": [
    "## Stretch Goals: \n",
    "\n",
    "- Implement GridSearch on anyone of the experiments\n",
    "- On the learning rate experiments, implement [EarlyStopping](https://www.tensorflow.org/api_docs/python/tf/keras/callbacks/EarlyStopping)\n",
    "- Review material on the math behind gradient descent: \n",
    "\n",
    "  - Gradient Descent\n",
    "    - Gradient Descent, Step-by-Step  by StatQuest w/ Josh Starmer. This will help you understand the gradient descent based optimization that happens underneath the hood of neural networks. It uses a non-neural network example, which I believe is a gentler introduction. You will hear me refer to this technique as \"vanilla\" gradient descent. \n",
    "    - Stochastic Gradient Descent, Clearly Explained!!! by StatQuest w/ Josh Starmer. This builds on the techniques in the previous video.  This technique is the one that is actually implemented inside modern 'nets. \n",
    "These are great resources to help you understand tomorrow's material at a deeper level. I highly recommend watching these ahead of tomorrow.\n",
    "\n",
    "  - Background Math\n",
    "    - Dot products and duality by 3Blue1Brown. Explains the core linear algebra operation happening in today's perceptron.\n",
    "The paradox of the derivative by 3Blue1Brown. Does a great job explaining a derivative. \n",
    "    - Visualizing the chain rule and product rule by 3Blue1Brown. Explains the black magic that happens within Stochastic Gradient Descent. \n",
    "These math resources are very much optional. They can be very heady, but I encourage you to explore. Your understanding of neural networks will greatly increase if you understand this math background.\n",
    "\n",
    "\n"
   ]
  },
  {
   "cell_type": "code",
   "execution_count": null,
   "metadata": {},
   "outputs": [],
   "source": []
  }
 ],
 "metadata": {
  "colab": {
   "collapsed_sections": [],
   "name": "LS_DS_432_Train_Assignment.ipynb",
   "provenance": []
  },
  "kernelspec": {
   "display_name": "Python 3",
   "language": "python",
   "name": "python3"
  },
  "language_info": {
   "codemirror_mode": {
    "name": "ipython",
    "version": 3
   },
   "file_extension": ".py",
   "mimetype": "text/x-python",
   "name": "python",
   "nbconvert_exporter": "python",
   "pygments_lexer": "ipython3",
   "version": "3.8.3"
  },
  "nteract": {
   "version": "0.22.4"
  }
 },
 "nbformat": 4,
 "nbformat_minor": 4
}
