{
 "cells": [
  {
   "cell_type": "markdown",
   "metadata": {
    "colab_type": "text",
    "id": "NGGrt9EYlCqY"
   },
   "source": [
    "<img align=\"left\" src=\"https://lever-client-logos.s3.amazonaws.com/864372b1-534c-480e-acd5-9711f850815c-1524247202159.png\" width=200>\n",
    "<br></br>\n",
    "<br></br>\n",
    "\n",
    "# Train Practice\n",
    "\n",
    "## *Data Science Unit 4 Sprint 2 Assignment 2*\n",
    "\n",
    "Continue to use TensorFlow Keras & a sample of the [Quickdraw dataset](https://github.com/googlecreativelab/quickdraw-dataset) to build a sketch classification model. The dataset has been sampled to only 10 classes and 10000 observations per class. Please build a baseline classification model then run a few experiments with different optimizers and learning rates. \n",
    "\n",
    "*Don't forgot to switch to GPU on Colab!*"
   ]
  },
  {
   "cell_type": "markdown",
   "metadata": {
    "colab_type": "text",
    "id": "ptJ2b3wk62Ud"
   },
   "source": [
    "### Write a function to load your data\n",
    "\n",
    "Wrap yesterday's preprocessing steps into a function that returns four items:\n",
    "* X_train\n",
    "* y_train\n",
    "* X_test\n",
    "* y_test\n",
    "\n",
    "Your function should accept a `path` to the data as a argument."
   ]
  },
  {
   "cell_type": "code",
   "execution_count": 76,
   "metadata": {},
   "outputs": [],
   "source": [
    "import numpy as np\n",
    "from sklearn.model_selection import train_test_split\n",
    "from sklearn.utils import shuffle\n"
   ]
  },
  {
   "cell_type": "code",
   "execution_count": 77,
   "metadata": {
    "colab": {},
    "colab_type": "code",
    "id": "nJsIsrvp7O3e"
   },
   "outputs": [],
   "source": [
    "def load_quickdraw10(path):\n",
    "  data = np.load(path)\n",
    "  X = data['arr_0']\n",
    "  y = data['arr_1']\n",
    "  X, y = shuffle(X, y)\n",
    "  X_train, X_test, y_train, y_test = train_test_split(X, y, test_size=0.2,\n",
    "                                                      random_state=42)\n",
    "  \n",
    "  return X_train, y_train, X_test, y_test"
   ]
  },
  {
   "cell_type": "code",
   "execution_count": 78,
   "metadata": {},
   "outputs": [],
   "source": [
    "X_train, y_train, X_test, y_test = load_quickdraw10('../quickdraw10.npz')"
   ]
  },
  {
   "cell_type": "markdown",
   "metadata": {
    "colab_type": "text",
    "id": "l-6PxI6H5__2"
   },
   "source": [
    "### Write a Model Function\n",
    "Using your model from yesterday, write a function called `create_model` which returns a compiled TensorFlow Keras Sequential Model suitable for classifying the QuickDraw-10 dataset. Include parameters for the following: \n",
    "* Learning Rate\n",
    "* Optimizer"
   ]
  },
  {
   "cell_type": "code",
   "execution_count": 79,
   "metadata": {},
   "outputs": [],
   "source": [
    "import tensorflow as tf\n",
    "from tensorflow.keras.models import Sequential\n",
    "from tensorflow.keras.layers import Dense\n",
    "from tensorflow.keras.optimizers import SGD\n",
    "from tensorflow.keras.optimizers import Adam"
   ]
  },
  {
   "cell_type": "code",
   "execution_count": 80,
   "metadata": {
    "colab": {},
    "colab_type": "code",
    "id": "nEREYT-3wI1f"
   },
   "outputs": [],
   "source": [
    "##### Your Code Here #####\n",
    "\n",
    "def create_model(lr, optimizer = Adam):\n",
    "  optim = optimizer(learning_rate=lr)\n",
    "\n",
    "  model = Sequential(\n",
    "      [Dense(64, activation='relu', input_dim=784),\n",
    "       Dense(32, activation='relu'),\n",
    "       Dense(10, activation='softmax')]\n",
    "  )\n",
    "\n",
    "  model.compile(optimizer=optim, loss='sparse_categorical_crossentropy',\n",
    "                metrics=['accuracy'])  \n",
    "  return model"
   ]
  },
  {
   "cell_type": "markdown",
   "metadata": {
    "colab_type": "text",
    "id": "f0pCkh8C7eGL"
   },
   "source": [
    "### Experiment with Batch Size\n",
    "* Run 5 experiments with various batch sizes of your choice. \n",
    "* Visualize the results\n",
    "* Write up an analysis of the experiments and select the \"best\" performing model among your experiments. Make sure to compare against your model's performance yesterday. "
   ]
  },
  {
   "cell_type": "code",
   "execution_count": 81,
   "metadata": {},
   "outputs": [
    {
     "name": "stdout",
     "output_type": "stream",
     "text": [
      "Epoch 1/10\n",
      "2500/2500 [==============================] - 2s 696us/step - loss: 2.5229 - accuracy: 0.1011 - val_loss: 2.3039 - val_accuracy: 0.1010\n",
      "Epoch 2/10\n",
      "2500/2500 [==============================] - 2s 653us/step - loss: 2.3038 - accuracy: 0.1015 - val_loss: 2.3029 - val_accuracy: 0.0983\n",
      "Epoch 3/10\n",
      "2500/2500 [==============================] - 2s 669us/step - loss: 2.3040 - accuracy: 0.0981 - val_loss: 2.3032 - val_accuracy: 0.1025\n",
      "Epoch 4/10\n",
      "2500/2500 [==============================] - 2s 704us/step - loss: 2.3039 - accuracy: 0.1006 - val_loss: 2.3044 - val_accuracy: 0.0991\n",
      "Epoch 5/10\n",
      "2500/2500 [==============================] - 2s 709us/step - loss: 2.3040 - accuracy: 0.0989 - val_loss: 2.3029 - val_accuracy: 0.0983\n",
      "Epoch 6/10\n",
      "2500/2500 [==============================] - 2s 699us/step - loss: 2.3038 - accuracy: 0.1009 - val_loss: 2.3046 - val_accuracy: 0.1003\n",
      "Epoch 7/10\n",
      "2500/2500 [==============================] - 2s 693us/step - loss: 2.3039 - accuracy: 0.1010 - val_loss: 2.3037 - val_accuracy: 0.1025\n",
      "Epoch 8/10\n",
      "2500/2500 [==============================] - 2s 695us/step - loss: 2.3038 - accuracy: 0.0983 - val_loss: 2.3036 - val_accuracy: 0.1025\n",
      "Epoch 9/10\n",
      "2500/2500 [==============================] - 2s 672us/step - loss: 2.3040 - accuracy: 0.0995 - val_loss: 2.3034 - val_accuracy: 0.1025\n",
      "Epoch 10/10\n",
      "2500/2500 [==============================] - 2s 702us/step - loss: 2.3038 - accuracy: 0.1003 - val_loss: 2.3046 - val_accuracy: 0.1025\n"
     ]
    }
   ],
   "source": [
    "model_one = create_model(.01)\n",
    "bt_default = model_one.fit(X_train, y_train,\n",
    "                       epochs=10,\n",
    "                       batch_size=32,\n",
    "                       validation_data=(X_test, y_test))"
   ]
  },
  {
   "cell_type": "code",
   "execution_count": 82,
   "metadata": {
    "colab": {},
    "colab_type": "code",
    "id": "USXjs7Hk71Hy"
   },
   "outputs": [
    {
     "name": "stdout",
     "output_type": "stream",
     "text": [
      "Epoch 1/20\n",
      "1250/1250 [==============================] - 1s 755us/step - loss: 2.7940 - accuracy: 0.5196 - val_loss: 1.1961 - val_accuracy: 0.6292\n",
      "Epoch 2/20\n",
      "1250/1250 [==============================] - 1s 710us/step - loss: 1.1776 - accuracy: 0.6278 - val_loss: 1.1960 - val_accuracy: 0.6128\n",
      "Epoch 3/20\n",
      "1250/1250 [==============================] - 1s 874us/step - loss: 1.1278 - accuracy: 0.6489 - val_loss: 1.0851 - val_accuracy: 0.6697\n",
      "Epoch 4/20\n",
      "1250/1250 [==============================] - 1s 787us/step - loss: 1.1299 - accuracy: 0.6577 - val_loss: 1.2251 - val_accuracy: 0.6029\n",
      "Epoch 5/20\n",
      "1250/1250 [==============================] - 1s 769us/step - loss: 1.2076 - accuracy: 0.6173 - val_loss: 1.2232 - val_accuracy: 0.6051\n",
      "Epoch 6/20\n",
      "1250/1250 [==============================] - 1s 783us/step - loss: 1.2959 - accuracy: 0.5672 - val_loss: 1.3341 - val_accuracy: 0.5069\n",
      "Epoch 7/20\n",
      "1250/1250 [==============================] - 1s 805us/step - loss: 1.3544 - accuracy: 0.5314 - val_loss: 1.3906 - val_accuracy: 0.4895\n",
      "Epoch 8/20\n",
      "1250/1250 [==============================] - 1s 819us/step - loss: 1.4940 - accuracy: 0.4571 - val_loss: 1.5226 - val_accuracy: 0.4319\n",
      "Epoch 9/20\n",
      "1250/1250 [==============================] - 1s 845us/step - loss: 1.6259 - accuracy: 0.3903 - val_loss: 1.5855 - val_accuracy: 0.3708\n",
      "Epoch 10/20\n",
      "1250/1250 [==============================] - 1s 853us/step - loss: 1.5626 - accuracy: 0.3936 - val_loss: 1.4964 - val_accuracy: 0.4026\n",
      "Epoch 11/20\n",
      "1250/1250 [==============================] - 1s 827us/step - loss: 1.6018 - accuracy: 0.3914 - val_loss: 1.5860 - val_accuracy: 0.4094\n",
      "Epoch 12/20\n",
      "1250/1250 [==============================] - 1s 851us/step - loss: 1.5972 - accuracy: 0.3938 - val_loss: 1.6689 - val_accuracy: 0.3173\n",
      "Epoch 13/20\n",
      "1250/1250 [==============================] - 1s 813us/step - loss: 1.6923 - accuracy: 0.3214 - val_loss: 1.6500 - val_accuracy: 0.3420\n",
      "Epoch 14/20\n",
      "1250/1250 [==============================] - 1s 827us/step - loss: 1.7144 - accuracy: 0.3314 - val_loss: 1.9791 - val_accuracy: 0.2585\n",
      "Epoch 15/20\n",
      "1250/1250 [==============================] - 1s 838us/step - loss: 1.6917 - accuracy: 0.3277 - val_loss: 1.6777 - val_accuracy: 0.3422\n",
      "Epoch 16/20\n",
      "1250/1250 [==============================] - 1s 786us/step - loss: 1.6733 - accuracy: 0.3262 - val_loss: 1.6668 - val_accuracy: 0.3200\n",
      "Epoch 17/20\n",
      "1250/1250 [==============================] - 1s 819us/step - loss: 1.6512 - accuracy: 0.3362 - val_loss: 1.6728 - val_accuracy: 0.3462\n",
      "Epoch 18/20\n",
      "1250/1250 [==============================] - 1s 804us/step - loss: 1.7109 - accuracy: 0.3376 - val_loss: 1.6635 - val_accuracy: 0.3307\n",
      "Epoch 19/20\n",
      "1250/1250 [==============================] - 1s 833us/step - loss: 1.6884 - accuracy: 0.3239 - val_loss: 1.7416 - val_accuracy: 0.3435\n",
      "Epoch 20/20\n",
      "1250/1250 [==============================] - 1s 810us/step - loss: 1.6790 - accuracy: 0.3253 - val_loss: 1.6578 - val_accuracy: 0.3399\n"
     ]
    }
   ],
   "source": [
    "model_two = create_model(.01)\n",
    "bt_default = model_two.fit(X_train, y_train,\n",
    "                       epochs=20,\n",
    "                       batch_size=64,\n",
    "                       validation_data=(X_test, y_test))"
   ]
  },
  {
   "cell_type": "code",
   "execution_count": 83,
   "metadata": {},
   "outputs": [
    {
     "name": "stdout",
     "output_type": "stream",
     "text": [
      "Epoch 1/10\n",
      "10000/10000 [==============================] - 6s 607us/step - loss: 2.4099 - accuracy: 0.1006 - val_loss: 2.3060 - val_accuracy: 0.1003\n",
      "Epoch 2/10\n",
      "10000/10000 [==============================] - 6s 587us/step - loss: 2.3123 - accuracy: 0.0995 - val_loss: 2.3057 - val_accuracy: 0.0997\n",
      "Epoch 3/10\n",
      "10000/10000 [==============================] - 6s 571us/step - loss: 2.3054 - accuracy: 0.1010 - val_loss: 2.3072 - val_accuracy: 0.0997\n",
      "Epoch 4/10\n",
      "10000/10000 [==============================] - 6s 591us/step - loss: 2.3197 - accuracy: 0.1006 - val_loss: 2.3043 - val_accuracy: 0.1022\n",
      "Epoch 5/10\n",
      "10000/10000 [==============================] - 6s 599us/step - loss: 2.3124 - accuracy: 0.1002 - val_loss: 2.3054 - val_accuracy: 0.1003\n",
      "Epoch 6/10\n",
      "10000/10000 [==============================] - 6s 585us/step - loss: 2.3054 - accuracy: 0.0983 - val_loss: 2.3071 - val_accuracy: 0.0996\n",
      "Epoch 7/10\n",
      "10000/10000 [==============================] - 6s 594us/step - loss: 2.3053 - accuracy: 0.0991 - val_loss: 2.3039 - val_accuracy: 0.0996\n",
      "Epoch 8/10\n",
      "10000/10000 [==============================] - 6s 591us/step - loss: 2.3054 - accuracy: 0.1015 - val_loss: 2.3040 - val_accuracy: 0.1022\n",
      "Epoch 9/10\n",
      "10000/10000 [==============================] - 6s 593us/step - loss: 2.3052 - accuracy: 0.1007 - val_loss: 2.3080 - val_accuracy: 0.0997\n",
      "Epoch 10/10\n",
      "10000/10000 [==============================] - 6s 607us/step - loss: 2.3053 - accuracy: 0.0998 - val_loss: 2.3102 - val_accuracy: 0.0976\n"
     ]
    }
   ],
   "source": [
    "model_three = create_model(.01)\n",
    "bt_default = model_three.fit(X_train, y_train,\n",
    "                       epochs=10,\n",
    "                       batch_size=8,\n",
    "                       validation_data=(X_test, y_test))"
   ]
  },
  {
   "cell_type": "code",
   "execution_count": 84,
   "metadata": {},
   "outputs": [
    {
     "name": "stdout",
     "output_type": "stream",
     "text": [
      "Epoch 1/20\n",
      "   1/5000 [..............................] - ETA: 0s - loss: 125.7230 - accuracy: 0.1250WARNING:tensorflow:Callbacks method `on_train_batch_end` is slow compared to the batch time (batch time: 0.0000s vs `on_train_batch_end` time: 0.0010s). Check your callbacks.\n",
      "5000/5000 [==============================] - 3s 635us/step - loss: 2.2606 - accuracy: 0.1828 - val_loss: 2.0027 - val_accuracy: 0.2041\n",
      "Epoch 2/20\n",
      "5000/5000 [==============================] - 3s 655us/step - loss: 1.9360 - accuracy: 0.2475 - val_loss: 1.8387 - val_accuracy: 0.2725\n",
      "Epoch 3/20\n",
      "5000/5000 [==============================] - 3s 621us/step - loss: 1.6893 - accuracy: 0.3345 - val_loss: 1.6295 - val_accuracy: 0.3658\n",
      "Epoch 4/20\n",
      "5000/5000 [==============================] - 3s 639us/step - loss: 1.2437 - accuracy: 0.5583 - val_loss: 1.0750 - val_accuracy: 0.6481\n",
      "Epoch 5/20\n",
      "5000/5000 [==============================] - 3s 631us/step - loss: 0.9979 - accuracy: 0.6901 - val_loss: 0.9897 - val_accuracy: 0.7281\n",
      "Epoch 6/20\n",
      "5000/5000 [==============================] - 3s 626us/step - loss: 0.8977 - accuracy: 0.7372 - val_loss: 0.9339 - val_accuracy: 0.7541\n",
      "Epoch 7/20\n",
      "5000/5000 [==============================] - 3s 632us/step - loss: 0.8512 - accuracy: 0.7509 - val_loss: 0.9129 - val_accuracy: 0.7476\n",
      "Epoch 8/20\n",
      "5000/5000 [==============================] - 3s 617us/step - loss: 0.8169 - accuracy: 0.7650 - val_loss: 0.9362 - val_accuracy: 0.7595\n",
      "Epoch 9/20\n",
      "5000/5000 [==============================] - 3s 624us/step - loss: 0.7879 - accuracy: 0.7704 - val_loss: 0.9421 - val_accuracy: 0.7484\n",
      "Epoch 10/20\n",
      "5000/5000 [==============================] - 3s 610us/step - loss: 0.7707 - accuracy: 0.7791 - val_loss: 0.9331 - val_accuracy: 0.7606\n",
      "Epoch 11/20\n",
      "5000/5000 [==============================] - 3s 599us/step - loss: 0.7496 - accuracy: 0.7856 - val_loss: 0.8868 - val_accuracy: 0.7819\n",
      "Epoch 12/20\n",
      "5000/5000 [==============================] - 3s 602us/step - loss: 0.7418 - accuracy: 0.7883 - val_loss: 0.9549 - val_accuracy: 0.7757\n",
      "Epoch 13/20\n",
      "5000/5000 [==============================] - 3s 611us/step - loss: 0.7232 - accuracy: 0.7925 - val_loss: 0.9272 - val_accuracy: 0.7749\n",
      "Epoch 14/20\n",
      "5000/5000 [==============================] - 3s 602us/step - loss: 0.6905 - accuracy: 0.7997 - val_loss: 0.8687 - val_accuracy: 0.7856\n",
      "Epoch 15/20\n",
      "5000/5000 [==============================] - 3s 612us/step - loss: 0.6770 - accuracy: 0.8026 - val_loss: 0.9021 - val_accuracy: 0.7623\n",
      "Epoch 16/20\n",
      "5000/5000 [==============================] - 3s 606us/step - loss: 0.6684 - accuracy: 0.8062 - val_loss: 0.8654 - val_accuracy: 0.7868\n",
      "Epoch 17/20\n",
      "5000/5000 [==============================] - 3s 607us/step - loss: 0.6623 - accuracy: 0.8082 - val_loss: 0.8985 - val_accuracy: 0.7751\n",
      "Epoch 18/20\n",
      "5000/5000 [==============================] - 3s 606us/step - loss: 0.6562 - accuracy: 0.8097 - val_loss: 0.8992 - val_accuracy: 0.7887\n",
      "Epoch 19/20\n",
      "5000/5000 [==============================] - 3s 598us/step - loss: 0.6408 - accuracy: 0.8121 - val_loss: 0.9319 - val_accuracy: 0.7851\n",
      "Epoch 20/20\n",
      "5000/5000 [==============================] - 3s 611us/step - loss: 0.6407 - accuracy: 0.8137 - val_loss: 0.9196 - val_accuracy: 0.7922\n"
     ]
    }
   ],
   "source": [
    "model_four = create_model(.001)\n",
    "bt_default = model_four.fit(X_train, y_train,\n",
    "                       epochs=20,\n",
    "                       batch_size=16,\n",
    "                       validation_data=(X_test, y_test))"
   ]
  },
  {
   "cell_type": "code",
   "execution_count": 85,
   "metadata": {},
   "outputs": [
    {
     "name": "stdout",
     "output_type": "stream",
     "text": [
      "Epoch 1/20\n",
      "6667/6667 [==============================] - 4s 603us/step - loss: 1.5878 - accuracy: 0.6148 - val_loss: 0.9574 - val_accuracy: 0.7068\n",
      "Epoch 2/20\n",
      "6667/6667 [==============================] - 4s 617us/step - loss: 0.8509 - accuracy: 0.7292 - val_loss: 0.8188 - val_accuracy: 0.7445\n",
      "Epoch 3/20\n",
      "6667/6667 [==============================] - 4s 612us/step - loss: 0.7562 - accuracy: 0.7718 - val_loss: 0.7542 - val_accuracy: 0.7772\n",
      "Epoch 4/20\n",
      "6667/6667 [==============================] - 4s 593us/step - loss: 0.7076 - accuracy: 0.7900 - val_loss: 0.7362 - val_accuracy: 0.7871\n",
      "Epoch 5/20\n",
      "6667/6667 [==============================] - 4s 609us/step - loss: 0.6761 - accuracy: 0.7995 - val_loss: 0.6948 - val_accuracy: 0.7922\n",
      "Epoch 6/20\n",
      "6667/6667 [==============================] - 4s 611us/step - loss: 0.6626 - accuracy: 0.8043 - val_loss: 0.6899 - val_accuracy: 0.8036\n",
      "Epoch 7/20\n",
      "6667/6667 [==============================] - 4s 608us/step - loss: 0.6470 - accuracy: 0.8086 - val_loss: 0.7027 - val_accuracy: 0.7917\n",
      "Epoch 8/20\n",
      "6667/6667 [==============================] - 4s 607us/step - loss: 0.6355 - accuracy: 0.8131 - val_loss: 0.6943 - val_accuracy: 0.7986\n",
      "Epoch 9/20\n",
      "6667/6667 [==============================] - 4s 615us/step - loss: 0.6225 - accuracy: 0.8161 - val_loss: 0.6867 - val_accuracy: 0.8042\n",
      "Epoch 10/20\n",
      "6667/6667 [==============================] - 4s 619us/step - loss: 0.6186 - accuracy: 0.8176 - val_loss: 0.6887 - val_accuracy: 0.8087\n",
      "Epoch 11/20\n",
      "6667/6667 [==============================] - 4s 592us/step - loss: 0.6075 - accuracy: 0.8211 - val_loss: 0.6791 - val_accuracy: 0.8104\n",
      "Epoch 12/20\n",
      "6667/6667 [==============================] - 4s 613us/step - loss: 0.6033 - accuracy: 0.8214 - val_loss: 0.6971 - val_accuracy: 0.8120\n",
      "Epoch 13/20\n",
      "6667/6667 [==============================] - 4s 599us/step - loss: 0.5910 - accuracy: 0.8256 - val_loss: 0.7098 - val_accuracy: 0.8023\n",
      "Epoch 14/20\n",
      "6667/6667 [==============================] - 4s 607us/step - loss: 0.5862 - accuracy: 0.8266 - val_loss: 0.7207 - val_accuracy: 0.8053\n",
      "Epoch 15/20\n",
      "6667/6667 [==============================] - 4s 611us/step - loss: 0.5784 - accuracy: 0.8294 - val_loss: 0.7360 - val_accuracy: 0.8044\n",
      "Epoch 16/20\n",
      "6667/6667 [==============================] - 4s 612us/step - loss: 0.5699 - accuracy: 0.8317 - val_loss: 0.7326 - val_accuracy: 0.8151\n",
      "Epoch 17/20\n",
      "6667/6667 [==============================] - 4s 605us/step - loss: 0.5656 - accuracy: 0.8325 - val_loss: 0.7744 - val_accuracy: 0.7885\n",
      "Epoch 18/20\n",
      "6667/6667 [==============================] - 4s 607us/step - loss: 0.5645 - accuracy: 0.8359 - val_loss: 0.7091 - val_accuracy: 0.8157\n",
      "Epoch 19/20\n",
      "6667/6667 [==============================] - 4s 608us/step - loss: 0.5574 - accuracy: 0.8374 - val_loss: 0.7391 - val_accuracy: 0.8141\n",
      "Epoch 20/20\n",
      "6667/6667 [==============================] - 4s 606us/step - loss: 0.5567 - accuracy: 0.8371 - val_loss: 0.7507 - val_accuracy: 0.7998\n"
     ]
    }
   ],
   "source": [
    "model_five = create_model(.001)\n",
    "bt_default = model_five.fit(X_train, y_train,\n",
    "                       epochs=20,\n",
    "                       batch_size=12,\n",
    "                       validation_data=(X_test, y_test))"
   ]
  },
  {
   "cell_type": "code",
   "execution_count": 86,
   "metadata": {},
   "outputs": [
    {
     "name": "stdout",
     "output_type": "stream",
     "text": [
      "Epoch 1/20\n",
      "2500/2500 [==============================] - 2s 761us/step - loss: 10.9922 - accuracy: 0.3526 - val_loss: 2.0854 - val_accuracy: 0.3289\n",
      "Epoch 2/20\n",
      "2500/2500 [==============================] - 2s 717us/step - loss: 1.7888 - accuracy: 0.4224 - val_loss: 1.5961 - val_accuracy: 0.5139\n",
      "Epoch 3/20\n",
      "2500/2500 [==============================] - 2s 678us/step - loss: 1.4442 - accuracy: 0.5573 - val_loss: 1.3440 - val_accuracy: 0.6013\n",
      "Epoch 4/20\n",
      "2500/2500 [==============================] - 2s 703us/step - loss: 1.2139 - accuracy: 0.6263 - val_loss: 1.1719 - val_accuracy: 0.6515\n",
      "Epoch 5/20\n",
      "2500/2500 [==============================] - 2s 688us/step - loss: 1.0390 - accuracy: 0.6685 - val_loss: 1.0235 - val_accuracy: 0.6887\n",
      "Epoch 6/20\n",
      "2500/2500 [==============================] - 2s 698us/step - loss: 0.9203 - accuracy: 0.7017 - val_loss: 0.9455 - val_accuracy: 0.7145\n",
      "Epoch 7/20\n",
      "2500/2500 [==============================] - 2s 683us/step - loss: 0.8390 - accuracy: 0.7278 - val_loss: 0.8767 - val_accuracy: 0.7304\n",
      "Epoch 8/20\n",
      "2500/2500 [==============================] - 2s 692us/step - loss: 0.7788 - accuracy: 0.7457 - val_loss: 0.8279 - val_accuracy: 0.7454\n",
      "Epoch 9/20\n",
      "2500/2500 [==============================] - 2s 692us/step - loss: 0.7330 - accuracy: 0.7610 - val_loss: 0.8090 - val_accuracy: 0.7621\n",
      "Epoch 10/20\n",
      "2500/2500 [==============================] - 2s 684us/step - loss: 0.6964 - accuracy: 0.7714 - val_loss: 0.7836 - val_accuracy: 0.7663\n",
      "Epoch 11/20\n",
      "2500/2500 [==============================] - 2s 699us/step - loss: 0.6653 - accuracy: 0.7819 - val_loss: 0.7585 - val_accuracy: 0.7738\n",
      "Epoch 12/20\n",
      "2500/2500 [==============================] - 2s 682us/step - loss: 0.6412 - accuracy: 0.7899 - val_loss: 0.7520 - val_accuracy: 0.7789\n",
      "Epoch 13/20\n",
      "2500/2500 [==============================] - 2s 710us/step - loss: 0.6175 - accuracy: 0.7976 - val_loss: 0.7421 - val_accuracy: 0.7786\n",
      "Epoch 14/20\n",
      "2500/2500 [==============================] - 2s 699us/step - loss: 0.5975 - accuracy: 0.8047 - val_loss: 0.7247 - val_accuracy: 0.7887\n",
      "Epoch 15/20\n",
      "2500/2500 [==============================] - 2s 715us/step - loss: 0.5805 - accuracy: 0.8106 - val_loss: 0.7172 - val_accuracy: 0.7933\n",
      "Epoch 16/20\n",
      "2500/2500 [==============================] - 2s 713us/step - loss: 0.5649 - accuracy: 0.8157 - val_loss: 0.7117 - val_accuracy: 0.7973\n",
      "Epoch 17/20\n",
      "2500/2500 [==============================] - 2s 713us/step - loss: 0.5499 - accuracy: 0.8210 - val_loss: 0.7135 - val_accuracy: 0.7958\n",
      "Epoch 18/20\n",
      "2500/2500 [==============================] - 2s 697us/step - loss: 0.5369 - accuracy: 0.8247 - val_loss: 0.7097 - val_accuracy: 0.8004\n",
      "Epoch 19/20\n",
      "2500/2500 [==============================] - 2s 683us/step - loss: 0.5248 - accuracy: 0.8293 - val_loss: 0.6973 - val_accuracy: 0.7994\n",
      "Epoch 20/20\n",
      "2500/2500 [==============================] - 2s 688us/step - loss: 0.5114 - accuracy: 0.8336 - val_loss: 0.6970 - val_accuracy: 0.8022\n"
     ]
    }
   ],
   "source": [
    "model_six = create_model(.0001)\n",
    "bt_default = model_six.fit(X_train, y_train,\n",
    "                       epochs=20,\n",
    "                       batch_size=32,\n",
    "                       validation_data=(X_test, y_test))"
   ]
  },
  {
   "cell_type": "code",
   "execution_count": 87,
   "metadata": {
    "colab": {},
    "colab_type": "code",
    "id": "_SA144xx8Luf"
   },
   "outputs": [
    {
     "name": "stdout",
     "output_type": "stream",
     "text": [
      "Epoch 1/20\n",
      "    1/10000 [..............................] - ETA: 0s - loss: 127.7520 - accuracy: 0.0000e+00WARNING:tensorflow:Callbacks method `on_train_batch_end` is slow compared to the batch time (batch time: 0.0000s vs `on_train_batch_end` time: 0.0010s). Check your callbacks.\n",
      "10000/10000 [==============================] - 6s 580us/step - loss: 3.7428 - accuracy: 0.2908 - val_loss: 1.7135 - val_accuracy: 0.3941\n",
      "Epoch 2/20\n",
      "10000/10000 [==============================] - 6s 592us/step - loss: 1.5918 - accuracy: 0.4354 - val_loss: 1.5251 - val_accuracy: 0.4589\n",
      "Epoch 3/20\n",
      "10000/10000 [==============================] - 6s 603us/step - loss: 1.4078 - accuracy: 0.5001 - val_loss: 1.3687 - val_accuracy: 0.5534\n",
      "Epoch 4/20\n",
      "10000/10000 [==============================] - 6s 594us/step - loss: 1.2040 - accuracy: 0.5965 - val_loss: 1.1597 - val_accuracy: 0.6229\n",
      "Epoch 5/20\n",
      "10000/10000 [==============================] - 6s 580us/step - loss: 1.0376 - accuracy: 0.6635 - val_loss: 1.0349 - val_accuracy: 0.6872\n",
      "Epoch 6/20\n",
      "10000/10000 [==============================] - 6s 592us/step - loss: 0.9133 - accuracy: 0.7051 - val_loss: 0.9320 - val_accuracy: 0.7169\n",
      "Epoch 7/20\n",
      "10000/10000 [==============================] - 6s 592us/step - loss: 0.8246 - accuracy: 0.7358 - val_loss: 0.8702 - val_accuracy: 0.7420\n",
      "Epoch 8/20\n",
      "10000/10000 [==============================] - 6s 597us/step - loss: 0.7560 - accuracy: 0.7568 - val_loss: 0.8264 - val_accuracy: 0.7441\n",
      "Epoch 9/20\n",
      "10000/10000 [==============================] - 6s 594us/step - loss: 0.7012 - accuracy: 0.7752 - val_loss: 0.7580 - val_accuracy: 0.7862\n",
      "Epoch 10/20\n",
      "10000/10000 [==============================] - 6s 592us/step - loss: 0.6534 - accuracy: 0.7947 - val_loss: 0.7328 - val_accuracy: 0.7954\n",
      "Epoch 11/20\n",
      "10000/10000 [==============================] - 6s 599us/step - loss: 0.6172 - accuracy: 0.8100 - val_loss: 0.6982 - val_accuracy: 0.7980\n",
      "Epoch 12/20\n",
      "10000/10000 [==============================] - 6s 579us/step - loss: 0.5893 - accuracy: 0.8223 - val_loss: 0.6769 - val_accuracy: 0.8069\n",
      "Epoch 13/20\n",
      "10000/10000 [==============================] - 6s 592us/step - loss: 0.5664 - accuracy: 0.8296 - val_loss: 0.6839 - val_accuracy: 0.8109\n",
      "Epoch 14/20\n",
      "10000/10000 [==============================] - 6s 593us/step - loss: 0.5457 - accuracy: 0.8370 - val_loss: 0.6641 - val_accuracy: 0.8147\n",
      "Epoch 15/20\n",
      "10000/10000 [==============================] - 6s 600us/step - loss: 0.5291 - accuracy: 0.8417 - val_loss: 0.6694 - val_accuracy: 0.8101\n",
      "Epoch 16/20\n",
      "10000/10000 [==============================] - 6s 597us/step - loss: 0.5149 - accuracy: 0.8466 - val_loss: 0.6688 - val_accuracy: 0.8123\n",
      "Epoch 17/20\n",
      "10000/10000 [==============================] - 6s 586us/step - loss: 0.5008 - accuracy: 0.8503 - val_loss: 0.6771 - val_accuracy: 0.8163\n",
      "Epoch 18/20\n",
      "10000/10000 [==============================] - 6s 598us/step - loss: 0.4900 - accuracy: 0.8525 - val_loss: 0.6795 - val_accuracy: 0.8202\n",
      "Epoch 19/20\n",
      "10000/10000 [==============================] - 6s 595us/step - loss: 0.4775 - accuracy: 0.8574 - val_loss: 0.6720 - val_accuracy: 0.8174\n",
      "Epoch 20/20\n",
      "10000/10000 [==============================] - 6s 593us/step - loss: 0.4667 - accuracy: 0.8597 - val_loss: 0.6849 - val_accuracy: 0.8146\n"
     ]
    }
   ],
   "source": [
    "model_seven = create_model(.0001)\n",
    "bt_default = model_seven.fit(X_train, y_train,\n",
    "                       epochs=20,\n",
    "                       batch_size=8,\n",
    "                       validation_data=(X_test, y_test))"
   ]
  },
  {
   "cell_type": "code",
   "execution_count": 88,
   "metadata": {},
   "outputs": [
    {
     "name": "stdout",
     "output_type": "stream",
     "text": [
      "Epoch 1/20\n",
      "1250/1250 [==============================] - 1s 923us/step - loss: 8.5080 - accuracy: 0.2646 - val_loss: 2.0949 - val_accuracy: 0.2864\n",
      "Epoch 2/20\n",
      "1250/1250 [==============================] - 1s 810us/step - loss: 1.9545 - accuracy: 0.3225 - val_loss: 1.8699 - val_accuracy: 0.3470\n",
      "Epoch 3/20\n",
      "1250/1250 [==============================] - 1s 786us/step - loss: 1.7709 - accuracy: 0.3738 - val_loss: 1.7428 - val_accuracy: 0.4150\n",
      "Epoch 4/20\n",
      "1250/1250 [==============================] - 1s 807us/step - loss: 1.6110 - accuracy: 0.4456 - val_loss: 1.5982 - val_accuracy: 0.4939\n",
      "Epoch 5/20\n",
      "1250/1250 [==============================] - 1s 789us/step - loss: 1.4571 - accuracy: 0.5114 - val_loss: 1.4433 - val_accuracy: 0.5329\n",
      "Epoch 6/20\n",
      "1250/1250 [==============================] - 1s 803us/step - loss: 1.3189 - accuracy: 0.5728 - val_loss: 1.3241 - val_accuracy: 0.5982\n",
      "Epoch 7/20\n",
      "1250/1250 [==============================] - 1s 809us/step - loss: 1.2007 - accuracy: 0.6211 - val_loss: 1.2407 - val_accuracy: 0.6327\n",
      "Epoch 8/20\n",
      "1250/1250 [==============================] - 1s 783us/step - loss: 1.1034 - accuracy: 0.6610 - val_loss: 1.1556 - val_accuracy: 0.6682\n",
      "Epoch 9/20\n",
      "1250/1250 [==============================] - 1s 793us/step - loss: 1.0250 - accuracy: 0.6882 - val_loss: 1.1095 - val_accuracy: 0.6930\n",
      "Epoch 10/20\n",
      "1250/1250 [==============================] - 1s 785us/step - loss: 0.9609 - accuracy: 0.7124 - val_loss: 1.0492 - val_accuracy: 0.7101\n",
      "Epoch 11/20\n",
      "1250/1250 [==============================] - 1s 777us/step - loss: 0.9100 - accuracy: 0.7304 - val_loss: 1.0124 - val_accuracy: 0.7279\n",
      "Epoch 12/20\n",
      "1250/1250 [==============================] - 1s 790us/step - loss: 0.8665 - accuracy: 0.7447 - val_loss: 0.9738 - val_accuracy: 0.7378\n",
      "Epoch 13/20\n",
      "1250/1250 [==============================] - 1s 793us/step - loss: 0.8290 - accuracy: 0.7541 - val_loss: 0.9547 - val_accuracy: 0.7450\n",
      "Epoch 14/20\n",
      "1250/1250 [==============================] - 1s 829us/step - loss: 0.7934 - accuracy: 0.7625 - val_loss: 0.9267 - val_accuracy: 0.7505\n",
      "Epoch 15/20\n",
      "1250/1250 [==============================] - 1s 813us/step - loss: 0.7659 - accuracy: 0.7688 - val_loss: 0.9140 - val_accuracy: 0.7581\n",
      "Epoch 16/20\n",
      "1250/1250 [==============================] - 1s 829us/step - loss: 0.7393 - accuracy: 0.7765 - val_loss: 0.8843 - val_accuracy: 0.7607\n",
      "Epoch 17/20\n",
      "1250/1250 [==============================] - 1s 791us/step - loss: 0.7156 - accuracy: 0.7826 - val_loss: 0.8723 - val_accuracy: 0.7665\n",
      "Epoch 18/20\n",
      "1250/1250 [==============================] - 1s 837us/step - loss: 0.6948 - accuracy: 0.7887 - val_loss: 0.8520 - val_accuracy: 0.7678\n",
      "Epoch 19/20\n",
      "1250/1250 [==============================] - 1s 824us/step - loss: 0.6755 - accuracy: 0.7946 - val_loss: 0.8568 - val_accuracy: 0.7729\n",
      "Epoch 20/20\n",
      "1250/1250 [==============================] - 1s 819us/step - loss: 0.6573 - accuracy: 0.8002 - val_loss: 0.8470 - val_accuracy: 0.7789\n"
     ]
    }
   ],
   "source": [
    "model_eight = create_model(.0001)\n",
    "bt_default = model_eight.fit(X_train, y_train,\n",
    "                       epochs=20,\n",
    "                       batch_size=64,\n",
    "                       validation_data=(X_test, y_test))"
   ]
  },
  {
   "cell_type": "code",
   "execution_count": 90,
   "metadata": {},
   "outputs": [
    {
     "ename": "ValueError",
     "evalue": "DataFrame constructor not properly called!",
     "output_type": "error",
     "traceback": [
      "\u001b[1;31m---------------------------------------------------------------------------\u001b[0m",
      "\u001b[1;31mValueError\u001b[0m                                Traceback (most recent call last)",
      "\u001b[1;32m<ipython-input-90-5899fa0ad71f>\u001b[0m in \u001b[0;36m<module>\u001b[1;34m\u001b[0m\n\u001b[0;32m      6\u001b[0m \u001b[1;32mfor\u001b[0m \u001b[0mexp\u001b[0m\u001b[1;33m,\u001b[0m \u001b[0mresult\u001b[0m \u001b[1;32min\u001b[0m \u001b[0mzip\u001b[0m\u001b[1;33m(\u001b[0m\u001b[1;33m[\u001b[0m\u001b[0mmodel_six\u001b[0m\u001b[1;33m,\u001b[0m \u001b[0mmodel_eight\u001b[0m\u001b[1;33m,\u001b[0m \u001b[0mmodel_seven\u001b[0m\u001b[1;33m]\u001b[0m\u001b[1;33m,\u001b[0m \u001b[1;33m[\u001b[0m\u001b[1;34m\"32_\"\u001b[0m\u001b[1;33m,\u001b[0m \u001b[1;34m\"64_\"\u001b[0m\u001b[1;33m,\u001b[0m \u001b[1;34m\"8_\"\u001b[0m\u001b[1;33m]\u001b[0m\u001b[1;33m)\u001b[0m\u001b[1;33m:\u001b[0m\u001b[1;33m\u001b[0m\u001b[1;33m\u001b[0m\u001b[0m\n\u001b[0;32m      7\u001b[0m \u001b[1;33m\u001b[0m\u001b[0m\n\u001b[1;32m----> 8\u001b[1;33m   \u001b[0mdf\u001b[0m \u001b[1;33m=\u001b[0m \u001b[0mpd\u001b[0m\u001b[1;33m.\u001b[0m\u001b[0mDataFrame\u001b[0m\u001b[1;33m.\u001b[0m\u001b[0mfrom_dict\u001b[0m\u001b[1;33m(\u001b[0m\u001b[0mexp\u001b[0m\u001b[1;33m.\u001b[0m\u001b[0mhistory\u001b[0m\u001b[1;33m)\u001b[0m\u001b[1;33m\u001b[0m\u001b[1;33m\u001b[0m\u001b[0m\n\u001b[0m\u001b[0;32m      9\u001b[0m   \u001b[0mdf\u001b[0m\u001b[1;33m[\u001b[0m\u001b[1;34m'epoch'\u001b[0m\u001b[1;33m]\u001b[0m \u001b[1;33m=\u001b[0m \u001b[0mdf\u001b[0m\u001b[1;33m.\u001b[0m\u001b[0mindex\u001b[0m\u001b[1;33m.\u001b[0m\u001b[0mvalues\u001b[0m\u001b[1;33m\u001b[0m\u001b[1;33m\u001b[0m\u001b[0m\n\u001b[0;32m     10\u001b[0m   \u001b[0mdf\u001b[0m\u001b[1;33m[\u001b[0m\u001b[1;34m'Batch Size'\u001b[0m\u001b[1;33m]\u001b[0m \u001b[1;33m=\u001b[0m \u001b[0mresult\u001b[0m\u001b[1;33m\u001b[0m\u001b[1;33m\u001b[0m\u001b[0m\n",
      "\u001b[1;32m~\\anaconda3\\lib\\site-packages\\pandas\\core\\frame.py\u001b[0m in \u001b[0;36mfrom_dict\u001b[1;34m(cls, data, orient, dtype, columns)\u001b[0m\n\u001b[0;32m   1245\u001b[0m             \u001b[1;32mraise\u001b[0m \u001b[0mValueError\u001b[0m\u001b[1;33m(\u001b[0m\u001b[1;34m\"only recognize index or columns for orient\"\u001b[0m\u001b[1;33m)\u001b[0m\u001b[1;33m\u001b[0m\u001b[1;33m\u001b[0m\u001b[0m\n\u001b[0;32m   1246\u001b[0m \u001b[1;33m\u001b[0m\u001b[0m\n\u001b[1;32m-> 1247\u001b[1;33m         \u001b[1;32mreturn\u001b[0m \u001b[0mcls\u001b[0m\u001b[1;33m(\u001b[0m\u001b[0mdata\u001b[0m\u001b[1;33m,\u001b[0m \u001b[0mindex\u001b[0m\u001b[1;33m=\u001b[0m\u001b[0mindex\u001b[0m\u001b[1;33m,\u001b[0m \u001b[0mcolumns\u001b[0m\u001b[1;33m=\u001b[0m\u001b[0mcolumns\u001b[0m\u001b[1;33m,\u001b[0m \u001b[0mdtype\u001b[0m\u001b[1;33m=\u001b[0m\u001b[0mdtype\u001b[0m\u001b[1;33m)\u001b[0m\u001b[1;33m\u001b[0m\u001b[1;33m\u001b[0m\u001b[0m\n\u001b[0m\u001b[0;32m   1248\u001b[0m \u001b[1;33m\u001b[0m\u001b[0m\n\u001b[0;32m   1249\u001b[0m     \u001b[1;32mdef\u001b[0m \u001b[0mto_numpy\u001b[0m\u001b[1;33m(\u001b[0m\u001b[0mself\u001b[0m\u001b[1;33m,\u001b[0m \u001b[0mdtype\u001b[0m\u001b[1;33m=\u001b[0m\u001b[1;32mNone\u001b[0m\u001b[1;33m,\u001b[0m \u001b[0mcopy\u001b[0m\u001b[1;33m=\u001b[0m\u001b[1;32mFalse\u001b[0m\u001b[1;33m)\u001b[0m \u001b[1;33m->\u001b[0m \u001b[0mnp\u001b[0m\u001b[1;33m.\u001b[0m\u001b[0mndarray\u001b[0m\u001b[1;33m:\u001b[0m\u001b[1;33m\u001b[0m\u001b[1;33m\u001b[0m\u001b[0m\n",
      "\u001b[1;32m~\\anaconda3\\lib\\site-packages\\pandas\\core\\frame.py\u001b[0m in \u001b[0;36m__init__\u001b[1;34m(self, data, index, columns, dtype, copy)\u001b[0m\n\u001b[0;32m    507\u001b[0m                 )\n\u001b[0;32m    508\u001b[0m             \u001b[1;32melse\u001b[0m\u001b[1;33m:\u001b[0m\u001b[1;33m\u001b[0m\u001b[1;33m\u001b[0m\u001b[0m\n\u001b[1;32m--> 509\u001b[1;33m                 \u001b[1;32mraise\u001b[0m \u001b[0mValueError\u001b[0m\u001b[1;33m(\u001b[0m\u001b[1;34m\"DataFrame constructor not properly called!\"\u001b[0m\u001b[1;33m)\u001b[0m\u001b[1;33m\u001b[0m\u001b[1;33m\u001b[0m\u001b[0m\n\u001b[0m\u001b[0;32m    510\u001b[0m \u001b[1;33m\u001b[0m\u001b[0m\n\u001b[0;32m    511\u001b[0m         \u001b[0mNDFrame\u001b[0m\u001b[1;33m.\u001b[0m\u001b[0m__init__\u001b[0m\u001b[1;33m(\u001b[0m\u001b[0mself\u001b[0m\u001b[1;33m,\u001b[0m \u001b[0mmgr\u001b[0m\u001b[1;33m,\u001b[0m \u001b[0mfastpath\u001b[0m\u001b[1;33m=\u001b[0m\u001b[1;32mTrue\u001b[0m\u001b[1;33m)\u001b[0m\u001b[1;33m\u001b[0m\u001b[1;33m\u001b[0m\u001b[0m\n",
      "\u001b[1;31mValueError\u001b[0m: DataFrame constructor not properly called!"
     ]
    }
   ],
   "source": [
    "import seaborn as sns\n",
    "import pandas as pd\n",
    "\n",
    "batch_sizes = []\n",
    "\n",
    "for exp, result in zip([model_six, model_eight, model_seven], [\"32_\", \"64_\", \"8_\"]):\n",
    "\n",
    "  df = pd.DataFrame.from_dict(exp.history)\n",
    "  df['epoch'] = df.index.values\n",
    "  df['Batch Size'] = result\n",
    "\n",
    "  batch_sizes.append(df)\n",
    "\n",
    "df = pd.concat(batch_sizes)\n",
    "df['Batch Size'] = df['Batch Size'].astype('str')\n",
    "df.head()"
   ]
  },
  {
   "cell_type": "code",
   "execution_count": 95,
   "metadata": {},
   "outputs": [
    {
     "data": {
      "text/plain": [
       "<tensorflow.python.keras.callbacks.History at 0x228e53eaf40>"
      ]
     },
     "execution_count": 95,
     "metadata": {},
     "output_type": "execute_result"
    }
   ],
   "source": [
    "exp.history"
   ]
  },
  {
   "cell_type": "code",
   "execution_count": null,
   "metadata": {},
   "outputs": [],
   "source": [
    "sns.lineplot(x='epoch', y='val_accuracy', hue='Batch Size', data=df);"
   ]
  },
  {
   "cell_type": "markdown",
   "metadata": {
    "colab_type": "text",
    "id": "8b-r70o8p2Dm"
   },
   "source": [
    "### Experiment with Learning Rate\n",
    "* Run 5 experiments with various learning rate magnitudes: 1, .1, .01, .001, .0001.\n",
    "* Use the \"best\" batch size from the previous experiment\n",
    "* Visualize the results\n",
    "* Write up an analysis of the experiments and select the \"best\" performing model among your experiments. Make sure to compare against the previous experiments and your model's performance yesterday. "
   ]
  },
  {
   "cell_type": "code",
   "execution_count": 96,
   "metadata": {},
   "outputs": [
    {
     "name": "stdout",
     "output_type": "stream",
     "text": [
      "Epoch 1/20\n",
      "10000/10000 [==============================] - 6s 612us/step - loss: 234.0304 - accuracy: 0.1005 - val_loss: 2.4479 - val_accuracy: 0.0996\n",
      "Epoch 2/20\n",
      "10000/10000 [==============================] - 6s 618us/step - loss: 2.5428 - accuracy: 0.0981 - val_loss: 2.5322 - val_accuracy: 0.0976\n",
      "Epoch 3/20\n",
      "10000/10000 [==============================] - 6s 614us/step - loss: 2.5483 - accuracy: 0.0990 - val_loss: 2.4858 - val_accuracy: 0.1022\n",
      "Epoch 4/20\n",
      "10000/10000 [==============================] - 6s 611us/step - loss: 2.5470 - accuracy: 0.0996 - val_loss: 2.6596 - val_accuracy: 0.1003\n",
      "Epoch 5/20\n",
      "10000/10000 [==============================] - 6s 609us/step - loss: 2.5486 - accuracy: 0.1016 - val_loss: 2.5433 - val_accuracy: 0.1003\n",
      "Epoch 6/20\n",
      "10000/10000 [==============================] - 6s 604us/step - loss: 2.5443 - accuracy: 0.1015 - val_loss: 2.4215 - val_accuracy: 0.1025\n",
      "Epoch 7/20\n",
      "10000/10000 [==============================] - 6s 616us/step - loss: 2.5429 - accuracy: 0.0999 - val_loss: 2.4894 - val_accuracy: 0.0983\n",
      "Epoch 8/20\n",
      "10000/10000 [==============================] - 6s 586us/step - loss: 2.5496 - accuracy: 0.1000 - val_loss: 2.5064 - val_accuracy: 0.0976\n",
      "Epoch 9/20\n",
      "10000/10000 [==============================] - 6s 594us/step - loss: 2.5495 - accuracy: 0.1010 - val_loss: 2.5102 - val_accuracy: 0.0997\n",
      "Epoch 10/20\n",
      "10000/10000 [==============================] - 6s 599us/step - loss: 2.5534 - accuracy: 0.0992 - val_loss: 2.6324 - val_accuracy: 0.0983\n",
      "Epoch 11/20\n",
      "10000/10000 [==============================] - 6s 606us/step - loss: 2.5498 - accuracy: 0.0996 - val_loss: 2.5159 - val_accuracy: 0.1022\n",
      "Epoch 12/20\n",
      "10000/10000 [==============================] - 6s 593us/step - loss: 2.5422 - accuracy: 0.1015 - val_loss: 2.5683 - val_accuracy: 0.0997\n",
      "Epoch 13/20\n",
      "10000/10000 [==============================] - 6s 588us/step - loss: 2.5505 - accuracy: 0.1006 - val_loss: 2.4237 - val_accuracy: 0.0991\n",
      "Epoch 14/20\n",
      "10000/10000 [==============================] - 6s 596us/step - loss: 2.5487 - accuracy: 0.1001 - val_loss: 2.7343 - val_accuracy: 0.1010\n",
      "Epoch 15/20\n",
      "10000/10000 [==============================] - 6s 600us/step - loss: 2.5477 - accuracy: 0.0998 - val_loss: 2.4251 - val_accuracy: 0.1010\n",
      "Epoch 16/20\n",
      "10000/10000 [==============================] - 6s 610us/step - loss: 2.5468 - accuracy: 0.1008 - val_loss: 2.6611 - val_accuracy: 0.1022\n",
      "Epoch 17/20\n",
      "10000/10000 [==============================] - 6s 587us/step - loss: 2.5490 - accuracy: 0.1025 - val_loss: 2.4821 - val_accuracy: 0.0991\n",
      "Epoch 18/20\n",
      "10000/10000 [==============================] - 6s 590us/step - loss: 2.5521 - accuracy: 0.0987 - val_loss: 2.4757 - val_accuracy: 0.0997\n",
      "Epoch 19/20\n",
      "10000/10000 [==============================] - 6s 586us/step - loss: 2.5462 - accuracy: 0.1018 - val_loss: 2.6774 - val_accuracy: 0.0991\n",
      "Epoch 20/20\n",
      "10000/10000 [==============================] - 6s 594us/step - loss: 2.5473 - accuracy: 0.0981 - val_loss: 2.5810 - val_accuracy: 0.1003\n"
     ]
    }
   ],
   "source": [
    "large_lr = create_model(1)\n",
    "bt_default = large_lr.fit(X_train, y_train,\n",
    "                       epochs=20,\n",
    "                       batch_size=8,\n",
    "                       validation_data=(X_test, y_test))"
   ]
  },
  {
   "cell_type": "code",
   "execution_count": 97,
   "metadata": {},
   "outputs": [
    {
     "name": "stdout",
     "output_type": "stream",
     "text": [
      "Epoch 1/20\n",
      "10000/10000 [==============================] - 6s 606us/step - loss: 3.8873 - accuracy: 0.0975 - val_loss: 2.3254 - val_accuracy: 0.0997\n",
      "Epoch 2/20\n",
      "10000/10000 [==============================] - 6s 594us/step - loss: 2.3590 - accuracy: 0.0996 - val_loss: 2.3292 - val_accuracy: 0.0991\n",
      "Epoch 3/20\n",
      "10000/10000 [==============================] - 6s 588us/step - loss: 2.3286 - accuracy: 0.0993 - val_loss: 2.3161 - val_accuracy: 0.0996\n",
      "Epoch 4/20\n",
      "10000/10000 [==============================] - 6s 599us/step - loss: 2.3283 - accuracy: 0.1003 - val_loss: 2.3498 - val_accuracy: 0.1003\n",
      "Epoch 5/20\n",
      "10000/10000 [==============================] - 6s 590us/step - loss: 2.3289 - accuracy: 0.0983 - val_loss: 2.3355 - val_accuracy: 0.1022\n",
      "Epoch 6/20\n",
      "10000/10000 [==============================] - 6s 593us/step - loss: 2.3283 - accuracy: 0.1000 - val_loss: 2.3256 - val_accuracy: 0.1003\n",
      "Epoch 7/20\n",
      "10000/10000 [==============================] - 6s 597us/step - loss: 2.3279 - accuracy: 0.1010 - val_loss: 2.3194 - val_accuracy: 0.0991\n",
      "Epoch 8/20\n",
      "10000/10000 [==============================] - 6s 590us/step - loss: 2.3290 - accuracy: 0.0997 - val_loss: 2.3275 - val_accuracy: 0.0997\n",
      "Epoch 9/20\n",
      "10000/10000 [==============================] - 6s 585us/step - loss: 2.3289 - accuracy: 0.1018 - val_loss: 2.3179 - val_accuracy: 0.1003\n",
      "Epoch 10/20\n",
      "10000/10000 [==============================] - 6s 592us/step - loss: 2.3284 - accuracy: 0.1001 - val_loss: 2.3384 - val_accuracy: 0.0996\n",
      "Epoch 11/20\n",
      "10000/10000 [==============================] - 6s 601us/step - loss: 2.3286 - accuracy: 0.1011 - val_loss: 2.3283 - val_accuracy: 0.0991\n",
      "Epoch 12/20\n",
      "10000/10000 [==============================] - 6s 604us/step - loss: 2.3285 - accuracy: 0.1005 - val_loss: 2.3156 - val_accuracy: 0.0983\n",
      "Epoch 13/20\n",
      "10000/10000 [==============================] - 6s 594us/step - loss: 2.3286 - accuracy: 0.0989 - val_loss: 2.3177 - val_accuracy: 0.1003\n",
      "Epoch 14/20\n",
      "10000/10000 [==============================] - 6s 604us/step - loss: 2.3286 - accuracy: 0.1001 - val_loss: 2.3150 - val_accuracy: 0.0976\n",
      "Epoch 15/20\n",
      "10000/10000 [==============================] - 6s 589us/step - loss: 2.3282 - accuracy: 0.1015 - val_loss: 2.3112 - val_accuracy: 0.0991\n",
      "Epoch 16/20\n",
      "10000/10000 [==============================] - 6s 593us/step - loss: 2.3284 - accuracy: 0.1009 - val_loss: 2.3192 - val_accuracy: 0.1025\n",
      "Epoch 17/20\n",
      "10000/10000 [==============================] - 6s 599us/step - loss: 2.3291 - accuracy: 0.1016 - val_loss: 2.3162 - val_accuracy: 0.1022\n",
      "Epoch 18/20\n",
      "10000/10000 [==============================] - 6s 608us/step - loss: 2.3294 - accuracy: 0.1016 - val_loss: 2.3143 - val_accuracy: 0.0997\n",
      "Epoch 19/20\n",
      "10000/10000 [==============================] - 6s 599us/step - loss: 2.3277 - accuracy: 0.1002 - val_loss: 2.3255 - val_accuracy: 0.1025\n",
      "Epoch 20/20\n",
      "10000/10000 [==============================] - 6s 612us/step - loss: 2.3283 - accuracy: 0.1003 - val_loss: 2.3162 - val_accuracy: 0.0983\n"
     ]
    }
   ],
   "source": [
    "large_lrtwo = create_model(.1)\n",
    "bt_default = large_lrtwo.fit(X_train, y_train,\n",
    "                       epochs=20,\n",
    "                       batch_size=8,\n",
    "                       validation_data=(X_test, y_test))"
   ]
  },
  {
   "cell_type": "code",
   "execution_count": 98,
   "metadata": {},
   "outputs": [
    {
     "name": "stdout",
     "output_type": "stream",
     "text": [
      "Epoch 1/20\n",
      "10000/10000 [==============================] - 6s 611us/step - loss: 2.4453 - accuracy: 0.0991 - val_loss: 2.3277 - val_accuracy: 0.1009\n",
      "Epoch 2/20\n",
      "10000/10000 [==============================] - 6s 587us/step - loss: 2.3459 - accuracy: 0.1011 - val_loss: 2.3048 - val_accuracy: 0.1010\n",
      "Epoch 3/20\n",
      "10000/10000 [==============================] - 6s 582us/step - loss: 2.3069 - accuracy: 0.0990 - val_loss: 2.3045 - val_accuracy: 0.0976\n",
      "Epoch 4/20\n",
      "10000/10000 [==============================] - 6s 579us/step - loss: 2.3053 - accuracy: 0.0986 - val_loss: 2.3053 - val_accuracy: 0.0996\n",
      "Epoch 5/20\n",
      "10000/10000 [==============================] - 6s 583us/step - loss: 2.3052 - accuracy: 0.1003 - val_loss: 2.3044 - val_accuracy: 0.1010\n",
      "Epoch 6/20\n",
      "10000/10000 [==============================] - 6s 600us/step - loss: 2.3055 - accuracy: 0.0991 - val_loss: 2.3048 - val_accuracy: 0.0991\n",
      "Epoch 7/20\n",
      "10000/10000 [==============================] - 6s 600us/step - loss: 2.3053 - accuracy: 0.0997 - val_loss: 2.3058 - val_accuracy: 0.1010\n",
      "Epoch 8/20\n",
      "10000/10000 [==============================] - 6s 595us/step - loss: 2.3053 - accuracy: 0.0997 - val_loss: 2.3048 - val_accuracy: 0.0997\n",
      "Epoch 9/20\n",
      "10000/10000 [==============================] - 6s 593us/step - loss: 2.3052 - accuracy: 0.0998 - val_loss: 2.3049 - val_accuracy: 0.1010\n",
      "Epoch 10/20\n",
      "10000/10000 [==============================] - 6s 600us/step - loss: 2.3054 - accuracy: 0.1002 - val_loss: 2.3057 - val_accuracy: 0.0997\n",
      "Epoch 11/20\n",
      "10000/10000 [==============================] - 6s 585us/step - loss: 2.3052 - accuracy: 0.1005 - val_loss: 2.3040 - val_accuracy: 0.0983\n",
      "Epoch 12/20\n",
      "10000/10000 [==============================] - 6s 585us/step - loss: 2.3049 - accuracy: 0.1015 - val_loss: 2.3047 - val_accuracy: 0.0997\n",
      "Epoch 13/20\n",
      "10000/10000 [==============================] - 6s 588us/step - loss: 2.3052 - accuracy: 0.0994 - val_loss: 2.3067 - val_accuracy: 0.1010\n",
      "Epoch 14/20\n",
      "10000/10000 [==============================] - 6s 584us/step - loss: 2.3052 - accuracy: 0.1030 - val_loss: 2.3075 - val_accuracy: 0.0976\n",
      "Epoch 15/20\n",
      "10000/10000 [==============================] - 6s 583us/step - loss: 2.3052 - accuracy: 0.1001 - val_loss: 2.3053 - val_accuracy: 0.0997\n",
      "Epoch 16/20\n",
      "10000/10000 [==============================] - 6s 601us/step - loss: 2.3055 - accuracy: 0.0989 - val_loss: 2.3039 - val_accuracy: 0.1010\n",
      "Epoch 17/20\n",
      "10000/10000 [==============================] - 6s 588us/step - loss: 2.3054 - accuracy: 0.1001 - val_loss: 2.3048 - val_accuracy: 0.0997\n",
      "Epoch 18/20\n",
      "10000/10000 [==============================] - 6s 589us/step - loss: 2.3051 - accuracy: 0.0988 - val_loss: 2.3111 - val_accuracy: 0.0991\n",
      "Epoch 19/20\n",
      "10000/10000 [==============================] - 6s 583us/step - loss: 2.3052 - accuracy: 0.1001 - val_loss: 2.3069 - val_accuracy: 0.0997\n",
      "Epoch 20/20\n",
      "10000/10000 [==============================] - 6s 590us/step - loss: 2.3053 - accuracy: 0.0998 - val_loss: 2.3056 - val_accuracy: 0.0996\n"
     ]
    }
   ],
   "source": [
    "std_lr = create_model(.01)\n",
    "bt_default = std_lr.fit(X_train, y_train,\n",
    "                       epochs=20,\n",
    "                       batch_size=8,\n",
    "                       validation_data=(X_test, y_test))"
   ]
  },
  {
   "cell_type": "code",
   "execution_count": null,
   "metadata": {},
   "outputs": [
    {
     "name": "stdout",
     "output_type": "stream",
     "text": [
      "Epoch 1/20\n",
      "10000/10000 [==============================] - 6s 598us/step - loss: 1.7551 - accuracy: 0.5534 - val_loss: 0.9877 - val_accuracy: 0.6845\n",
      "Epoch 2/20\n",
      "10000/10000 [==============================] - 6s 582us/step - loss: 0.9300 - accuracy: 0.7006 - val_loss: 0.8857 - val_accuracy: 0.7199\n",
      "Epoch 3/20\n",
      "10000/10000 [==============================] - 6s 586us/step - loss: 0.8425 - accuracy: 0.7301 - val_loss: 0.8205 - val_accuracy: 0.7411\n",
      "Epoch 4/20\n",
      "10000/10000 [==============================] - 6s 577us/step - loss: 0.8070 - accuracy: 0.7447 - val_loss: 0.7984 - val_accuracy: 0.7490\n",
      "Epoch 5/20\n",
      "10000/10000 [==============================] - 6s 575us/step - loss: 0.7732 - accuracy: 0.7613 - val_loss: 0.7884 - val_accuracy: 0.7578\n",
      "Epoch 6/20\n",
      "10000/10000 [==============================] - 6s 575us/step - loss: 0.7486 - accuracy: 0.7680 - val_loss: 0.7621 - val_accuracy: 0.7718\n",
      "Epoch 7/20\n",
      "10000/10000 [==============================] - 6s 577us/step - loss: 0.7278 - accuracy: 0.7754 - val_loss: 0.7312 - val_accuracy: 0.7757\n",
      "Epoch 8/20\n",
      "10000/10000 [==============================] - 6s 586us/step - loss: 0.7099 - accuracy: 0.7837 - val_loss: 0.7352 - val_accuracy: 0.7774\n",
      "Epoch 9/20\n",
      "10000/10000 [==============================] - 6s 585us/step - loss: 0.6936 - accuracy: 0.7845 - val_loss: 0.7730 - val_accuracy: 0.7814\n",
      "Epoch 10/20\n",
      "10000/10000 [==============================] - 6s 602us/step - loss: 0.6824 - accuracy: 0.7889 - val_loss: 0.7340 - val_accuracy: 0.7786\n",
      "Epoch 11/20\n",
      "10000/10000 [==============================] - 6s 598us/step - loss: 0.6772 - accuracy: 0.7963 - val_loss: 0.7844 - val_accuracy: 0.7885\n",
      "Epoch 12/20\n",
      "10000/10000 [==============================] - 6s 591us/step - loss: 0.6715 - accuracy: 0.7973 - val_loss: 0.7337 - val_accuracy: 0.7853\n",
      "Epoch 13/20\n",
      " 1256/10000 [==>...........................] - ETA: 4s - loss: 0.6438 - accuracy: 0.8079"
     ]
    }
   ],
   "source": [
    "small_lr = create_model(.001)\n",
    "bt_default = small_lr.fit(X_train, y_train,\n",
    "                       epochs=20,\n",
    "                       batch_size=8,\n",
    "                       validation_data=(X_test, y_test))"
   ]
  },
  {
   "cell_type": "code",
   "execution_count": null,
   "metadata": {},
   "outputs": [],
   "source": [
    "smallest_lr = create_model(.0001)\n",
    "bt_default = smallest_lr.fit(X_train, y_train,\n",
    "                       epochs=20,\n",
    "                       batch_size=8,\n",
    "                       validation_data=(X_test, y_test))"
   ]
  },
  {
   "cell_type": "code",
   "execution_count": null,
   "metadata": {},
   "outputs": [],
   "source": []
  },
  {
   "cell_type": "markdown",
   "metadata": {
    "colab_type": "text",
    "id": "gxMtSRhV9Q7I"
   },
   "source": [
    "### Experiment with different Optimizers\n",
    "* Run 5 experiments with various optimizers available in TensorFlow. See list [here](https://www.tensorflow.org/api_docs/python/tf/keras/optimizers)\n",
    "* Visualize the results\n",
    "* Write up an analysis of the experiments and select the \"best\" performing model among your experiments. Make sure to compare against the previous experiments and your model's performance yesterday.\n",
    "* Repeat the experiment combining Learning Rate and different optimizers. Does the best performing model change? "
   ]
  },
  {
   "cell_type": "code",
   "execution_count": null,
   "metadata": {
    "colab": {},
    "colab_type": "code",
    "id": "ujLuzdNA91ip"
   },
   "outputs": [],
   "source": [
    "## \n",
    "sgd_nonest = create_model(.0001, SGD)\n",
    "bt_default = sgd_nonest.fit(X_train, y_train,\n",
    "                       epochs=15,\n",
    "                       batch_size=8,\n",
    "                       validation_data=(X_test, y_test))"
   ]
  },
  {
   "cell_type": "code",
   "execution_count": null,
   "metadata": {},
   "outputs": [],
   "source": [
    "def create_model_nesterov(lr, optimizer =SGD):\n",
    "  optim = optimizer(learning_rate=lr, nesterov=True)\n",
    "\n",
    "  model = Sequential(\n",
    "      [Dense(64, activation='relu', input_dim=784),\n",
    "       Dense(32, activation='relu'),\n",
    "       Dense(10, activation='softmax')]\n",
    "  )\n",
    "\n",
    "  model.compile(optimizer=optim, loss='sparse_categorical_crossentropy',\n",
    "                metrics=['accuracy'])  \n",
    "  return model\n",
    "\n"
   ]
  },
  {
   "cell_type": "code",
   "execution_count": null,
   "metadata": {},
   "outputs": [],
   "source": [
    "sgd_nest = create_model_nesterov(.0001)\n",
    "bt_default = sgd_nest.fit(X_train, y_train,\n",
    "                       epochs=15,\n",
    "                       batch_size=8,\n",
    "                       validation_data=(X_test, y_test))"
   ]
  },
  {
   "cell_type": "code",
   "execution_count": null,
   "metadata": {},
   "outputs": [],
   "source": [
    "adam_model = create_model(.0001)\n",
    "bt_default = adam_model.fit(X_train, y_train,\n",
    "                       epochs=15,\n",
    "                       batch_size=8,\n",
    "                       validation_data=(X_test, y_test))"
   ]
  },
  {
   "cell_type": "code",
   "execution_count": null,
   "metadata": {},
   "outputs": [],
   "source": [
    "from tensorflow.keras.optimizers import Nadam\n",
    "\n",
    "nadam_model = create_model(.0001, Nadam)\n",
    "bt_default = nadam_model.fit(X_train, y_train,\n",
    "                       epochs=15,\n",
    "                       batch_size=8,\n",
    "                       validation_data=(X_test, y_test))"
   ]
  },
  {
   "cell_type": "code",
   "execution_count": null,
   "metadata": {},
   "outputs": [],
   "source": [
    "from tensorflow.keras.optimizers import Ftrl\n",
    "\n",
    "FTRL_model = create_model(.0001, Ftrl)\n",
    "bt_default = FTRL_model.fit(X_train, y_train,\n",
    "                       epochs=15,\n",
    "                       batch_size=8,\n",
    "                       validation_data=(X_test, y_test))"
   ]
  },
  {
   "cell_type": "code",
   "execution_count": null,
   "metadata": {},
   "outputs": [],
   "source": []
  },
  {
   "cell_type": "markdown",
   "metadata": {
    "colab_type": "text",
    "id": "ydAqeY9S8uHA"
   },
   "source": [
    "### Additional Written Tasks\n",
    "\n",
    "1. Describe the process of backpropagation in your own words: \n",
    "```\n",
    "Your answer goes here.\n",
    "```\n",
    "\n"
   ]
  },
  {
   "cell_type": "markdown",
   "metadata": {
    "colab_type": "text",
    "id": "FwlRJSfBlCvy"
   },
   "source": [
    "## Stretch Goals: \n",
    "\n",
    "- Implement GridSearch on anyone of the experiments\n",
    "- On the learning rate experiments, implement [EarlyStopping](https://www.tensorflow.org/api_docs/python/tf/keras/callbacks/EarlyStopping)\n",
    "- Review material on the math behind gradient descent: \n",
    "\n",
    "  - Gradient Descent\n",
    "    - Gradient Descent, Step-by-Step  by StatQuest w/ Josh Starmer. This will help you understand the gradient descent based optimization that happens underneath the hood of neural networks. It uses a non-neural network example, which I believe is a gentler introduction. You will hear me refer to this technique as \"vanilla\" gradient descent. \n",
    "    - Stochastic Gradient Descent, Clearly Explained!!! by StatQuest w/ Josh Starmer. This builds on the techniques in the previous video.  This technique is the one that is actually implemented inside modern 'nets. \n",
    "These are great resources to help you understand tomorrow's material at a deeper level. I highly recommend watching these ahead of tomorrow.\n",
    "\n",
    "  - Background Math\n",
    "    - Dot products and duality by 3Blue1Brown. Explains the core linear algebra operation happening in today's perceptron.\n",
    "The paradox of the derivative by 3Blue1Brown. Does a great job explaining a derivative. \n",
    "    - Visualizing the chain rule and product rule by 3Blue1Brown. Explains the black magic that happens within Stochastic Gradient Descent. \n",
    "These math resources are very much optional. They can be very heady, but I encourage you to explore. Your understanding of neural networks will greatly increase if you understand this math background.\n",
    "\n",
    "\n"
   ]
  },
  {
   "cell_type": "code",
   "execution_count": null,
   "metadata": {},
   "outputs": [],
   "source": []
  }
 ],
 "metadata": {
  "colab": {
   "collapsed_sections": [],
   "name": "LS_DS_432_Train_Assignment.ipynb",
   "provenance": []
  },
  "kernelspec": {
   "display_name": "Python 3",
   "language": "python",
   "name": "python3"
  },
  "language_info": {
   "codemirror_mode": {
    "name": "ipython",
    "version": 3
   },
   "file_extension": ".py",
   "mimetype": "text/x-python",
   "name": "python",
   "nbconvert_exporter": "python",
   "pygments_lexer": "ipython3",
   "version": "3.8.3"
  },
  "nteract": {
   "version": "0.22.4"
  }
 },
 "nbformat": 4,
 "nbformat_minor": 4
}
