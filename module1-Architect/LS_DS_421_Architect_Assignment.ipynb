{
 "cells": [
  {
   "cell_type": "markdown",
   "metadata": {
    "colab_type": "text",
    "id": "ObyHCH8HvHSf"
   },
   "source": [
    "<img align=\"left\" src=\"https://lever-client-logos.s3.amazonaws.com/864372b1-534c-480e-acd5-9711f850815c-1524247202159.png\" width=200>\n",
    "<br></br>\n",
    "<br></br>\n",
    "\n",
    "# *Data Science Unit 4 Sprint 2 Assignment 1*\n",
    "\n",
    "Use TensorFlow Keras & a sample of the [Quickdraw dataset](https://github.com/googlecreativelab/quickdraw-dataset) to build a sketch classification model. The dataset has been sampled to only 10 classes and 10000 observations per class. Please build a baseline classification model then run a few experiments with different optimizers and learning rates. \n",
    "\n",
    "*Don't forgot to switch to GPU on Colab!*"
   ]
  },
  {
   "cell_type": "markdown",
   "metadata": {
    "colab_type": "text",
    "id": "s-Tc3ovEyQ9b"
   },
   "source": [
    "## Load Your Data"
   ]
  },
  {
   "cell_type": "code",
   "execution_count": 1,
   "metadata": {},
   "outputs": [
    {
     "name": "stdout",
     "output_type": "stream",
     "text": [
      "Requirement already satisfied: tensorflow in c:\\users\\timro\\anaconda3\\lib\\site-packages (2.3.1)\n",
      "Requirement already satisfied: tensorflow-estimator<2.4.0,>=2.3.0 in c:\\users\\timro\\anaconda3\\lib\\site-packages (from tensorflow) (2.3.0)\n",
      "Requirement already satisfied: wrapt>=1.11.1 in c:\\users\\timro\\appdata\\roaming\\python\\python38\\site-packages (from tensorflow) (1.12.1)\n",
      "Requirement already satisfied: termcolor>=1.1.0 in c:\\users\\timro\\anaconda3\\lib\\site-packages (from tensorflow) (1.1.0)\n",
      "Requirement already satisfied: wheel>=0.26 in c:\\users\\timro\\anaconda3\\lib\\site-packages (from tensorflow) (0.34.2)\n",
      "Requirement already satisfied: grpcio>=1.8.6 in c:\\users\\timro\\anaconda3\\lib\\site-packages (from tensorflow) (1.32.0)\n",
      "Requirement already satisfied: six>=1.12.0 in c:\\users\\timro\\anaconda3\\lib\\site-packages (from tensorflow) (1.15.0)\n",
      "Requirement already satisfied: google-pasta>=0.1.8 in c:\\users\\timro\\anaconda3\\lib\\site-packages (from tensorflow) (0.2.0)\n",
      "Requirement already satisfied: h5py<2.11.0,>=2.10.0 in c:\\users\\timro\\anaconda3\\lib\\site-packages (from tensorflow) (2.10.0)\n",
      "Requirement already satisfied: absl-py>=0.7.0 in c:\\users\\timro\\anaconda3\\lib\\site-packages (from tensorflow) (0.10.0)\n",
      "Requirement already satisfied: keras-preprocessing<1.2,>=1.1.1 in c:\\users\\timro\\anaconda3\\lib\\site-packages (from tensorflow) (1.1.2)\n",
      "Requirement already satisfied: numpy<1.19.0,>=1.16.0 in c:\\users\\timro\\anaconda3\\lib\\site-packages (from tensorflow) (1.18.5)\n",
      "Requirement already satisfied: gast==0.3.3 in c:\\users\\timro\\anaconda3\\lib\\site-packages (from tensorflow) (0.3.3)\n",
      "Requirement already satisfied: astunparse==1.6.3 in c:\\users\\timro\\anaconda3\\lib\\site-packages (from tensorflow) (1.6.3)\n",
      "Requirement already satisfied: protobuf>=3.9.2 in c:\\users\\timro\\anaconda3\\lib\\site-packages (from tensorflow) (3.13.0)\n",
      "Requirement already satisfied: tensorboard<3,>=2.3.0 in c:\\users\\timro\\anaconda3\\lib\\site-packages (from tensorflow) (2.3.0)\n",
      "Requirement already satisfied: opt-einsum>=2.3.2 in c:\\users\\timro\\anaconda3\\lib\\site-packages (from tensorflow) (3.3.0)\n",
      "Requirement already satisfied: setuptools in c:\\users\\timro\\anaconda3\\lib\\site-packages (from protobuf>=3.9.2->tensorflow) (49.2.0.post20200714)\n",
      "Requirement already satisfied: google-auth<2,>=1.6.3 in c:\\users\\timro\\anaconda3\\lib\\site-packages (from tensorboard<3,>=2.3.0->tensorflow) (1.22.1)\n",
      "Requirement already satisfied: requests<3,>=2.21.0 in c:\\users\\timro\\anaconda3\\lib\\site-packages (from tensorboard<3,>=2.3.0->tensorflow) (2.24.0)\n",
      "Requirement already satisfied: google-auth-oauthlib<0.5,>=0.4.1 in c:\\users\\timro\\anaconda3\\lib\\site-packages (from tensorboard<3,>=2.3.0->tensorflow) (0.4.1)\n",
      "Requirement already satisfied: tensorboard-plugin-wit>=1.6.0 in c:\\users\\timro\\anaconda3\\lib\\site-packages (from tensorboard<3,>=2.3.0->tensorflow) (1.7.0)\n",
      "Requirement already satisfied: werkzeug>=0.11.15 in c:\\users\\timro\\anaconda3\\lib\\site-packages (from tensorboard<3,>=2.3.0->tensorflow) (1.0.1)\n",
      "Requirement already satisfied: markdown>=2.6.8 in c:\\users\\timro\\anaconda3\\lib\\site-packages (from tensorboard<3,>=2.3.0->tensorflow) (3.2.2)\n",
      "Requirement already satisfied: cachetools<5.0,>=2.0.0 in c:\\users\\timro\\anaconda3\\lib\\site-packages (from google-auth<2,>=1.6.3->tensorboard<3,>=2.3.0->tensorflow) (4.1.1)\n",
      "Requirement already satisfied: rsa<5,>=3.1.4; python_version >= \"3.5\" in c:\\users\\timro\\anaconda3\\lib\\site-packages (from google-auth<2,>=1.6.3->tensorboard<3,>=2.3.0->tensorflow) (4.6)\n",
      "Requirement already satisfied: pyasn1-modules>=0.2.1 in c:\\users\\timro\\anaconda3\\lib\\site-packages (from google-auth<2,>=1.6.3->tensorboard<3,>=2.3.0->tensorflow) (0.2.8)\n",
      "Requirement already satisfied: certifi>=2017.4.17 in c:\\users\\timro\\anaconda3\\lib\\site-packages (from requests<3,>=2.21.0->tensorboard<3,>=2.3.0->tensorflow) (2020.6.20)\n",
      "Requirement already satisfied: idna<3,>=2.5 in c:\\users\\timro\\anaconda3\\lib\\site-packages (from requests<3,>=2.21.0->tensorboard<3,>=2.3.0->tensorflow) (2.10)\n",
      "Requirement already satisfied: chardet<4,>=3.0.2 in c:\\users\\timro\\anaconda3\\lib\\site-packages (from requests<3,>=2.21.0->tensorboard<3,>=2.3.0->tensorflow) (3.0.4)\n",
      "Requirement already satisfied: urllib3!=1.25.0,!=1.25.1,<1.26,>=1.21.1 in c:\\users\\timro\\anaconda3\\lib\\site-packages (from requests<3,>=2.21.0->tensorboard<3,>=2.3.0->tensorflow) (1.25.9)\n",
      "Requirement already satisfied: requests-oauthlib>=0.7.0 in c:\\users\\timro\\anaconda3\\lib\\site-packages (from google-auth-oauthlib<0.5,>=0.4.1->tensorboard<3,>=2.3.0->tensorflow) (1.3.0)\n",
      "Requirement already satisfied: pyasn1>=0.1.3 in c:\\users\\timro\\anaconda3\\lib\\site-packages (from rsa<5,>=3.1.4; python_version >= \"3.5\"->google-auth<2,>=1.6.3->tensorboard<3,>=2.3.0->tensorflow) (0.4.8)\n",
      "Requirement already satisfied: oauthlib>=3.0.0 in c:\\users\\timro\\anaconda3\\lib\\site-packages (from requests-oauthlib>=0.7.0->google-auth-oauthlib<0.5,>=0.4.1->tensorboard<3,>=2.3.0->tensorflow) (3.1.0)\n"
     ]
    }
   ],
   "source": [
    "!pip install tensorflow"
   ]
  },
  {
   "cell_type": "code",
   "execution_count": 2,
   "metadata": {
    "colab": {},
    "colab_type": "code",
    "id": "CkU0pAYCvU8o"
   },
   "outputs": [
    {
     "name": "stdout",
     "output_type": "stream",
     "text": [
      "(100000, 784)\n",
      "(100000,)\n"
     ]
    }
   ],
   "source": [
    "import numpy as np\n",
    "import tensorflow as tf \n",
    "\n",
    "data = np.load('../quickdraw10.npz')\n",
    "X = data['arr_0']\n",
    "y = data['arr_1']\n",
    "\n",
    "print(X.shape)\n",
    "print(y.shape)"
   ]
  },
  {
   "cell_type": "code",
   "execution_count": 3,
   "metadata": {
    "colab": {},
    "colab_type": "code",
    "id": "c8qsDqdqvHDd"
   },
   "outputs": [],
   "source": [
    "class_names = ['apple',\n",
    " 'anvil',\n",
    " 'airplane',\n",
    " 'banana',\n",
    " 'The Eiffel Tower',\n",
    " 'The Mona Lisa',\n",
    " 'The Great Wall of China',\n",
    " 'alarm clock',\n",
    " 'ant',\n",
    " 'asparagus']"
   ]
  },
  {
   "cell_type": "code",
   "execution_count": 4,
   "metadata": {
    "colab": {},
    "colab_type": "code",
    "id": "Owbm1EbxvA5A"
   },
   "outputs": [
    {
     "data": {
      "image/png": "[encoded data removed]",
      "text/plain": [
       "<Figure size 720x360 with 10 Axes>"
      ]
     },
     "metadata": {},
     "output_type": "display_data"
    }
   ],
   "source": [
    "import matplotlib.pyplot as plt\n",
    "plt.figure(figsize=(10,5))\n",
    "start = 0\n",
    "\n",
    "for num, name in enumerate(class_names):\n",
    "    plt.subplot(2,5, num+1)\n",
    "    plt.xticks([])\n",
    "    plt.yticks([])\n",
    "    plt.grid(False)\n",
    "    plt.imshow(X[start].reshape(28,28), cmap=plt.cm.binary)\n",
    "    plt.xlabel(name)\n",
    "    start += 10000\n",
    "plt.show()"
   ]
  },
  {
   "cell_type": "code",
   "execution_count": 5,
   "metadata": {
    "colab": {},
    "colab_type": "code",
    "id": "c97_M1WNvTNY"
   },
   "outputs": [],
   "source": [
    "# Need this line to randomly shuffle both the X & y at the same time.\n",
    "\n",
    "from sklearn.utils import shuffle\n",
    "X, y = shuffle(X, y)"
   ]
  },
  {
   "cell_type": "markdown",
   "metadata": {
    "colab_type": "text",
    "id": "jb70CbLVyK65"
   },
   "source": [
    "## Build Your Baseline Model\n",
    "Some Hints:\n",
    "\n",
    "\n",
    "*  Model should have 784 input values (like mnist)\n",
    "*  Use `sparse_categorical_crossentropy` as your loss function.\n",
    "* You need 10 neurons in your last layer for output\n",
    "* You can add as many hidden layers with as many neurons in them as you like. \n",
    "* Limit your model epochs to 30 each time you fit.\n",
    "* You can use the `validation_split` command to automatically create a training / validation dataset.  Specify a percentage such as .2 in your fit statement. \n",
    "\n"
   ]
  },
  {
   "cell_type": "code",
   "execution_count": 6,
   "metadata": {
    "colab": {},
    "colab_type": "code",
    "id": "zHWblzsMyNkU"
   },
   "outputs": [],
   "source": [
    "import tensorflow as tf\n",
    "from tensorflow.keras.models import Sequential\n",
    "from tensorflow.keras.layers import Dense"
   ]
  },
  {
   "cell_type": "code",
   "execution_count": 7,
   "metadata": {},
   "outputs": [],
   "source": [
    "model = Sequential()"
   ]
  },
  {
   "cell_type": "code",
   "execution_count": 8,
   "metadata": {},
   "outputs": [
    {
     "name": "stdout",
     "output_type": "stream",
     "text": [
      "Train on 80000 samples, validate on 20000 samples\n",
      "Epoch 1/30\n",
      "80000/80000 [==============================] - 1s 9us/sample - loss: 2.2710 - accuracy: 0.1305 - val_loss: 2.2165 - val_accuracy: 0.2182\n",
      "Epoch 2/30\n",
      "80000/80000 [==============================] - 0s 6us/sample - loss: 2.1690 - accuracy: 0.3161 - val_loss: 2.1350 - val_accuracy: 0.3656\n",
      "Epoch 3/30\n",
      "80000/80000 [==============================] - 0s 6us/sample - loss: 2.1003 - accuracy: 0.3865 - val_loss: 2.0711 - val_accuracy: 0.3932\n",
      "Epoch 4/30\n",
      "80000/80000 [==============================] - 0s 6us/sample - loss: 2.0394 - accuracy: 0.4083 - val_loss: 2.0125 - val_accuracy: 0.4131\n",
      "Epoch 5/30\n",
      "80000/80000 [==============================] - 0s 6us/sample - loss: 1.9807 - accuracy: 0.4160 - val_loss: 1.9578 - val_accuracy: 0.4216\n",
      "Epoch 6/30\n",
      "80000/80000 [==============================] - 0s 6us/sample - loss: 1.9251 - accuracy: 0.4286 - val_loss: 1.9034 - val_accuracy: 0.4307\n",
      "Epoch 7/30\n",
      "80000/80000 [==============================] - 0s 6us/sample - loss: 1.8748 - accuracy: 0.4404 - val_loss: 1.8554 - val_accuracy: 0.4396\n",
      "Epoch 8/30\n",
      "80000/80000 [==============================] - 0s 6us/sample - loss: 1.8275 - accuracy: 0.4464 - val_loss: 1.8122 - val_accuracy: 0.4448\n",
      "Epoch 9/30\n",
      "80000/80000 [==============================] - 0s 6us/sample - loss: 1.7845 - accuracy: 0.4559 - val_loss: 1.7691 - val_accuracy: 0.4447\n",
      "Epoch 10/30\n",
      "80000/80000 [==============================] - 0s 6us/sample - loss: 1.7434 - accuracy: 0.4566 - val_loss: 1.7312 - val_accuracy: 0.4573\n",
      "Epoch 11/30\n",
      "80000/80000 [==============================] - ETA: 0s - loss: 1.7060 - accuracy: 0.4687 ETA: 0s - loss: 1.7079 - accuracy:  - 0s 6us/sample - loss: 1.7056 - accuracy: 0.4690 - val_loss: 1.7022 - val_accuracy: 0.4579\n",
      "Epoch 12/30\n",
      "80000/80000 [==============================] - 0s 6us/sample - loss: 1.6707 - accuracy: 0.4749 - val_loss: 1.6710 - val_accuracy: 0.4722\n",
      "Epoch 13/30\n",
      "80000/80000 [==============================] - 0s 6us/sample - loss: 1.6341 - accuracy: 0.4860 - val_loss: 1.6334 - val_accuracy: 0.4818\n",
      "Epoch 14/30\n",
      "80000/80000 [==============================] - 0s 6us/sample - loss: 1.6021 - accuracy: 0.4948 - val_loss: 1.5949 - val_accuracy: 0.4944\n",
      "Epoch 15/30\n",
      "80000/80000 [==============================] - 0s 6us/sample - loss: 1.5706 - accuracy: 0.5017 - val_loss: 1.5679 - val_accuracy: 0.4982\n",
      "Epoch 16/30\n",
      "80000/80000 [==============================] - 0s 6us/sample - loss: 1.5387 - accuracy: 0.5051 - val_loss: 1.5392 - val_accuracy: 0.4983\n",
      "Epoch 17/30\n",
      "80000/80000 [==============================] - 0s 6us/sample - loss: 1.5108 - accuracy: 0.5082 - val_loss: 1.5138 - val_accuracy: 0.5031\n",
      "Epoch 18/30\n",
      "80000/80000 [==============================] - 0s 6us/sample - loss: 1.4882 - accuracy: 0.5106 - val_loss: 1.4899 - val_accuracy: 0.5035\n",
      "Epoch 19/30\n",
      "80000/80000 [==============================] - 0s 6us/sample - loss: 1.4616 - accuracy: 0.5137 - val_loss: 1.4746 - val_accuracy: 0.5041\n",
      "Epoch 20/30\n",
      "80000/80000 [==============================] - 0s 6us/sample - loss: 1.4389 - accuracy: 0.5147 - val_loss: 1.4436 - val_accuracy: 0.5088\n",
      "Epoch 21/30\n",
      "80000/80000 [==============================] - 0s 6us/sample - loss: 1.4223 - accuracy: 0.5152 - val_loss: 1.4432 - val_accuracy: 0.5099\n",
      "Epoch 22/30\n",
      "80000/80000 [==============================] - 0s 6us/sample - loss: 1.4007 - accuracy: 0.5179 - val_loss: 1.4253 - val_accuracy: 0.5076\n",
      "Epoch 23/30\n",
      "80000/80000 [==============================] - 0s 6us/sample - loss: 1.3846 - accuracy: 0.5178 - val_loss: 1.3944 - val_accuracy: 0.5108\n",
      "Epoch 24/30\n",
      "80000/80000 [==============================] - 0s 6us/sample - loss: 1.3684 - accuracy: 0.5189 - val_loss: 1.3847 - val_accuracy: 0.5123\n",
      "Epoch 25/30\n",
      "80000/80000 [==============================] - 0s 6us/sample - loss: 1.3511 - accuracy: 0.5196 - val_loss: 1.3702 - val_accuracy: 0.5146\n",
      "Epoch 26/30\n",
      "80000/80000 [==============================] - 0s 6us/sample - loss: 1.3358 - accuracy: 0.5206 - val_loss: 1.3461 - val_accuracy: 0.5127\n",
      "Epoch 27/30\n",
      "80000/80000 [==============================] - 0s 6us/sample - loss: 1.3207 - accuracy: 0.5206 - val_loss: 1.3488 - val_accuracy: 0.5163\n",
      "Epoch 28/30\n",
      "80000/80000 [==============================] - 0s 6us/sample - loss: 1.3091 - accuracy: 0.5244 - val_loss: 1.3338 - val_accuracy: 0.5173\n",
      "Epoch 29/30\n",
      "80000/80000 [==============================] - 0s 6us/sample - loss: 1.2958 - accuracy: 0.5258 - val_loss: 1.3409 - val_accuracy: 0.5188\n",
      "Epoch 30/30\n",
      "80000/80000 [==============================] - 0s 6us/sample - loss: 1.2798 - accuracy: 0.5273 - val_loss: 1.3131 - val_accuracy: 0.5142\n"
     ]
    }
   ],
   "source": [
    "model.add(Dense(64, input_dim= 784, activation='relu'))\n",
    "model.add(Dense(32, activation='softmax'))\n",
    "model.add(Dense(10, activation='softmax'))\n",
    "model.compile(loss='sparse_categorical_crossentropy', optimizer='sgd', metrics=['accuracy'])\n",
    "baseline = model.fit(X, y, epochs=30, batch_size=350, validation_split =.2)"
   ]
  },
  {
   "cell_type": "markdown",
   "metadata": {
    "colab_type": "text",
    "id": "b0QJURWh-9uv"
   },
   "source": [
    "### Visualize the results\n",
    "\n",
    "Create charts for both loss and accuracy by epoch. Use line graphs for both charts. Analyze the results. \n",
    "\n",
    "At what point should we have stopped training the model and why? "
   ]
  },
  {
   "cell_type": "code",
   "execution_count": 9,
   "metadata": {
    "colab": {},
    "colab_type": "code",
    "id": "KONJtU5wqlXf"
   },
   "outputs": [
    {
     "data": {
      "text/plain": [
       "{'loss': [2.270988772213459,\n",
       "  2.1689814041554927,\n",
       "  2.1002571760118007,\n",
       "  2.039397101551294,\n",
       "  1.9806873052567244,\n",
       "  1.9251430821418762,\n",
       "  1.8747690276801585,\n",
       "  1.8274991792440414,\n",
       "  1.7845274162292482,\n",
       "  1.743444627225399,\n",
       "  1.7055536162108182,\n",
       "  1.670681335180998,\n",
       "  1.6340519184619189,\n",
       "  1.6020841956138612,\n",
       "  1.5706422358751297,\n",
       "  1.538741979598999,\n",
       "  1.5108193331956863,\n",
       "  1.4882139204442502,\n",
       "  1.4615965384989977,\n",
       "  1.4389437222480774,\n",
       "  1.4223224474489689,\n",
       "  1.4006663163006305,\n",
       "  1.384579545557499,\n",
       "  1.3684383473545312,\n",
       "  1.3511069495230914,\n",
       "  1.3357771550118924,\n",
       "  1.3206966946274041,\n",
       "  1.3091178103536367,\n",
       "  1.2958079940080642,\n",
       "  1.279795494005084],\n",
       " 'accuracy': [0.1304875,\n",
       "  0.3160625,\n",
       "  0.386475,\n",
       "  0.4083375,\n",
       "  0.416025,\n",
       "  0.4286,\n",
       "  0.4403875,\n",
       "  0.44645,\n",
       "  0.4559,\n",
       "  0.456625,\n",
       "  0.469025,\n",
       "  0.474925,\n",
       "  0.485975,\n",
       "  0.494825,\n",
       "  0.501725,\n",
       "  0.5051125,\n",
       "  0.50825,\n",
       "  0.5105875,\n",
       "  0.51365,\n",
       "  0.5147125,\n",
       "  0.5152375,\n",
       "  0.517925,\n",
       "  0.5177875,\n",
       "  0.518875,\n",
       "  0.519575,\n",
       "  0.5206125,\n",
       "  0.520625,\n",
       "  0.5243625,\n",
       "  0.5258,\n",
       "  0.5272625],\n",
       " 'val_loss': [2.2164879381656646,\n",
       "  2.1349941051006316,\n",
       "  2.071103236079216,\n",
       "  2.012532505393028,\n",
       "  1.9578131386637687,\n",
       "  1.9034493520855904,\n",
       "  1.855401802957058,\n",
       "  1.8122184211015702,\n",
       "  1.769127994775772,\n",
       "  1.7311609441041946,\n",
       "  1.7022096079587936,\n",
       "  1.6710066205263139,\n",
       "  1.6333568143844603,\n",
       "  1.594895410835743,\n",
       "  1.5679471221566201,\n",
       "  1.5391793876886368,\n",
       "  1.5138412475585938,\n",
       "  1.489931543469429,\n",
       "  1.4746371936798095,\n",
       "  1.4435765469074249,\n",
       "  1.4431782999634744,\n",
       "  1.425316531062126,\n",
       "  1.3943615520000459,\n",
       "  1.3847496348619461,\n",
       "  1.3701862093806267,\n",
       "  1.34605081230402,\n",
       "  1.3488400402665137,\n",
       "  1.3337764045596123,\n",
       "  1.3408969408273697,\n",
       "  1.3130906000733376],\n",
       " 'val_accuracy': [0.21815,\n",
       "  0.36555,\n",
       "  0.39315,\n",
       "  0.4131,\n",
       "  0.42155,\n",
       "  0.4307,\n",
       "  0.43965,\n",
       "  0.4448,\n",
       "  0.4447,\n",
       "  0.45735,\n",
       "  0.45785,\n",
       "  0.4722,\n",
       "  0.4818,\n",
       "  0.4944,\n",
       "  0.4982,\n",
       "  0.49825,\n",
       "  0.50305,\n",
       "  0.50355,\n",
       "  0.50415,\n",
       "  0.50885,\n",
       "  0.50995,\n",
       "  0.5076,\n",
       "  0.5108,\n",
       "  0.51225,\n",
       "  0.5146,\n",
       "  0.5127,\n",
       "  0.5163,\n",
       "  0.51725,\n",
       "  0.5188,\n",
       "  0.51415]}"
      ]
     },
     "execution_count": 9,
     "metadata": {},
     "output_type": "execute_result"
    }
   ],
   "source": [
    "baseline.history"
   ]
  },
  {
   "cell_type": "code",
   "execution_count": 10,
   "metadata": {
    "colab": {},
    "colab_type": "code",
    "id": "ijAlzfYKAFaY"
   },
   "outputs": [
    {
     "data": {
      "image/png": "[encoded data removed]",
      "text/plain": [
       "<Figure size 432x288 with 1 Axes>"
      ]
     },
     "metadata": {
      "needs_background": "light"
     },
     "output_type": "display_data"
    }
   ],
   "source": [
    "import seaborn as sns\n",
    "import pandas as pd\n",
    "\n",
    "df = pd.DataFrame.from_records(baseline.history)\n",
    "df['epoch'] = [i for i in range(df.shape[0])]\n",
    "\n",
    "ax = sns.lineplot(x='epoch', y='val_loss', data=df)\n",
    "ax = sns.lineplot(x='epoch', y='loss', data=df);"
   ]
  },
  {
   "cell_type": "markdown",
   "metadata": {
    "colab_type": "text",
    "id": "MAhBrcE4yOZe"
   },
   "source": [
    "## Change Optimizers\n",
    "Try using the keras `adam` optimizer instead of `sgd` in your model. Visualize the difference in validation loss between the models with different optimizers. "
   ]
  },
  {
   "cell_type": "code",
   "execution_count": 11,
   "metadata": {},
   "outputs": [],
   "source": [
    "adam_model = Sequential()"
   ]
  },
  {
   "cell_type": "code",
   "execution_count": 12,
   "metadata": {},
   "outputs": [
    {
     "name": "stdout",
     "output_type": "stream",
     "text": [
      "Train on 80000 samples, validate on 20000 samples\n",
      "Epoch 1/15\n",
      "80000/80000 [==============================] - 1s 9us/sample - loss: 3.7876 - accuracy: 0.2447 - val_loss: 1.9489 - val_accuracy: 0.2640\n",
      "Epoch 2/15\n",
      "80000/80000 [==============================] - 0s 6us/sample - loss: 1.7353 - accuracy: 0.3740 - val_loss: 1.6511 - val_accuracy: 0.4167\n",
      "Epoch 3/15\n",
      "80000/80000 [==============================] - 0s 6us/sample - loss: 1.5393 - accuracy: 0.4390 - val_loss: 1.4815 - val_accuracy: 0.4635\n",
      "Epoch 4/15\n",
      "80000/80000 [==============================] - 0s 6us/sample - loss: 1.3284 - accuracy: 0.5313 - val_loss: 1.2250 - val_accuracy: 0.5907\n",
      "Epoch 5/15\n",
      "80000/80000 [==============================] - 0s 6us/sample - loss: 1.1033 - accuracy: 0.6344 - val_loss: 1.0612 - val_accuracy: 0.6698\n",
      "Epoch 6/15\n",
      "80000/80000 [==============================] - 0s 6us/sample - loss: 0.9597 - accuracy: 0.6900 - val_loss: 0.9666 - val_accuracy: 0.7031\n",
      "Epoch 7/15\n",
      "80000/80000 [==============================] - 0s 6us/sample - loss: 0.8657 - accuracy: 0.7257 - val_loss: 0.8813 - val_accuracy: 0.7247\n",
      "Epoch 8/15\n",
      "80000/80000 [==============================] - 0s 6us/sample - loss: 0.7937 - accuracy: 0.7495 - val_loss: 0.8157 - val_accuracy: 0.7640\n",
      "Epoch 9/15\n",
      "80000/80000 [==============================] - 0s 6us/sample - loss: 0.7350 - accuracy: 0.7735 - val_loss: 0.7643 - val_accuracy: 0.7736\n",
      "Epoch 10/15\n",
      "80000/80000 [==============================] - 0s 6us/sample - loss: 0.6873 - accuracy: 0.7917 - val_loss: 0.7452 - val_accuracy: 0.7812\n",
      "Epoch 11/15\n",
      "80000/80000 [==============================] - 0s 6us/sample - loss: 0.6544 - accuracy: 0.8044 - val_loss: 0.7112 - val_accuracy: 0.7883\n",
      "Epoch 12/15\n",
      "80000/80000 [==============================] - 0s 6us/sample - loss: 0.6251 - accuracy: 0.8133 - val_loss: 0.6901 - val_accuracy: 0.8039\n",
      "Epoch 13/15\n",
      "80000/80000 [==============================] - 0s 6us/sample - loss: 0.6030 - accuracy: 0.8218 - val_loss: 0.6746 - val_accuracy: 0.8059\n",
      "Epoch 14/15\n",
      "80000/80000 [==============================] - 0s 6us/sample - loss: 0.5841 - accuracy: 0.8268 - val_loss: 0.6913 - val_accuracy: 0.8033\n",
      "Epoch 15/15\n",
      "80000/80000 [==============================] - 0s 6us/sample - loss: 0.5690 - accuracy: 0.8316 - val_loss: 0.6666 - val_accuracy: 0.8092\n"
     ]
    }
   ],
   "source": [
    "adam_model.add(Dense(64, input_dim= 784, activation='relu'))\n",
    "adam_model.add(Dense(32, activation='relu'))\n",
    "adam_model.add(Dense(10, activation='softmax'))\n",
    "adam_model.compile(loss='sparse_categorical_crossentropy', optimizer='Adam', metrics=['accuracy'])\n",
    "adam_baseline = adam_model.fit(X, y, epochs=15, batch_size=200, validation_split =.2)"
   ]
  },
  {
   "cell_type": "code",
   "execution_count": 13,
   "metadata": {
    "colab": {},
    "colab_type": "code",
    "id": "jIW_spOZ0cxy"
   },
   "outputs": [
    {
     "data": {
      "image/png": "[encoded data removed]",
      "text/plain": [
       "<Figure size 432x288 with 1 Axes>"
      ]
     },
     "metadata": {
      "needs_background": "light"
     },
     "output_type": "display_data"
    }
   ],
   "source": [
    "adam_df = pd.DataFrame.from_records(adam_baseline.history)\n",
    "adam_df['epoch'] = [i for i in range(adam_df.shape[0])]\n",
    "\n",
    "ax = sns.lineplot(x='epoch', y='val_loss', data=adam_df)\n",
    "ax = sns.lineplot(x='epoch', y='val_loss', data=df);"
   ]
  },
  {
   "cell_type": "code",
   "execution_count": null,
   "metadata": {},
   "outputs": [],
   "source": []
  },
  {
   "cell_type": "markdown",
   "metadata": {
    "colab_type": "text",
    "id": "EJrbh3qryi4w"
   },
   "source": [
    "### Additional Written Tasks:\n",
    "In this section, you will need to search for resources: \n",
    "1. Investigate the various [loss functions](https://www.tensorflow.org/api_docs/python/tf/keras/losses). Which is best suited for the task at hand (predicting 1 / 0) and why? \n",
    "2. What is the difference between a loss function and a metric? Why might we need both in Keras? \n",
    "3. Investigate the various [optimizers](https://www.tensorflow.org/api_docs/python/tf/keras/optimizers). Stochastic Gradient Descent (`sgd`) is not the learning algorithm dejour anyone. Why is that? What do newer optimizers such as `adam` have to offer? "
   ]
  },
  {
   "cell_type": "markdown",
   "metadata": {},
   "source": [
    "### Answers\n",
    "1. In the task of predicting (1/0), Binary Cross Entropy is best, as the problem itself is binary. Binary Cross Entropy with calculate the cross-entropy lose between the predicted classes and the true classes. \n",
    "\n",
    "2. The loss function is used to optimize the model, and will be minimized by the optimizer. A metric is what we use to judge the performance of the model. It doesn't have anything to do with optimization . \n"
   ]
  },
  {
   "cell_type": "markdown",
   "metadata": {
    "colab_type": "text",
    "id": "Gzs4fd-RynDd"
   },
   "source": [
    "## Stretch Goals: \n",
    "\n",
    "- Research convolutional neural networks and try including convolution layers in your network.\n",
    "- Pick two classes and make QuickDraw a binary classification problem, how does your model architecture change?\n",
    "- Implement Cross Validation model evaluation on your Quickdraw implementation \n",
    "\n",
    "Watch some more videos on Gradient Descent:\n",
    "- [Gradient Descent, Step-by-Step](https://www.youtube.com/watch?v=sDv4f4s2SB8)  by StatQuest w/ Josh Starmer. This will help you understand the gradient descent based optimization that happens underneath the hood of neural networks. It uses a non-neural network example, which I believe is a gentler introduction. You will hear me refer to this technique as \"vanilla\" gradient descent. \n",
    "- [Stochastic Gradient Descent, Clearly Explained!!!](https://www.youtube.com/watch?v=vMh0zPT0tLI) by StatQuest w/ Josh Starmer. This builds on the techniques in the previous video.  This technique is the one that is actually implemented inside modern 'nets. \n",
    "- [Siraj Raval the evolution of gradient descent](https://www.youtube.com/watch?v=nhqo0u1a6fw)"
   ]
  }
 ],
 "metadata": {
  "accelerator": "GPU",
  "colab": {
   "collapsed_sections": [],
   "name": "LS_DS_432_TensorFlow_Assignment",
   "provenance": []
  },
  "kernelspec": {
   "display_name": "U4-S2-Neural-Networks (Python3)",
   "language": "python",
   "name": "u4-s2-neural-networks"
  },
  "language_info": {
   "codemirror_mode": {
    "name": "ipython",
    "version": 3
   },
   "file_extension": ".py",
   "mimetype": "text/x-python",
   "name": "python",
   "nbconvert_exporter": "python",
   "pygments_lexer": "ipython3",
   "version": "3.7.0"
  }
 },
 "nbformat": 4,
 "nbformat_minor": 4
}
