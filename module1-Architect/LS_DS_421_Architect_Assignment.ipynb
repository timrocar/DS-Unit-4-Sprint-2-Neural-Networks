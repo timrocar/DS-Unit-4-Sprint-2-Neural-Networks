{
 "cells": [
  {
   "cell_type": "markdown",
   "metadata": {
    "colab_type": "text",
    "id": "ObyHCH8HvHSf"
   },
   "source": [
    "<img align=\"left\" src=\"https://lever-client-logos.s3.amazonaws.com/864372b1-534c-480e-acd5-9711f850815c-1524247202159.png\" width=200>\n",
    "<br></br>\n",
    "<br></br>\n",
    "\n",
    "# *Data Science Unit 4 Sprint 2 Assignment 1*\n",
    "\n",
    "Use TensorFlow Keras & a sample of the [Quickdraw dataset](https://github.com/googlecreativelab/quickdraw-dataset) to build a sketch classification model. The dataset has been sampled to only 10 classes and 10000 observations per class. Please build a baseline classification model then run a few experiments with different optimizers and learning rates. \n",
    "\n",
    "*Don't forgot to switch to GPU on Colab!*"
   ]
  },
  {
   "cell_type": "markdown",
   "metadata": {
    "colab_type": "text",
    "id": "s-Tc3ovEyQ9b"
   },
   "source": [
    "## Load Your Data"
   ]
  },
  {
   "cell_type": "code",
   "execution_count": null,
   "metadata": {},
   "outputs": [],
   "source": [
    "!pip install tensorflow"
   ]
  },
  {
   "cell_type": "code",
   "execution_count": 11,
   "metadata": {
    "colab": {},
    "colab_type": "code",
    "id": "CkU0pAYCvU8o"
   },
   "outputs": [
    {
     "name": "stdout",
     "output_type": "stream",
     "text": [
      "(100000, 784)\n",
      "(100000,)\n"
     ]
    }
   ],
   "source": [
    "import numpy as np\n",
    "import tensorflow as tf \n",
    "\n",
    "data = np.load('../quickdraw10.npz')\n",
    "X = data['arr_0']\n",
    "y = data['arr_1']\n",
    "\n",
    "print(X.shape)\n",
    "print(y.shape)"
   ]
  },
  {
   "cell_type": "code",
   "execution_count": 12,
   "metadata": {
    "colab": {},
    "colab_type": "code",
    "id": "c8qsDqdqvHDd"
   },
   "outputs": [],
   "source": [
    "class_names = ['apple',\n",
    " 'anvil',\n",
    " 'airplane',\n",
    " 'banana',\n",
    " 'The Eiffel Tower',\n",
    " 'The Mona Lisa',\n",
    " 'The Great Wall of China',\n",
    " 'alarm clock',\n",
    " 'ant',\n",
    " 'asparagus']"
   ]
  },
  {
   "cell_type": "code",
   "execution_count": 13,
   "metadata": {
    "colab": {},
    "colab_type": "code",
    "id": "Owbm1EbxvA5A"
   },
   "outputs": [
    {
     "data": {
      "image/png": "[encoded data removed]",
      "text/plain": [
       "<Figure size 720x360 with 10 Axes>"
      ]
     },
     "metadata": {},
     "output_type": "display_data"
    }
   ],
   "source": [
    "import matplotlib.pyplot as plt\n",
    "plt.figure(figsize=(10,5))\n",
    "start = 0\n",
    "\n",
    "for num, name in enumerate(class_names):\n",
    "    plt.subplot(2,5, num+1)\n",
    "    plt.xticks([])\n",
    "    plt.yticks([])\n",
    "    plt.grid(False)\n",
    "    plt.imshow(X[start].reshape(28,28), cmap=plt.cm.binary)\n",
    "    plt.xlabel(name)\n",
    "    start += 10000\n",
    "plt.show()"
   ]
  },
  {
   "cell_type": "code",
   "execution_count": 14,
   "metadata": {
    "colab": {},
    "colab_type": "code",
    "id": "c97_M1WNvTNY"
   },
   "outputs": [],
   "source": [
    "# Need this line to randomly shuffle both the X & y at the same time.\n",
    "\n",
    "from sklearn.utils import shuffle\n",
    "X, y = shuffle(X, y)"
   ]
  },
  {
   "cell_type": "markdown",
   "metadata": {
    "colab_type": "text",
    "id": "jb70CbLVyK65"
   },
   "source": [
    "## Build Your Baseline Model\n",
    "Some Hints:\n",
    "\n",
    "\n",
    "*  Model should have 784 input values (like mnist)\n",
    "*  Use `sparse_categorical_crossentropy` as your loss function.\n",
    "* You need 10 neurons in your last layer for output\n",
    "* You can add as many hidden layers with as many neurons in them as you like. \n",
    "* Limit your model epochs to 30 each time you fit.\n",
    "* You can use the `validation_split` command to automatically create a training / validation dataset.  Specify a percentage such as .2 in your fit statement. \n",
    "\n"
   ]
  },
  {
   "cell_type": "code",
   "execution_count": 16,
   "metadata": {
    "colab": {},
    "colab_type": "code",
    "id": "zHWblzsMyNkU"
   },
   "outputs": [],
   "source": [
    "import tensorflow as tf\n",
    "from tensorflow.keras.models import Sequential\n",
    "from tensorflow.keras.layers import Dense"
   ]
  },
  {
   "cell_type": "code",
   "execution_count": 91,
   "metadata": {},
   "outputs": [],
   "source": [
    "model = Sequential()"
   ]
  },
  {
   "cell_type": "code",
   "execution_count": 92,
   "metadata": {},
   "outputs": [
    {
     "name": "stdout",
     "output_type": "stream",
     "text": [
      "Train on 80000 samples, validate on 20000 samples\n",
      "Epoch 1/30\n",
      "80000/80000 [==============================] - 1s 9us/sample - loss: 2.2457 - accuracy: 0.1759 - val_loss: 2.1938 - val_accuracy: 0.2491\n",
      "Epoch 2/30\n",
      "80000/80000 [==============================] - 0s 6us/sample - loss: 2.1573 - accuracy: 0.2745 - val_loss: 2.1205 - val_accuracy: 0.2949\n",
      "Epoch 3/30\n",
      "80000/80000 [==============================] - 0s 6us/sample - loss: 2.0905 - accuracy: 0.3645 - val_loss: 2.0570 - val_accuracy: 0.3934\n",
      "Epoch 4/30\n",
      "80000/80000 [==============================] - 0s 6us/sample - loss: 2.0289 - accuracy: 0.4125 - val_loss: 1.9991 - val_accuracy: 0.4378\n",
      "Epoch 5/30\n",
      "80000/80000 [==============================] - 1s 6us/sample - loss: 1.9708 - accuracy: 0.4523 - val_loss: 1.9389 - val_accuracy: 0.4708\n",
      "Epoch 6/30\n",
      "80000/80000 [==============================] - 0s 6us/sample - loss: 1.9160 - accuracy: 0.4704 - val_loss: 1.8847 - val_accuracy: 0.4832\n",
      "Epoch 7/30\n",
      "80000/80000 [==============================] - 0s 6us/sample - loss: 1.8628 - accuracy: 0.4812 - val_loss: 1.8334 - val_accuracy: 0.4859\n",
      "Epoch 8/30\n",
      "80000/80000 [==============================] - 0s 6us/sample - loss: 1.8115 - accuracy: 0.4902 - val_loss: 1.7856 - val_accuracy: 0.4933\n",
      "Epoch 9/30\n",
      "80000/80000 [==============================] - 0s 6us/sample - loss: 1.7683 - accuracy: 0.4933 - val_loss: 1.7608 - val_accuracy: 0.4830\n",
      "Epoch 10/30\n",
      "80000/80000 [==============================] - 1s 7us/sample - loss: 1.7248 - accuracy: 0.4942 - val_loss: 1.6992 - val_accuracy: 0.4975\n",
      "Epoch 11/30\n",
      "80000/80000 [==============================] - 1s 6us/sample - loss: 1.6888 - accuracy: 0.4932 - val_loss: 1.6679 - val_accuracy: 0.4938\n",
      "Epoch 12/30\n",
      "80000/80000 [==============================] - 1s 6us/sample - loss: 1.6505 - accuracy: 0.4949 - val_loss: 1.6351 - val_accuracy: 0.4897oss: 1.6511 - accuracy: 0.49\n",
      "Epoch 13/30\n",
      "80000/80000 [==============================] - 1s 6us/sample - loss: 1.6152 - accuracy: 0.5041 - val_loss: 1.5959 - val_accuracy: 0.5042\n",
      "Epoch 14/30\n",
      "80000/80000 [==============================] - 0s 6us/sample - loss: 1.5867 - accuracy: 0.5044 - val_loss: 1.5670 - val_accuracy: 0.5128\n",
      "Epoch 15/30\n",
      "80000/80000 [==============================] - 1s 6us/sample - loss: 1.5572 - accuracy: 0.5068 - val_loss: 1.5494 - val_accuracy: 0.5101\n",
      "Epoch 16/30\n",
      "80000/80000 [==============================] - 1s 6us/sample - loss: 1.5309 - accuracy: 0.5096 - val_loss: 1.5273 - val_accuracy: 0.5031\n",
      "Epoch 17/30\n",
      "80000/80000 [==============================] - 1s 6us/sample - loss: 1.5114 - accuracy: 0.5117 - val_loss: 1.4888 - val_accuracy: 0.5136\n",
      "Epoch 18/30\n",
      "80000/80000 [==============================] - 1s 6us/sample - loss: 1.4839 - accuracy: 0.5157 - val_loss: 1.4718 - val_accuracy: 0.5107\n",
      "Epoch 19/30\n",
      "80000/80000 [==============================] - 1s 7us/sample - loss: 1.4691 - accuracy: 0.5120 - val_loss: 1.4528 - val_accuracy: 0.5173\n",
      "Epoch 20/30\n",
      "80000/80000 [==============================] - 1s 7us/sample - loss: 1.4409 - accuracy: 0.5167 - val_loss: 1.4468 - val_accuracy: 0.5128\n",
      "Epoch 21/30\n",
      "80000/80000 [==============================] - 1s 6us/sample - loss: 1.4288 - accuracy: 0.5163 - val_loss: 1.4231 - val_accuracy: 0.5167\n",
      "Epoch 22/30\n",
      "80000/80000 [==============================] - 1s 6us/sample - loss: 1.4108 - accuracy: 0.5202 - val_loss: 1.4037 - val_accuracy: 0.5233\n",
      "Epoch 23/30\n",
      "80000/80000 [==============================] - 1s 7us/sample - loss: 1.3905 - accuracy: 0.5251 - val_loss: 1.3878 - val_accuracy: 0.5175\n",
      "Epoch 24/30\n",
      "80000/80000 [==============================] - 1s 6us/sample - loss: 1.3778 - accuracy: 0.5320 - val_loss: 1.3653 - val_accuracy: 0.5355\n",
      "Epoch 25/30\n",
      "80000/80000 [==============================] - 1s 6us/sample - loss: 1.3633 - accuracy: 0.5410 - val_loss: 1.3551 - val_accuracy: 0.5374\n",
      "Epoch 26/30\n",
      "80000/80000 [==============================] - 1s 6us/sample - loss: 1.3543 - accuracy: 0.5410 - val_loss: 1.3528 - val_accuracy: 0.5360\n",
      "Epoch 27/30\n",
      "80000/80000 [==============================] - 1s 6us/sample - loss: 1.3487 - accuracy: 0.5469 - val_loss: 1.3332 - val_accuracy: 0.5378\n",
      "Epoch 28/30\n",
      "80000/80000 [==============================] - 1s 6us/sample - loss: 1.3301 - accuracy: 0.5472 - val_loss: 1.3260 - val_accuracy: 0.5457\n",
      "Epoch 29/30\n",
      "80000/80000 [==============================] - 1s 6us/sample - loss: 1.3159 - accuracy: 0.5493 - val_loss: 1.3213 - val_accuracy: 0.5437\n",
      "Epoch 30/30\n",
      "80000/80000 [==============================] - 1s 6us/sample - loss: 1.3082 - accuracy: 0.5504 - val_loss: 1.3114 - val_accuracy: 0.5473\n"
     ]
    }
   ],
   "source": [
    "model.add(Dense(64, input_dim= 784, activation='relu'))\n",
    "model.add(Dense(32, activation='softmax'))\n",
    "model.add(Dense(10, activation='softmax'))\n",
    "model.compile(loss='sparse_categorical_crossentropy', optimizer='sgd', metrics=['accuracy'])\n",
    "baseline = model.fit(X, y, epochs=30, batch_size=350, validation_split =.2)"
   ]
  },
  {
   "cell_type": "markdown",
   "metadata": {
    "colab_type": "text",
    "id": "b0QJURWh-9uv"
   },
   "source": [
    "### Visualize the results\n",
    "\n",
    "Create charts for both loss and accuracy by epoch. Use line graphs for both charts. Analyze the results. \n",
    "\n",
    "At what point should we have stopped training the model and why? "
   ]
  },
  {
   "cell_type": "code",
   "execution_count": 93,
   "metadata": {
    "colab": {},
    "colab_type": "code",
    "id": "KONJtU5wqlXf"
   },
   "outputs": [
    {
     "data": {
      "text/plain": [
       "{'loss': [2.245739075988531,\n",
       "  2.157271112054586,\n",
       "  2.090531295090914,\n",
       "  2.0289108017086983,\n",
       "  1.9708182383328676,\n",
       "  1.9160474870353936,\n",
       "  1.8628038518875838,\n",
       "  1.8115246538072824,\n",
       "  1.768277208134532,\n",
       "  1.7247511611133814,\n",
       "  1.6887688679993154,\n",
       "  1.6504601871222258,\n",
       "  1.615170353129506,\n",
       "  1.5866758161038161,\n",
       "  1.5571511490643024,\n",
       "  1.5308621758967638,\n",
       "  1.5114470656216143,\n",
       "  1.4839311587810515,\n",
       "  1.4690517054498196,\n",
       "  1.4408852319419383,\n",
       "  1.4287514938414096,\n",
       "  1.4107656697183848,\n",
       "  1.3904890947043895,\n",
       "  1.377763813585043,\n",
       "  1.3632868547737598,\n",
       "  1.3542758958041667,\n",
       "  1.3487274131923914,\n",
       "  1.3300707460939885,\n",
       "  1.3158888286352157,\n",
       "  1.3081663344800472],\n",
       " 'accuracy': [0.1759,\n",
       "  0.274525,\n",
       "  0.3644875,\n",
       "  0.4125375,\n",
       "  0.4522625,\n",
       "  0.470375,\n",
       "  0.4812125,\n",
       "  0.490225,\n",
       "  0.4932875,\n",
       "  0.49415,\n",
       "  0.4932375,\n",
       "  0.494875,\n",
       "  0.50405,\n",
       "  0.5044125,\n",
       "  0.506775,\n",
       "  0.5095875,\n",
       "  0.5117,\n",
       "  0.5157375,\n",
       "  0.512025,\n",
       "  0.51675,\n",
       "  0.5162625,\n",
       "  0.5201875,\n",
       "  0.5250625,\n",
       "  0.531975,\n",
       "  0.540975,\n",
       "  0.5410125,\n",
       "  0.5469125,\n",
       "  0.5472,\n",
       "  0.5493,\n",
       "  0.5504375],\n",
       " 'val_loss': [2.1937633484601973,\n",
       "  2.1205018401145934,\n",
       "  2.0569682443141937,\n",
       "  1.9991445848345757,\n",
       "  1.9388650715351106,\n",
       "  1.8846825262904168,\n",
       "  1.833397923707962,\n",
       "  1.7856234747171402,\n",
       "  1.7607559257745742,\n",
       "  1.6992006179690362,\n",
       "  1.6679009568691254,\n",
       "  1.635102662742138,\n",
       "  1.5959066098928452,\n",
       "  1.5670498338341714,\n",
       "  1.5493970745801926,\n",
       "  1.5272968712449073,\n",
       "  1.4888041716814042,\n",
       "  1.4717835015058518,\n",
       "  1.452798707485199,\n",
       "  1.4468108636140824,\n",
       "  1.4230513301491738,\n",
       "  1.4036802998185158,\n",
       "  1.3878312027454376,\n",
       "  1.365349649488926,\n",
       "  1.3550817251205445,\n",
       "  1.3527902296185494,\n",
       "  1.3332434105873108,\n",
       "  1.3260386362671852,\n",
       "  1.3212935560941697,\n",
       "  1.3114281758666038],\n",
       " 'val_accuracy': [0.24915,\n",
       "  0.2949,\n",
       "  0.3934,\n",
       "  0.43775,\n",
       "  0.47085,\n",
       "  0.48325,\n",
       "  0.48595,\n",
       "  0.4933,\n",
       "  0.48305,\n",
       "  0.4975,\n",
       "  0.4938,\n",
       "  0.4897,\n",
       "  0.5042,\n",
       "  0.5128,\n",
       "  0.5101,\n",
       "  0.50305,\n",
       "  0.5136,\n",
       "  0.5107,\n",
       "  0.5173,\n",
       "  0.5128,\n",
       "  0.51675,\n",
       "  0.5233,\n",
       "  0.51755,\n",
       "  0.53555,\n",
       "  0.5374,\n",
       "  0.536,\n",
       "  0.5378,\n",
       "  0.5457,\n",
       "  0.5437,\n",
       "  0.54735]}"
      ]
     },
     "execution_count": 93,
     "metadata": {},
     "output_type": "execute_result"
    }
   ],
   "source": [
    "baseline.history"
   ]
  },
  {
   "cell_type": "code",
   "execution_count": 94,
   "metadata": {
    "colab": {},
    "colab_type": "code",
    "id": "ijAlzfYKAFaY"
   },
   "outputs": [
    {
     "data": {
      "image/png": "[encoded data removed]",
      "text/plain": [
       "<Figure size 432x288 with 1 Axes>"
      ]
     },
     "metadata": {
      "needs_background": "light"
     },
     "output_type": "display_data"
    }
   ],
   "source": [
    "import seaborn as sns\n",
    "import pandas as pd\n",
    "\n",
    "df = pd.DataFrame.from_records(baseline.history)\n",
    "df['epoch'] = [i for i in range(df.shape[0])]\n",
    "\n",
    "ax = sns.lineplot(x='epoch', y='val_loss', data=df)\n",
    "ax = sns.lineplot(x='epoch', y='loss', data=df);"
   ]
  },
  {
   "cell_type": "markdown",
   "metadata": {
    "colab_type": "text",
    "id": "MAhBrcE4yOZe"
   },
   "source": [
    "## Change Optimizers\n",
    "Try using the keras `adam` optimizer instead of `sgd` in your model. Visualize the difference in validation loss between the models with different optimizers. "
   ]
  },
  {
   "cell_type": "code",
   "execution_count": 101,
   "metadata": {},
   "outputs": [],
   "source": [
    "adam_model = Sequential()"
   ]
  },
  {
   "cell_type": "code",
   "execution_count": 102,
   "metadata": {},
   "outputs": [
    {
     "name": "stdout",
     "output_type": "stream",
     "text": [
      "Train on 80000 samples, validate on 20000 samples\n",
      "Epoch 1/30\n",
      "80000/80000 [==============================] - 1s 9us/sample - loss: 3.8621 - accuracy: 0.3039 - val_loss: 1.7515 - val_accuracy: 0.3717\n",
      "Epoch 2/30\n",
      "80000/80000 [==============================] - 1s 6us/sample - loss: 1.6411 - accuracy: 0.4051 - val_loss: 1.5591 - val_accuracy: 0.4353\n",
      "Epoch 3/30\n",
      "80000/80000 [==============================] - 1s 7us/sample - loss: 1.4986 - accuracy: 0.4524 - val_loss: 1.4763 - val_accuracy: 0.4478\n",
      "Epoch 4/30\n",
      "80000/80000 [==============================] - 1s 6us/sample - loss: 1.3975 - accuracy: 0.4774 - val_loss: 1.3833 - val_accuracy: 0.4886\n",
      "Epoch 5/30\n",
      "80000/80000 [==============================] - 1s 7us/sample - loss: 1.3093 - accuracy: 0.5126 - val_loss: 1.3038 - val_accuracy: 0.5315\n",
      "Epoch 6/30\n",
      "80000/80000 [==============================] - 1s 7us/sample - loss: 1.2221 - accuracy: 0.5465 - val_loss: 1.2352 - val_accuracy: 0.5547\n",
      "Epoch 7/30\n",
      "80000/80000 [==============================] - 1s 7us/sample - loss: 1.1243 - accuracy: 0.5805 - val_loss: 1.1379 - val_accuracy: 0.5931\n",
      "Epoch 8/30\n",
      "80000/80000 [==============================] - 1s 7us/sample - loss: 1.0278 - accuracy: 0.6234 - val_loss: 1.0509 - val_accuracy: 0.6309\n",
      "Epoch 9/30\n",
      "80000/80000 [==============================] - 1s 7us/sample - loss: 0.9353 - accuracy: 0.6909 - val_loss: 0.9347 - val_accuracy: 0.7272\n",
      "Epoch 10/30\n",
      "80000/80000 [==============================] - 1s 7us/sample - loss: 0.8154 - accuracy: 0.7545 - val_loss: 0.8383 - val_accuracy: 0.7557\n",
      "Epoch 11/30\n",
      "80000/80000 [==============================] - 1s 7us/sample - loss: 0.7403 - accuracy: 0.7812 - val_loss: 0.7714 - val_accuracy: 0.7803\n",
      "Epoch 12/30\n",
      "80000/80000 [==============================] - 1s 7us/sample - loss: 0.6914 - accuracy: 0.7954 - val_loss: 0.7378 - val_accuracy: 0.7926\n",
      "Epoch 13/30\n",
      "80000/80000 [==============================] - 1s 7us/sample - loss: 0.6472 - accuracy: 0.8105 - val_loss: 0.7036 - val_accuracy: 0.8043\n",
      "Epoch 14/30\n",
      "80000/80000 [==============================] - 1s 7us/sample - loss: 0.6232 - accuracy: 0.8174 - val_loss: 0.6980 - val_accuracy: 0.8056\n",
      "Epoch 15/30\n",
      "80000/80000 [==============================] - 1s 7us/sample - loss: 0.5971 - accuracy: 0.8263 - val_loss: 0.6936 - val_accuracy: 0.8050\n",
      "Epoch 16/30\n",
      "80000/80000 [==============================] - 1s 7us/sample - loss: 0.5798 - accuracy: 0.8313 - val_loss: 0.6642 - val_accuracy: 0.8126\n",
      "Epoch 17/30\n",
      "80000/80000 [==============================] - 1s 7us/sample - loss: 0.5623 - accuracy: 0.8364 - val_loss: 0.6686 - val_accuracy: 0.8125\n",
      "Epoch 18/30\n",
      "80000/80000 [==============================] - 1s 7us/sample - loss: 0.5436 - accuracy: 0.8417 - val_loss: 0.6453 - val_accuracy: 0.8209\n",
      "Epoch 19/30\n",
      "80000/80000 [==============================] - 1s 7us/sample - loss: 0.5319 - accuracy: 0.8438 - val_loss: 0.6623 - val_accuracy: 0.8190\n",
      "Epoch 20/30\n",
      "80000/80000 [==============================] - 1s 7us/sample - loss: 0.5178 - accuracy: 0.8482 - val_loss: 0.6514 - val_accuracy: 0.8268\n",
      "Epoch 21/30\n",
      "80000/80000 [==============================] - 1s 7us/sample - loss: 0.5075 - accuracy: 0.8521 - val_loss: 0.6439 - val_accuracy: 0.8231\n",
      "Epoch 22/30\n",
      "80000/80000 [==============================] - ETA: 0s - loss: 0.4931 - accuracy: 0.85 - 1s 7us/sample - loss: 0.4947 - accuracy: 0.8553 - val_loss: 0.6566 - val_accuracy: 0.8241\n",
      "Epoch 23/30\n",
      "80000/80000 [==============================] - 1s 7us/sample - loss: 0.4843 - accuracy: 0.8580 - val_loss: 0.6534 - val_accuracy: 0.8264\n",
      "Epoch 24/30\n",
      "80000/80000 [==============================] - 1s 7us/sample - loss: 0.4708 - accuracy: 0.8622 - val_loss: 0.6468 - val_accuracy: 0.8267\n",
      "Epoch 25/30\n",
      "80000/80000 [==============================] - 1s 7us/sample - loss: 0.4608 - accuracy: 0.8651 - val_loss: 0.6563 - val_accuracy: 0.8293\n",
      "Epoch 26/30\n",
      "80000/80000 [==============================] - 1s 7us/sample - loss: 0.4506 - accuracy: 0.8678 - val_loss: 0.6696 - val_accuracy: 0.8271\n",
      "Epoch 27/30\n",
      "80000/80000 [==============================] - 1s 7us/sample - loss: 0.4409 - accuracy: 0.8709 - val_loss: 0.6560 - val_accuracy: 0.8292\n",
      "Epoch 28/30\n",
      "80000/80000 [==============================] - 1s 7us/sample - loss: 0.4363 - accuracy: 0.8718 - val_loss: 0.6744 - val_accuracy: 0.8297\n",
      "Epoch 29/30\n",
      "80000/80000 [==============================] - ETA: 0s - loss: 0.4284 - accuracy: 0.8741 ETA: 0s - loss: 0.4152 -  - 1s 7us/sample - loss: 0.4281 - accuracy: 0.8743 - val_loss: 0.6730 - val_accuracy: 0.8291\n",
      "Epoch 30/30\n",
      "80000/80000 [==============================] - 1s 7us/sample - loss: 0.4169 - accuracy: 0.8783 - val_loss: 0.7050 - val_accuracy: 0.8237\n"
     ]
    }
   ],
   "source": [
    "adam_model.add(Dense(64, input_dim= 784, activation='relu'))\n",
    "adam_model.add(Dense(32, input_dim= 784, activation='relu'))\n",
    "adam_model.add(Dense(10, activation='softmax'))\n",
    "adam_model.compile(loss='sparse_categorical_crossentropy', optimizer='Adam', metrics=['accuracy'])\n",
    "adam_baseline = adam_model.fit(X, y, epochs=30, batch_size=200, validation_split =.2)"
   ]
  },
  {
   "cell_type": "code",
   "execution_count": 103,
   "metadata": {
    "colab": {},
    "colab_type": "code",
    "id": "jIW_spOZ0cxy"
   },
   "outputs": [
    {
     "data": {
      "image/png": "[encoded data removed]",
      "text/plain": [
       "<Figure size 432x288 with 1 Axes>"
      ]
     },
     "metadata": {
      "needs_background": "light"
     },
     "output_type": "display_data"
    }
   ],
   "source": [
    "adam_df = pd.DataFrame.from_records(adam_baseline.history)\n",
    "adam_df['epoch'] = [i for i in range(adam_df.shape[0])]\n",
    "\n",
    "ax = sns.lineplot(x='epoch', y='val_loss', data=adam_df)\n",
    "ax = sns.lineplot(x='epoch', y='val_loss', data=df);"
   ]
  },
  {
   "cell_type": "code",
   "execution_count": null,
   "metadata": {},
   "outputs": [],
   "source": []
  },
  {
   "cell_type": "markdown",
   "metadata": {
    "colab_type": "text",
    "id": "EJrbh3qryi4w"
   },
   "source": [
    "### Additional Written Tasks:\n",
    "In this section, you will need to search for resources: \n",
    "1. Investigate the various [loss functions](https://www.tensorflow.org/api_docs/python/tf/keras/losses). Which is best suited for the task at hand (predicting 1 / 0) and why? \n",
    "2. What is the difference between a loss function and a metric? Why might we need both in Keras? \n",
    "3. Investigate the various [optimizers](https://www.tensorflow.org/api_docs/python/tf/keras/optimizers). Stochastic Gradient Descent (`sgd`) is not the learning algorithm dejour anyone. Why is that? What do newer optimizers such as `adam` have to offer? "
   ]
  },
  {
   "cell_type": "code",
   "execution_count": null,
   "metadata": {},
   "outputs": [],
   "source": []
  },
  {
   "cell_type": "markdown",
   "metadata": {
    "colab_type": "text",
    "id": "Gzs4fd-RynDd"
   },
   "source": [
    "## Stretch Goals: \n",
    "\n",
    "- Research convolutional neural networks and try including convolution layers in your network.\n",
    "- Pick two classes and make QuickDraw a binary classification problem, how does your model architecture change?\n",
    "- Implement Cross Validation model evaluation on your Quickdraw implementation \n",
    "\n",
    "Watch some more videos on Gradient Descent:\n",
    "- [Gradient Descent, Step-by-Step](https://www.youtube.com/watch?v=sDv4f4s2SB8)  by StatQuest w/ Josh Starmer. This will help you understand the gradient descent based optimization that happens underneath the hood of neural networks. It uses a non-neural network example, which I believe is a gentler introduction. You will hear me refer to this technique as \"vanilla\" gradient descent. \n",
    "- [Stochastic Gradient Descent, Clearly Explained!!!](https://www.youtube.com/watch?v=vMh0zPT0tLI) by StatQuest w/ Josh Starmer. This builds on the techniques in the previous video.  This technique is the one that is actually implemented inside modern 'nets. \n",
    "- [Siraj Raval the evolution of gradient descent](https://www.youtube.com/watch?v=nhqo0u1a6fw)"
   ]
  }
 ],
 "metadata": {
  "accelerator": "GPU",
  "colab": {
   "collapsed_sections": [],
   "name": "LS_DS_432_TensorFlow_Assignment",
   "provenance": []
  },
  "kernelspec": {
   "display_name": "U4-S2-Neural-Networks (Python3)",
   "language": "python",
   "name": "u4-s2-neural-networks"
  },
  "language_info": {
   "codemirror_mode": {
    "name": "ipython",
    "version": 3
   },
   "file_extension": ".py",
   "mimetype": "text/x-python",
   "name": "python",
   "nbconvert_exporter": "python",
   "pygments_lexer": "ipython3",
   "version": "3.7.0"
  }
 },
 "nbformat": 4,
 "nbformat_minor": 4
}
